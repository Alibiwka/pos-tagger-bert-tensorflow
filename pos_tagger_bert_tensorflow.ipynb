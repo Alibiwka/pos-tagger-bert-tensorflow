{
 "cells": [
  {
   "cell_type": "markdown",
   "metadata": {},
   "source": [
    "# NATURAL LANGUAGE PROCESSING WITH TRANSFORMERS\n",
    "# Α Pos Tagger trained on UD treebank with finetuning a BERT model"
   ]
  },
  {
   "cell_type": "markdown",
   "metadata": {},
   "source": [
    "# Native BERT implementation"
   ]
  },
  {
   "cell_type": "code",
   "execution_count": 2,
   "metadata": {},
   "outputs": [],
   "source": [
    "# First install some extra packages\n",
    "# ! pip install pyconll # for UD treebank reading\n",
    "# ! pip install bert-tensorflow # for using bert model"
   ]
  },
  {
   "cell_type": "code",
   "execution_count": 1,
   "metadata": {},
   "outputs": [],
   "source": [
    "import pyconll, pickle, os, random, datetime, warnings, gc, urllib.request, zipfile, collections\n",
    "import numpy as np\n",
    "import matplotlib.pyplot as plt\n",
    "from sklearn.utils import shuffle\n",
    "from sklearn.metrics import recall_score, precision_score, classification_report, accuracy_score, confusion_matrix, f1_score\n",
    "from sklearn.model_selection import train_test_split, StratifiedKFold, KFold, GridSearchCV, learning_curve, cross_val_score\n",
    "from sklearn import preprocessing\n",
    "from sklearn.metrics.classification import UndefinedMetricWarning\n",
    "\n",
    "from IPython.display import Image \n",
    "warnings.filterwarnings(action='ignore', category=UndefinedMetricWarning)"
   ]
  },
  {
   "cell_type": "code",
   "execution_count": 2,
   "metadata": {},
   "outputs": [],
   "source": [
    "def plot_confusion_matrix(f1,\n",
    "                          cm,\n",
    "                          target_names,\n",
    "                          title='Confusion matrix',\n",
    "                          cmap=None,\n",
    "                          normalize=True,\n",
    "                          i=1):\n",
    "    \"\"\"\n",
    "    given a sklearn confusion matrix (cm), make a nice plot\n",
    "\n",
    "    Arguments\n",
    "    ---------\n",
    "    cm:           confusion matrix from sklearn.metrics.confusion_matrix\n",
    "\n",
    "    target_names: given classification classes such as [0, 1, 2]\n",
    "                  the class names, for example: ['high', 'medium', 'low']\n",
    "\n",
    "    title:        the text to display at the top of the matrix\n",
    "\n",
    "    cmap:         the gradient of the values displayed from matplotlib.pyplot.cm\n",
    "                  see http://matplotlib.org/examples/color/colormaps_reference.html\n",
    "                  plt.get_cmap('jet') or plt.cm.Blues\n",
    "\n",
    "    normalize:    If False, plot the raw numbers\n",
    "                  If True, plot the proportions\n",
    "\n",
    "    Usage\n",
    "    -----\n",
    "    plot_confusion_matrix(cm           = cm,                  # confusion matrix created by\n",
    "                                                              # sklearn.metrics.confusion_matrix\n",
    "                          normalize    = True,                # show proportions\n",
    "                          target_names = y_labels_vals,       # list of names of the classes\n",
    "                          title        = best_estimator_name) # title of graph\n",
    "\n",
    "    Citiation\n",
    "    ---------\n",
    "    http://scikit-learn.org/stable/auto_examples/model_selection/plot_confusion_matrix.html\n",
    "\n",
    "    \"\"\"\n",
    "    import matplotlib.pyplot as plt\n",
    "    import numpy as np\n",
    "    import itertools\n",
    "\n",
    "    accuracy = np.trace(cm) / float(np.sum(cm))\n",
    "    misclass = 1 - accuracy\n",
    "    plt.figure(figsize=(10, 6))\n",
    "    if cmap is None:\n",
    "        cmap = plt.get_cmap('Blues')\n",
    "\n",
    "    plt.imshow(cm, interpolation='nearest', cmap=cmap)\n",
    "    plt.title(title)\n",
    "    plt.colorbar()\n",
    "\n",
    "    if target_names is not None:\n",
    "        tick_marks = np.arange(len(target_names))\n",
    "        plt.xticks(tick_marks, target_names, rotation=45)\n",
    "        plt.yticks(tick_marks, target_names)\n",
    "\n",
    "    if normalize:\n",
    "        cm = cm.astype('float') / cm.sum(axis=1)[:, np.newaxis]\n",
    "\n",
    "\n",
    "    thresh = cm.max() / 1.5 if normalize else cm.max() / 2\n",
    "    for i, j in itertools.product(range(cm.shape[0]), range(cm.shape[1])):\n",
    "        if normalize:\n",
    "            plt.text(j, i, \"{:0.4f}\".format(cm[i, j]),\n",
    "                     horizontalalignment=\"center\",\n",
    "                     color=\"white\" if cm[i, j] > thresh else \"black\")\n",
    "        else:\n",
    "            plt.text(j, i, \"{:,}\".format(cm[i, j]),\n",
    "                     horizontalalignment=\"center\",\n",
    "                     color=\"white\" if cm[i, j] > thresh else \"black\")\n",
    "\n",
    "\n",
    "    plt.tight_layout()\n",
    "    plt.ylabel('True label')\n",
    "    plt.xlabel('Predicted label\\naccuracy={:0.4f}; misclass={:0.4f}; f1-score={:0.4f}'.format(accuracy, misclass, f1))"
   ]
  },
  {
   "cell_type": "code",
   "execution_count": 3,
   "metadata": {
    "nbpresent": {
     "id": "75d32121-1074-4cd6-8355-599afeff56db"
    }
   },
   "outputs": [],
   "source": [
    "UD_ENGLISH_TRAIN = 'en_partut-ud-train.conllu'\n",
    "UD_ENGLISH_DEV = 'en_partut-ud-dev.conllu'\n",
    "UD_ENGLISH_TEST = 'en_partut-ud-test.conllu'"
   ]
  },
  {
   "cell_type": "code",
   "execution_count": 4,
   "metadata": {
    "nbpresent": {
     "id": "2eb0b136-1052-4d48-8a66-48b5ebc96ff8"
    }
   },
   "outputs": [],
   "source": [
    "def download_files():\n",
    "    print('Downloading English treebank...')\n",
    "    urllib.request.urlretrieve('http://archive.aueb.gr:8085/files/en_partut-ud-dev.conllu', UD_ENGLISH_DEV)\n",
    "    urllib.request.urlretrieve('http://archive.aueb.gr:8085/files/en_partut-ud-test.conllu', UD_ENGLISH_TEST)\n",
    "    urllib.request.urlretrieve('http://archive.aueb.gr:8085/files/en_partut-ud-train.conllu', UD_ENGLISH_TRAIN)\n",
    "    print('Treebank downloaded.')\n",
    "    print('Downloading pre-trained BERT model...')\n",
    "    urllib.request.urlretrieve('https://storage.googleapis.com/bert_models/2018_10_18/uncased_L-12_H-768_A-12.zip', 'uncased_L-12_H-768_A-12.zip')\n",
    "    print('Pre-trained BERT model downloaded.')\n",
    "    print('Extracting zip file...')\n",
    "    zip_ref = zipfile.ZipFile('uncased_L-12_H-768_A-12.zip', 'r')\n",
    "    zip_ref.extractall('.')\n",
    "    zip_ref.close()\n",
    "    print('Zip file extracted.')"
   ]
  },
  {
   "cell_type": "markdown",
   "metadata": {},
   "source": [
    "First we download English treebank and pre-trained BERT model:"
   ]
  },
  {
   "cell_type": "code",
   "execution_count": 5,
   "metadata": {
    "nbpresent": {
     "id": "4e617ca6-4cce-42a0-9396-28b9d704df73"
    }
   },
   "outputs": [
    {
     "name": "stdout",
     "output_type": "stream",
     "text": [
      "Downloading English treebank...\n",
      "Treebank downloaded.\n",
      "Downloading pre-trained BERT model...\n",
      "Pre-trained BERT model downloaded.\n",
      "Extracting zip file...\n",
      "Zip file extracted.\n"
     ]
    }
   ],
   "source": [
    "download_files()"
   ]
  },
  {
   "cell_type": "markdown",
   "metadata": {
    "nbpresent": {
     "id": "43c9097b-37be-4f3d-b3d3-4a54a94c1174"
    }
   },
   "source": [
    "# Preprocessing"
   ]
  },
  {
   "cell_type": "code",
   "execution_count": 6,
   "metadata": {
    "nbpresent": {
     "id": "016836bb-abb2-4235-ab21-df90a6e1e44e"
    }
   },
   "outputs": [],
   "source": [
    "def read_conllu(path):\n",
    "    data = pyconll.load_from_file(path)\n",
    "    tagged_sentences=[]\n",
    "    t=0\n",
    "    for sentence in data:\n",
    "        tagged_sentence=[]\n",
    "        for token in sentence:\n",
    "            if token.upos and token.form:\n",
    "                t+=1\n",
    "                tagged_sentence.append((token.form.lower(), token.upos))\n",
    "        tagged_sentences.append(tagged_sentence)\n",
    "    return tagged_sentences"
   ]
  },
  {
   "cell_type": "markdown",
   "metadata": {
    "nbpresent": {
     "id": "11bff856-f685-49ef-a4e6-b5f2a768a9ad"
    }
   },
   "source": [
    "Load train, development and test set in the appropriate tagged format, tuple (word, pos-tag)"
   ]
  },
  {
   "cell_type": "code",
   "execution_count": 7,
   "metadata": {
    "nbpresent": {
     "id": "fc49598b-75d3-45e9-9fa3-a7b604234760"
    }
   },
   "outputs": [],
   "source": [
    "train_sentences = read_conllu(UD_ENGLISH_TRAIN)\n",
    "val_sentences = read_conllu(UD_ENGLISH_DEV)\n",
    "test_sentences = read_conllu(UD_ENGLISH_TEST)"
   ]
  },
  {
   "cell_type": "markdown",
   "metadata": {
    "nbpresent": {
     "id": "3f72d1da-c1d1-4e25-a782-e12a66f1cedf"
    }
   },
   "source": [
    "Print some statistics"
   ]
  },
  {
   "cell_type": "code",
   "execution_count": 8,
   "metadata": {
    "nbpresent": {
     "id": "57ee9c67-7ec6-4054-91bc-a9aa896ba18a"
    }
   },
   "outputs": [
    {
     "name": "stdout",
     "output_type": "stream",
     "text": [
      "Tagged sentences in train set:  1781\n",
      "Tagged words in train set: 43518\n",
      "========================================\n",
      "Tagged sentences in dev set:  156\n",
      "Tagged words in dev set: 2722\n",
      "========================================\n",
      "Tagged sentences in test set:  153\n",
      "Tagged words in test set: 3408\n",
      "****************************************\n",
      "Total sentences in dataset: 2090\n"
     ]
    }
   ],
   "source": [
    "print(\"Tagged sentences in train set: \", len(train_sentences))\n",
    "print(\"Tagged words in train set:\", len([item for sublist in train_sentences for item in sublist]))\n",
    "print(40*'=')\n",
    "print(\"Tagged sentences in dev set: \", len(val_sentences))\n",
    "print(\"Tagged words in dev set:\", len([item for sublist in val_sentences for item in sublist]))\n",
    "print(40*'=')\n",
    "print(\"Tagged sentences in test set: \", len(test_sentences))\n",
    "print(\"Tagged words in test set:\", len([item for sublist in test_sentences for item in sublist]))\n",
    "print(40*'*')\n",
    "print(\"Total sentences in dataset:\", len(train_sentences)+len(val_sentences)+len(test_sentences))"
   ]
  },
  {
   "cell_type": "code",
   "execution_count": 9,
   "metadata": {
    "nbpresent": {
     "id": "eb97895a-d649-4318-b3ac-d7d6b6088a12"
    }
   },
   "outputs": [
    {
     "name": "stdout",
     "output_type": "stream",
     "text": [
      "[('distribution', 'NOUN'), ('of', 'ADP'), ('this', 'DET'), ('license', 'NOUN'), ('does', 'AUX'), ('not', 'PART'), ('create', 'VERB'), ('an', 'DET'), ('attorney', 'NOUN'), ('-', 'PUNCT'), ('client', 'NOUN'), ('relationship', 'NOUN'), ('.', 'PUNCT')]\n"
     ]
    }
   ],
   "source": [
    "print(train_sentences[0])"
   ]
  },
  {
   "cell_type": "code",
   "execution_count": 10,
   "metadata": {
    "nbpresent": {
     "id": "573e2ec4-2df3-49f2-913d-3d0af2d6dc36"
    }
   },
   "outputs": [],
   "source": [
    "# Some usefull functions\n",
    "def tag_sequence(sentences):\n",
    "    return [[t for w, t in sentence] for sentence in sentences]\n",
    "\n",
    "def text_sequence(sentences):\n",
    "    return [[w for w, t in sentence] for sentence in sentences]"
   ]
  },
  {
   "cell_type": "code",
   "execution_count": 14,
   "metadata": {
    "nbpresent": {
     "id": "81781553-5840-4539-8e31-ebf941647e22"
    }
   },
   "outputs": [],
   "source": [
    "train_text = text_sequence(train_sentences)\n",
    "test_text = text_sequence(test_sentences)\n",
    "val_text = text_sequence(val_sentences)\n",
    "\n",
    "train_label = tag_sequence(train_sentences)\n",
    "test_label= tag_sequence(test_sentences)\n",
    "val_label= tag_sequence(val_sentences)"
   ]
  },
  {
   "cell_type": "code",
   "execution_count": 15,
   "metadata": {},
   "outputs": [
    {
     "name": "stdout",
     "output_type": "stream",
     "text": [
      "Max sentence length: 209\n"
     ]
    }
   ],
   "source": [
    "MAX_SEQUENCE_LENGTH=len(max(train_sentences+val_sentences+test_sentences, key=len))\n",
    "print('Max sentence length:',MAX_SEQUENCE_LENGTH)"
   ]
  },
  {
   "cell_type": "code",
   "execution_count": 16,
   "metadata": {},
   "outputs": [
    {
     "data": {
      "text/plain": [
       "([['distribution',\n",
       "   'of',\n",
       "   'this',\n",
       "   'license',\n",
       "   'does',\n",
       "   'not',\n",
       "   'create',\n",
       "   'an',\n",
       "   'attorney',\n",
       "   '-',\n",
       "   'client',\n",
       "   'relationship',\n",
       "   '.']],\n",
       " [['NOUN',\n",
       "   'ADP',\n",
       "   'DET',\n",
       "   'NOUN',\n",
       "   'AUX',\n",
       "   'PART',\n",
       "   'VERB',\n",
       "   'DET',\n",
       "   'NOUN',\n",
       "   'PUNCT',\n",
       "   'NOUN',\n",
       "   'NOUN',\n",
       "   'PUNCT']])"
      ]
     },
     "execution_count": 16,
     "metadata": {},
     "output_type": "execute_result"
    }
   ],
   "source": [
    "train_text[0:1], train_label[0:1]"
   ]
  },
  {
   "cell_type": "markdown",
   "metadata": {},
   "source": [
    "Convert our UD dataset to NER conllu format and save in 'data' directory:"
   ]
  },
  {
   "cell_type": "code",
   "execution_count": 17,
   "metadata": {},
   "outputs": [],
   "source": [
    "def convert_ner_format(text, label, file):\n",
    "    with open(file, 'w') as f:\n",
    "        words=0\n",
    "        i=0\n",
    "        for zip_i in zip(text, label):\n",
    "            a, b = tuple(zip_i)\n",
    "            for r in range(len(a)):\n",
    "                item = a[r]+' '+b[r]\n",
    "                f.write(\"%s\\n\" % item)\n",
    "                words+=1\n",
    "            f.write(\"\\n\")\n",
    "            i+=1\n",
    "            #if i==3: break\n",
    "    print('Sentences:',i,'Words:',words)"
   ]
  },
  {
   "cell_type": "code",
   "execution_count": 18,
   "metadata": {},
   "outputs": [
    {
     "name": "stdout",
     "output_type": "stream",
     "text": [
      "Sentences: 1781 Words: 43518\n",
      "Sentences: 153 Words: 3408\n",
      "Sentences: 156 Words: 2722\n"
     ]
    }
   ],
   "source": [
    "convert_ner_format(train_text, train_label, 'data/train.txt')\n",
    "convert_ner_format(test_text, test_label, 'data/test.txt')\n",
    "convert_ner_format(val_text, val_label, 'data/dev.txt')"
   ]
  },
  {
   "cell_type": "markdown",
   "metadata": {},
   "source": [
    "# Run BERT fine-tuning"
   ]
  },
  {
   "cell_type": "code",
   "execution_count": 19,
   "metadata": {
    "nbpresent": {
     "id": "62b0877c-64fa-4f42-b18c-2fc0f5989223"
    }
   },
   "outputs": [],
   "source": [
    "MAX_SEQUENCE_LENGTH = MAX_SEQUENCE_LENGTH+2 # +2 for [CLS], [SEP] tokens"
   ]
  },
  {
   "cell_type": "code",
   "execution_count": 20,
   "metadata": {},
   "outputs": [],
   "source": [
    "! rm -rf ./output/result_dir/*"
   ]
  },
  {
   "cell_type": "code",
   "execution_count": 18,
   "metadata": {},
   "outputs": [
    {
     "name": "stderr",
     "output_type": "stream",
     "text": [
      "W0521 22:59:06.862257 140480743667456 estimator.py:1924] Estimator's model_fn (<function model_fn_builder.<locals>.model_fn at 0x7fc402d87158>) includes params argument, but params are not passed to Estimator.\n",
      "I0521 22:59:06.863543 140480743667456 estimator.py:201] Using config: {'_model_dir': './output/result_dir', '_tf_random_seed': None, '_save_summary_steps': 100, '_save_checkpoints_steps': 1000, '_save_checkpoints_secs': None, '_session_config': allow_soft_placement: true\n",
      "graph_options {\n",
      "  rewrite_options {\n",
      "    meta_optimizer_iterations: ONE\n",
      "  }\n",
      "}\n",
      ", '_keep_checkpoint_max': 5, '_keep_checkpoint_every_n_hours': 10000, '_log_step_count_steps': None, '_train_distribute': None, '_device_fn': None, '_protocol': None, '_eval_distribute': None, '_experimental_distribute': None, '_service': None, '_cluster_spec': <tensorflow.python.training.server_lib.ClusterSpec object at 0x7fc4044af9b0>, '_task_type': 'worker', '_task_id': 0, '_global_id_in_cluster': 0, '_master': '', '_evaluation_master': '', '_is_chief': True, '_num_ps_replicas': 0, '_num_worker_replicas': 1, '_tpu_config': TPUConfig(iterations_per_loop=1000, num_shards=8, num_cores_per_replica=None, per_host_input_for_training=3, tpu_job_name=None, initial_infeed_sleep_secs=None, input_partition_dims=None), '_cluster': None}\n",
      "I0521 22:59:06.864130 140480743667456 tpu_context.py:202] _TPUContext: eval_on_tpu True\n",
      "W0521 22:59:06.864796 140480743667456 tpu_context.py:204] eval_on_tpu ignored because use_tpu is False.\n",
      "I0521 22:59:06.865655 140480743667456 bert_pos.py:331] Writing example 0 of 1614\n",
      "I0521 22:59:06.866527 140480743667456 bert_pos.py:308] *** Example ***\n",
      "I0521 22:59:06.866910 140480743667456 bert_pos.py:309] guid: train-0\n",
      "I0521 22:59:06.867297 140480743667456 bert_pos.py:311] tokens: distribution of this license does not create an attorney - client relationship .\n",
      "I0521 22:59:06.867608 140480743667456 bert_pos.py:312] input_ids: 101 4353 1997 2023 6105 2515 2025 3443 2019 4905 1011 7396 3276 1012 102 0 0 0 0 0 0 0 0 0 0 0 0 0 0 0 0 0 0 0 0 0 0 0 0 0 0 0 0 0 0 0 0 0 0 0 0 0 0 0 0 0 0 0 0 0 0 0 0 0 0 0 0 0 0 0 0 0 0 0 0 0 0 0 0 0 0 0 0 0 0 0 0 0 0 0 0 0 0 0 0 0 0 0 0 0 0 0 0 0 0 0 0 0 0 0 0 0 0 0 0 0 0 0 0 0 0 0 0 0 0 0 0 0 0 0 0 0 0 0 0 0 0 0 0 0 0 0 0 0 0 0 0 0 0 0 0 0 0 0 0 0 0 0 0 0 0 0 0 0 0 0 0 0 0 0 0 0 0 0 0 0 0 0 0 0 0 0 0 0 0 0 0 0 0 0 0 0 0 0 0 0 0 0 0 0 0 0 0 0 0 0 0 0 0 0 0\n",
      "I0521 22:59:06.867933 140480743667456 bert_pos.py:313] input_mask: 1 1 1 1 1 1 1 1 1 1 1 1 1 1 1 0 0 0 0 0 0 0 0 0 0 0 0 0 0 0 0 0 0 0 0 0 0 0 0 0 0 0 0 0 0 0 0 0 0 0 0 0 0 0 0 0 0 0 0 0 0 0 0 0 0 0 0 0 0 0 0 0 0 0 0 0 0 0 0 0 0 0 0 0 0 0 0 0 0 0 0 0 0 0 0 0 0 0 0 0 0 0 0 0 0 0 0 0 0 0 0 0 0 0 0 0 0 0 0 0 0 0 0 0 0 0 0 0 0 0 0 0 0 0 0 0 0 0 0 0 0 0 0 0 0 0 0 0 0 0 0 0 0 0 0 0 0 0 0 0 0 0 0 0 0 0 0 0 0 0 0 0 0 0 0 0 0 0 0 0 0 0 0 0 0 0 0 0 0 0 0 0 0 0 0 0 0 0 0 0 0 0 0 0 0 0 0 0 0 0 0\n",
      "I0521 22:59:06.868251 140480743667456 bert_pos.py:314] segment_ids: 0 0 0 0 0 0 0 0 0 0 0 0 0 0 0 0 0 0 0 0 0 0 0 0 0 0 0 0 0 0 0 0 0 0 0 0 0 0 0 0 0 0 0 0 0 0 0 0 0 0 0 0 0 0 0 0 0 0 0 0 0 0 0 0 0 0 0 0 0 0 0 0 0 0 0 0 0 0 0 0 0 0 0 0 0 0 0 0 0 0 0 0 0 0 0 0 0 0 0 0 0 0 0 0 0 0 0 0 0 0 0 0 0 0 0 0 0 0 0 0 0 0 0 0 0 0 0 0 0 0 0 0 0 0 0 0 0 0 0 0 0 0 0 0 0 0 0 0 0 0 0 0 0 0 0 0 0 0 0 0 0 0 0 0 0 0 0 0 0 0 0 0 0 0 0 0 0 0 0 0 0 0 0 0 0 0 0 0 0 0 0 0 0 0 0 0 0 0 0 0 0 0 0 0 0 0 0 0 0 0 0\n",
      "I0521 22:59:06.868551 140480743667456 bert_pos.py:315] label_ids: 19 8 2 6 8 4 10 16 6 8 13 8 8 13 20 0 0 0 0 0 0 0 0 0 0 0 0 0 0 0 0 0 0 0 0 0 0 0 0 0 0 0 0 0 0 0 0 0 0 0 0 0 0 0 0 0 0 0 0 0 0 0 0 0 0 0 0 0 0 0 0 0 0 0 0 0 0 0 0 0 0 0 0 0 0 0 0 0 0 0 0 0 0 0 0 0 0 0 0 0 0 0 0 0 0 0 0 0 0 0 0 0 0 0 0 0 0 0 0 0 0 0 0 0 0 0 0 0 0 0 0 0 0 0 0 0 0 0 0 0 0 0 0 0 0 0 0 0 0 0 0 0 0 0 0 0 0 0 0 0 0 0 0 0 0 0 0 0 0 0 0 0 0 0 0 0 0 0 0 0 0 0 0 0 0 0 0 0 0 0 0 0 0 0 0 0 0 0 0 0 0 0 0 0 0 0 0 0 0 0 0\n",
      "I0521 22:59:06.869903 140480743667456 bert_pos.py:308] *** Example ***\n",
      "I0521 22:59:06.870187 140480743667456 bert_pos.py:309] guid: train-1\n",
      "I0521 22:59:06.870449 140480743667456 bert_pos.py:311] tokens: creative commons provides this information on an \" as - is \" basis .\n",
      "I0521 22:59:06.870723 140480743667456 bert_pos.py:312] input_ids: 101 5541 7674 3640 2023 2592 2006 2019 1000 2004 1011 2003 1000 3978 1012 102 0 0 0 0 0 0 0 0 0 0 0 0 0 0 0 0 0 0 0 0 0 0 0 0 0 0 0 0 0 0 0 0 0 0 0 0 0 0 0 0 0 0 0 0 0 0 0 0 0 0 0 0 0 0 0 0 0 0 0 0 0 0 0 0 0 0 0 0 0 0 0 0 0 0 0 0 0 0 0 0 0 0 0 0 0 0 0 0 0 0 0 0 0 0 0 0 0 0 0 0 0 0 0 0 0 0 0 0 0 0 0 0 0 0 0 0 0 0 0 0 0 0 0 0 0 0 0 0 0 0 0 0 0 0 0 0 0 0 0 0 0 0 0 0 0 0 0 0 0 0 0 0 0 0 0 0 0 0 0 0 0 0 0 0 0 0 0 0 0 0 0 0 0 0 0 0 0 0 0 0 0 0 0 0 0 0 0 0 0 0 0 0 0 0 0\n",
      "I0521 22:59:06.870997 140480743667456 bert_pos.py:313] input_mask: 1 1 1 1 1 1 1 1 1 1 1 1 1 1 1 1 0 0 0 0 0 0 0 0 0 0 0 0 0 0 0 0 0 0 0 0 0 0 0 0 0 0 0 0 0 0 0 0 0 0 0 0 0 0 0 0 0 0 0 0 0 0 0 0 0 0 0 0 0 0 0 0 0 0 0 0 0 0 0 0 0 0 0 0 0 0 0 0 0 0 0 0 0 0 0 0 0 0 0 0 0 0 0 0 0 0 0 0 0 0 0 0 0 0 0 0 0 0 0 0 0 0 0 0 0 0 0 0 0 0 0 0 0 0 0 0 0 0 0 0 0 0 0 0 0 0 0 0 0 0 0 0 0 0 0 0 0 0 0 0 0 0 0 0 0 0 0 0 0 0 0 0 0 0 0 0 0 0 0 0 0 0 0 0 0 0 0 0 0 0 0 0 0 0 0 0 0 0 0 0 0 0 0 0 0 0 0 0 0 0 0\n",
      "I0521 22:59:06.871280 140480743667456 bert_pos.py:314] segment_ids: 0 0 0 0 0 0 0 0 0 0 0 0 0 0 0 0 0 0 0 0 0 0 0 0 0 0 0 0 0 0 0 0 0 0 0 0 0 0 0 0 0 0 0 0 0 0 0 0 0 0 0 0 0 0 0 0 0 0 0 0 0 0 0 0 0 0 0 0 0 0 0 0 0 0 0 0 0 0 0 0 0 0 0 0 0 0 0 0 0 0 0 0 0 0 0 0 0 0 0 0 0 0 0 0 0 0 0 0 0 0 0 0 0 0 0 0 0 0 0 0 0 0 0 0 0 0 0 0 0 0 0 0 0 0 0 0 0 0 0 0 0 0 0 0 0 0 0 0 0 0 0 0 0 0 0 0 0 0 0 0 0 0 0 0 0 0 0 0 0 0 0 0 0 0 0 0 0 0 0 0 0 0 0 0 0 0 0 0 0 0 0 0 0 0 0 0 0 0 0 0 0 0 0 0 0 0 0 0 0 0 0\n",
      "I0521 22:59:06.871549 140480743667456 bert_pos.py:315] label_ids: 19 12 12 16 6 8 2 6 13 2 13 16 13 8 13 20 0 0 0 0 0 0 0 0 0 0 0 0 0 0 0 0 0 0 0 0 0 0 0 0 0 0 0 0 0 0 0 0 0 0 0 0 0 0 0 0 0 0 0 0 0 0 0 0 0 0 0 0 0 0 0 0 0 0 0 0 0 0 0 0 0 0 0 0 0 0 0 0 0 0 0 0 0 0 0 0 0 0 0 0 0 0 0 0 0 0 0 0 0 0 0 0 0 0 0 0 0 0 0 0 0 0 0 0 0 0 0 0 0 0 0 0 0 0 0 0 0 0 0 0 0 0 0 0 0 0 0 0 0 0 0 0 0 0 0 0 0 0 0 0 0 0 0 0 0 0 0 0 0 0 0 0 0 0 0 0 0 0 0 0 0 0 0 0 0 0 0 0 0 0 0 0 0 0 0 0 0 0 0 0 0 0 0 0 0 0 0 0 0 0 0\n",
      "I0521 22:59:06.872968 140480743667456 bert_pos.py:308] *** Example ***\n",
      "I0521 22:59:06.873235 140480743667456 bert_pos.py:309] guid: train-2\n",
      "I0521 22:59:06.873540 140480743667456 bert_pos.py:311] tokens: creative commons makes no warrant ##ies regarding the information provided , and disc ##lai ##ms liability for damages resulting from its use .\n",
      "I0521 22:59:06.873830 140480743667456 bert_pos.py:312] input_ids: 101 5541 7674 3084 2053 10943 3111 4953 1996 2592 3024 1010 1998 5860 19771 5244 14000 2005 12394 4525 2013 2049 2224 1012 102 0 0 0 0 0 0 0 0 0 0 0 0 0 0 0 0 0 0 0 0 0 0 0 0 0 0 0 0 0 0 0 0 0 0 0 0 0 0 0 0 0 0 0 0 0 0 0 0 0 0 0 0 0 0 0 0 0 0 0 0 0 0 0 0 0 0 0 0 0 0 0 0 0 0 0 0 0 0 0 0 0 0 0 0 0 0 0 0 0 0 0 0 0 0 0 0 0 0 0 0 0 0 0 0 0 0 0 0 0 0 0 0 0 0 0 0 0 0 0 0 0 0 0 0 0 0 0 0 0 0 0 0 0 0 0 0 0 0 0 0 0 0 0 0 0 0 0 0 0 0 0 0 0 0 0 0 0 0 0 0 0 0 0 0 0 0 0 0 0 0 0 0 0 0 0 0 0 0 0 0 0 0 0 0 0 0\n",
      "I0521 22:59:06.874127 140480743667456 bert_pos.py:313] input_mask: 1 1 1 1 1 1 1 1 1 1 1 1 1 1 1 1 1 1 1 1 1 1 1 1 1 0 0 0 0 0 0 0 0 0 0 0 0 0 0 0 0 0 0 0 0 0 0 0 0 0 0 0 0 0 0 0 0 0 0 0 0 0 0 0 0 0 0 0 0 0 0 0 0 0 0 0 0 0 0 0 0 0 0 0 0 0 0 0 0 0 0 0 0 0 0 0 0 0 0 0 0 0 0 0 0 0 0 0 0 0 0 0 0 0 0 0 0 0 0 0 0 0 0 0 0 0 0 0 0 0 0 0 0 0 0 0 0 0 0 0 0 0 0 0 0 0 0 0 0 0 0 0 0 0 0 0 0 0 0 0 0 0 0 0 0 0 0 0 0 0 0 0 0 0 0 0 0 0 0 0 0 0 0 0 0 0 0 0 0 0 0 0 0 0 0 0 0 0 0 0 0 0 0 0 0 0 0 0 0 0 0\n",
      "I0521 22:59:06.874428 140480743667456 bert_pos.py:314] segment_ids: 0 0 0 0 0 0 0 0 0 0 0 0 0 0 0 0 0 0 0 0 0 0 0 0 0 0 0 0 0 0 0 0 0 0 0 0 0 0 0 0 0 0 0 0 0 0 0 0 0 0 0 0 0 0 0 0 0 0 0 0 0 0 0 0 0 0 0 0 0 0 0 0 0 0 0 0 0 0 0 0 0 0 0 0 0 0 0 0 0 0 0 0 0 0 0 0 0 0 0 0 0 0 0 0 0 0 0 0 0 0 0 0 0 0 0 0 0 0 0 0 0 0 0 0 0 0 0 0 0 0 0 0 0 0 0 0 0 0 0 0 0 0 0 0 0 0 0 0 0 0 0 0 0 0 0 0 0 0 0 0 0 0 0 0 0 0 0 0 0 0 0 0 0 0 0 0 0 0 0 0 0 0 0 0 0 0 0 0 0 0 0 0 0 0 0 0 0 0 0 0 0 0 0 0 0 0 0 0 0 0 0\n",
      "I0521 22:59:06.874716 140480743667456 bert_pos.py:315] label_ids: 19 12 12 16 6 8 18 16 6 8 16 13 5 16 18 18 8 2 8 16 2 6 8 13 20 0 0 0 0 0 0 0 0 0 0 0 0 0 0 0 0 0 0 0 0 0 0 0 0 0 0 0 0 0 0 0 0 0 0 0 0 0 0 0 0 0 0 0 0 0 0 0 0 0 0 0 0 0 0 0 0 0 0 0 0 0 0 0 0 0 0 0 0 0 0 0 0 0 0 0 0 0 0 0 0 0 0 0 0 0 0 0 0 0 0 0 0 0 0 0 0 0 0 0 0 0 0 0 0 0 0 0 0 0 0 0 0 0 0 0 0 0 0 0 0 0 0 0 0 0 0 0 0 0 0 0 0 0 0 0 0 0 0 0 0 0 0 0 0 0 0 0 0 0 0 0 0 0 0 0 0 0 0 0 0 0 0 0 0 0 0 0 0 0 0 0 0 0 0 0 0 0 0 0 0 0 0 0 0 0 0\n"
     ]
    },
    {
     "name": "stdout",
     "output_type": "stream",
     "text": [
      "\n",
      "WARNING: The TensorFlow contrib module will not be included in TensorFlow 2.0.\n",
      "For more information, please see:\n",
      "  * https://github.com/tensorflow/community/blob/master/rfcs/20180907-contrib-sunset.md\n",
      "  * https://github.com/tensorflow/addons\n",
      "If you depend on functionality not listed there, please file an issue.\n",
      "\n"
     ]
    },
    {
     "name": "stderr",
     "output_type": "stream",
     "text": [
      "I0521 22:59:07.861638 140480743667456 bert_pos.py:623] ***** Running training *****\n",
      "I0521 22:59:07.862088 140480743667456 bert_pos.py:624]   Num examples = 1614\n",
      "I0521 22:59:07.862474 140480743667456 bert_pos.py:625]   Batch size = 16\n",
      "I0521 22:59:07.862802 140480743667456 bert_pos.py:626]   Num steps = 403\n",
      "W0521 22:59:07.867192 140480743667456 deprecation.py:323] From /home/dbnet/anaconda3/lib/python3.6/site-packages/tensorflow/python/ops/resource_variable_ops.py:435: colocate_with (from tensorflow.python.framework.ops) is deprecated and will be removed in a future version.\n",
      "Instructions for updating:\n",
      "Colocations handled automatically by placer.\n",
      "W0521 22:59:07.886538 140480743667456 deprecation.py:323] From /home/dbnet/stout/BERT-POS/bert_pos.py:363: to_int32 (from tensorflow.python.ops.math_ops) is deprecated and will be removed in a future version.\n",
      "Instructions for updating:\n",
      "Use tf.cast instead.\n",
      "I0521 22:59:07.901232 140480743667456 estimator.py:1111] Calling model_fn.\n",
      "I0521 22:59:07.901769 140480743667456 tpu_estimator.py:2532] Running train on CPU\n",
      "I0521 22:59:07.902346 140480743667456 bert_pos.py:458] *** Features ***\n",
      "I0521 22:59:07.902828 140480743667456 bert_pos.py:460]   name = input_ids, shape = (16, 211)\n",
      "I0521 22:59:07.903577 140480743667456 bert_pos.py:460]   name = label_ids, shape = (16, 211)\n",
      "I0521 22:59:07.903898 140480743667456 bert_pos.py:460]   name = mask, shape = (16, 211)\n",
      "I0521 22:59:07.904230 140480743667456 bert_pos.py:460]   name = segment_ids, shape = (16, 211)\n",
      "W0521 22:59:07.940070 140480743667456 deprecation.py:506] From /home/dbnet/anaconda3/lib/python3.6/site-packages/bert/modeling.py:358: calling dropout (from tensorflow.python.ops.nn_ops) with keep_prob is deprecated and will be removed in a future version.\n",
      "Instructions for updating:\n",
      "Please use `rate` instead of `keep_prob`. Rate should be set to `rate = 1 - keep_prob`.\n",
      "W0521 22:59:07.950121 140480743667456 deprecation.py:323] From /home/dbnet/anaconda3/lib/python3.6/site-packages/bert/modeling.py:671: dense (from tensorflow.python.layers.core) is deprecated and will be removed in a future version.\n",
      "Instructions for updating:\n",
      "Use keras.layers.dense instead.\n",
      "W0521 22:59:09.448450 140480743667456 deprecation.py:323] From /home/dbnet/anaconda3/lib/python3.6/site-packages/tensorflow/contrib/crf/python/ops/crf.py:213: dynamic_rnn (from tensorflow.python.ops.rnn) is deprecated and will be removed in a future version.\n",
      "Instructions for updating:\n",
      "Please use `keras.layers.RNN(cell)`, which is equivalent to this API\n",
      "I0521 22:59:10.674417 140480743667456 bert_pos.py:489] **** Trainable Variables ****\n",
      "I0521 22:59:10.675065 140480743667456 bert_pos.py:495]   name = bert/embeddings/word_embeddings:0, shape = (30522, 768), *INIT_FROM_CKPT*\n",
      "I0521 22:59:10.675383 140480743667456 bert_pos.py:495]   name = bert/embeddings/token_type_embeddings:0, shape = (2, 768), *INIT_FROM_CKPT*\n",
      "I0521 22:59:10.675791 140480743667456 bert_pos.py:495]   name = bert/embeddings/position_embeddings:0, shape = (512, 768), *INIT_FROM_CKPT*\n",
      "I0521 22:59:10.676090 140480743667456 bert_pos.py:495]   name = bert/embeddings/LayerNorm/beta:0, shape = (768,), *INIT_FROM_CKPT*\n",
      "I0521 22:59:10.676432 140480743667456 bert_pos.py:495]   name = bert/embeddings/LayerNorm/gamma:0, shape = (768,), *INIT_FROM_CKPT*\n",
      "I0521 22:59:10.676745 140480743667456 bert_pos.py:495]   name = bert/encoder/layer_0/attention/self/query/kernel:0, shape = (768, 768), *INIT_FROM_CKPT*\n",
      "I0521 22:59:10.677040 140480743667456 bert_pos.py:495]   name = bert/encoder/layer_0/attention/self/query/bias:0, shape = (768,), *INIT_FROM_CKPT*\n",
      "I0521 22:59:10.677359 140480743667456 bert_pos.py:495]   name = bert/encoder/layer_0/attention/self/key/kernel:0, shape = (768, 768), *INIT_FROM_CKPT*\n",
      "I0521 22:59:10.677667 140480743667456 bert_pos.py:495]   name = bert/encoder/layer_0/attention/self/key/bias:0, shape = (768,), *INIT_FROM_CKPT*\n",
      "I0521 22:59:10.677979 140480743667456 bert_pos.py:495]   name = bert/encoder/layer_0/attention/self/value/kernel:0, shape = (768, 768), *INIT_FROM_CKPT*\n",
      "I0521 22:59:10.678267 140480743667456 bert_pos.py:495]   name = bert/encoder/layer_0/attention/self/value/bias:0, shape = (768,), *INIT_FROM_CKPT*\n",
      "I0521 22:59:10.678579 140480743667456 bert_pos.py:495]   name = bert/encoder/layer_0/attention/output/dense/kernel:0, shape = (768, 768), *INIT_FROM_CKPT*\n",
      "I0521 22:59:10.678871 140480743667456 bert_pos.py:495]   name = bert/encoder/layer_0/attention/output/dense/bias:0, shape = (768,), *INIT_FROM_CKPT*\n",
      "I0521 22:59:10.679150 140480743667456 bert_pos.py:495]   name = bert/encoder/layer_0/attention/output/LayerNorm/beta:0, shape = (768,), *INIT_FROM_CKPT*\n",
      "I0521 22:59:10.679486 140480743667456 bert_pos.py:495]   name = bert/encoder/layer_0/attention/output/LayerNorm/gamma:0, shape = (768,), *INIT_FROM_CKPT*\n",
      "I0521 22:59:10.679764 140480743667456 bert_pos.py:495]   name = bert/encoder/layer_0/intermediate/dense/kernel:0, shape = (768, 3072), *INIT_FROM_CKPT*\n",
      "I0521 22:59:10.680065 140480743667456 bert_pos.py:495]   name = bert/encoder/layer_0/intermediate/dense/bias:0, shape = (3072,), *INIT_FROM_CKPT*\n",
      "I0521 22:59:10.681581 140480743667456 bert_pos.py:495]   name = bert/encoder/layer_0/output/dense/kernel:0, shape = (3072, 768), *INIT_FROM_CKPT*\n",
      "I0521 22:59:10.681878 140480743667456 bert_pos.py:495]   name = bert/encoder/layer_0/output/dense/bias:0, shape = (768,), *INIT_FROM_CKPT*\n",
      "I0521 22:59:10.682171 140480743667456 bert_pos.py:495]   name = bert/encoder/layer_0/output/LayerNorm/beta:0, shape = (768,), *INIT_FROM_CKPT*\n",
      "I0521 22:59:10.682501 140480743667456 bert_pos.py:495]   name = bert/encoder/layer_0/output/LayerNorm/gamma:0, shape = (768,), *INIT_FROM_CKPT*\n",
      "I0521 22:59:10.682761 140480743667456 bert_pos.py:495]   name = bert/encoder/layer_1/attention/self/query/kernel:0, shape = (768, 768), *INIT_FROM_CKPT*\n",
      "I0521 22:59:10.683027 140480743667456 bert_pos.py:495]   name = bert/encoder/layer_1/attention/self/query/bias:0, shape = (768,), *INIT_FROM_CKPT*\n",
      "I0521 22:59:10.683287 140480743667456 bert_pos.py:495]   name = bert/encoder/layer_1/attention/self/key/kernel:0, shape = (768, 768), *INIT_FROM_CKPT*\n",
      "I0521 22:59:10.684087 140480743667456 bert_pos.py:495]   name = bert/encoder/layer_1/attention/self/key/bias:0, shape = (768,), *INIT_FROM_CKPT*\n",
      "I0521 22:59:10.684457 140480743667456 bert_pos.py:495]   name = bert/encoder/layer_1/attention/self/value/kernel:0, shape = (768, 768), *INIT_FROM_CKPT*\n",
      "I0521 22:59:10.684735 140480743667456 bert_pos.py:495]   name = bert/encoder/layer_1/attention/self/value/bias:0, shape = (768,), *INIT_FROM_CKPT*\n",
      "I0521 22:59:10.685039 140480743667456 bert_pos.py:495]   name = bert/encoder/layer_1/attention/output/dense/kernel:0, shape = (768, 768), *INIT_FROM_CKPT*\n",
      "I0521 22:59:10.685319 140480743667456 bert_pos.py:495]   name = bert/encoder/layer_1/attention/output/dense/bias:0, shape = (768,), *INIT_FROM_CKPT*\n",
      "I0521 22:59:10.685614 140480743667456 bert_pos.py:495]   name = bert/encoder/layer_1/attention/output/LayerNorm/beta:0, shape = (768,), *INIT_FROM_CKPT*\n",
      "I0521 22:59:10.685902 140480743667456 bert_pos.py:495]   name = bert/encoder/layer_1/attention/output/LayerNorm/gamma:0, shape = (768,), *INIT_FROM_CKPT*\n",
      "I0521 22:59:10.686179 140480743667456 bert_pos.py:495]   name = bert/encoder/layer_1/intermediate/dense/kernel:0, shape = (768, 3072), *INIT_FROM_CKPT*\n",
      "I0521 22:59:10.686483 140480743667456 bert_pos.py:495]   name = bert/encoder/layer_1/intermediate/dense/bias:0, shape = (3072,), *INIT_FROM_CKPT*\n",
      "I0521 22:59:10.686798 140480743667456 bert_pos.py:495]   name = bert/encoder/layer_1/output/dense/kernel:0, shape = (3072, 768), *INIT_FROM_CKPT*\n",
      "I0521 22:59:10.687086 140480743667456 bert_pos.py:495]   name = bert/encoder/layer_1/output/dense/bias:0, shape = (768,), *INIT_FROM_CKPT*\n",
      "I0521 22:59:10.688156 140480743667456 bert_pos.py:495]   name = bert/encoder/layer_1/output/LayerNorm/beta:0, shape = (768,), *INIT_FROM_CKPT*\n",
      "I0521 22:59:10.688458 140480743667456 bert_pos.py:495]   name = bert/encoder/layer_1/output/LayerNorm/gamma:0, shape = (768,), *INIT_FROM_CKPT*\n",
      "I0521 22:59:10.688758 140480743667456 bert_pos.py:495]   name = bert/encoder/layer_2/attention/self/query/kernel:0, shape = (768, 768), *INIT_FROM_CKPT*\n"
     ]
    },
    {
     "name": "stderr",
     "output_type": "stream",
     "text": [
      "I0521 22:59:10.689037 140480743667456 bert_pos.py:495]   name = bert/encoder/layer_2/attention/self/query/bias:0, shape = (768,), *INIT_FROM_CKPT*\n",
      "I0521 22:59:10.689307 140480743667456 bert_pos.py:495]   name = bert/encoder/layer_2/attention/self/key/kernel:0, shape = (768, 768), *INIT_FROM_CKPT*\n",
      "I0521 22:59:10.689580 140480743667456 bert_pos.py:495]   name = bert/encoder/layer_2/attention/self/key/bias:0, shape = (768,), *INIT_FROM_CKPT*\n",
      "I0521 22:59:10.689836 140480743667456 bert_pos.py:495]   name = bert/encoder/layer_2/attention/self/value/kernel:0, shape = (768, 768), *INIT_FROM_CKPT*\n",
      "I0521 22:59:10.690105 140480743667456 bert_pos.py:495]   name = bert/encoder/layer_2/attention/self/value/bias:0, shape = (768,), *INIT_FROM_CKPT*\n",
      "I0521 22:59:10.690366 140480743667456 bert_pos.py:495]   name = bert/encoder/layer_2/attention/output/dense/kernel:0, shape = (768, 768), *INIT_FROM_CKPT*\n",
      "I0521 22:59:10.690628 140480743667456 bert_pos.py:495]   name = bert/encoder/layer_2/attention/output/dense/bias:0, shape = (768,), *INIT_FROM_CKPT*\n",
      "I0521 22:59:10.690884 140480743667456 bert_pos.py:495]   name = bert/encoder/layer_2/attention/output/LayerNorm/beta:0, shape = (768,), *INIT_FROM_CKPT*\n",
      "I0521 22:59:10.691142 140480743667456 bert_pos.py:495]   name = bert/encoder/layer_2/attention/output/LayerNorm/gamma:0, shape = (768,), *INIT_FROM_CKPT*\n",
      "I0521 22:59:10.691477 140480743667456 bert_pos.py:495]   name = bert/encoder/layer_2/intermediate/dense/kernel:0, shape = (768, 3072), *INIT_FROM_CKPT*\n",
      "I0521 22:59:10.691755 140480743667456 bert_pos.py:495]   name = bert/encoder/layer_2/intermediate/dense/bias:0, shape = (3072,), *INIT_FROM_CKPT*\n",
      "I0521 22:59:10.692009 140480743667456 bert_pos.py:495]   name = bert/encoder/layer_2/output/dense/kernel:0, shape = (3072, 768), *INIT_FROM_CKPT*\n",
      "I0521 22:59:10.692282 140480743667456 bert_pos.py:495]   name = bert/encoder/layer_2/output/dense/bias:0, shape = (768,), *INIT_FROM_CKPT*\n",
      "I0521 22:59:10.692561 140480743667456 bert_pos.py:495]   name = bert/encoder/layer_2/output/LayerNorm/beta:0, shape = (768,), *INIT_FROM_CKPT*\n",
      "I0521 22:59:10.692821 140480743667456 bert_pos.py:495]   name = bert/encoder/layer_2/output/LayerNorm/gamma:0, shape = (768,), *INIT_FROM_CKPT*\n",
      "I0521 22:59:10.693095 140480743667456 bert_pos.py:495]   name = bert/encoder/layer_3/attention/self/query/kernel:0, shape = (768, 768), *INIT_FROM_CKPT*\n",
      "I0521 22:59:10.693375 140480743667456 bert_pos.py:495]   name = bert/encoder/layer_3/attention/self/query/bias:0, shape = (768,), *INIT_FROM_CKPT*\n",
      "I0521 22:59:10.693641 140480743667456 bert_pos.py:495]   name = bert/encoder/layer_3/attention/self/key/kernel:0, shape = (768, 768), *INIT_FROM_CKPT*\n",
      "I0521 22:59:10.693918 140480743667456 bert_pos.py:495]   name = bert/encoder/layer_3/attention/self/key/bias:0, shape = (768,), *INIT_FROM_CKPT*\n",
      "I0521 22:59:10.694172 140480743667456 bert_pos.py:495]   name = bert/encoder/layer_3/attention/self/value/kernel:0, shape = (768, 768), *INIT_FROM_CKPT*\n",
      "I0521 22:59:10.694445 140480743667456 bert_pos.py:495]   name = bert/encoder/layer_3/attention/self/value/bias:0, shape = (768,), *INIT_FROM_CKPT*\n",
      "I0521 22:59:10.694715 140480743667456 bert_pos.py:495]   name = bert/encoder/layer_3/attention/output/dense/kernel:0, shape = (768, 768), *INIT_FROM_CKPT*\n",
      "I0521 22:59:10.694985 140480743667456 bert_pos.py:495]   name = bert/encoder/layer_3/attention/output/dense/bias:0, shape = (768,), *INIT_FROM_CKPT*\n",
      "I0521 22:59:10.695239 140480743667456 bert_pos.py:495]   name = bert/encoder/layer_3/attention/output/LayerNorm/beta:0, shape = (768,), *INIT_FROM_CKPT*\n",
      "I0521 22:59:10.695506 140480743667456 bert_pos.py:495]   name = bert/encoder/layer_3/attention/output/LayerNorm/gamma:0, shape = (768,), *INIT_FROM_CKPT*\n",
      "I0521 22:59:10.695783 140480743667456 bert_pos.py:495]   name = bert/encoder/layer_3/intermediate/dense/kernel:0, shape = (768, 3072), *INIT_FROM_CKPT*\n",
      "I0521 22:59:10.696062 140480743667456 bert_pos.py:495]   name = bert/encoder/layer_3/intermediate/dense/bias:0, shape = (3072,), *INIT_FROM_CKPT*\n",
      "I0521 22:59:10.696352 140480743667456 bert_pos.py:495]   name = bert/encoder/layer_3/output/dense/kernel:0, shape = (3072, 768), *INIT_FROM_CKPT*\n",
      "I0521 22:59:10.696606 140480743667456 bert_pos.py:495]   name = bert/encoder/layer_3/output/dense/bias:0, shape = (768,), *INIT_FROM_CKPT*\n",
      "I0521 22:59:10.696873 140480743667456 bert_pos.py:495]   name = bert/encoder/layer_3/output/LayerNorm/beta:0, shape = (768,), *INIT_FROM_CKPT*\n",
      "I0521 22:59:10.697133 140480743667456 bert_pos.py:495]   name = bert/encoder/layer_3/output/LayerNorm/gamma:0, shape = (768,), *INIT_FROM_CKPT*\n",
      "I0521 22:59:10.697418 140480743667456 bert_pos.py:495]   name = bert/encoder/layer_4/attention/self/query/kernel:0, shape = (768, 768), *INIT_FROM_CKPT*\n",
      "I0521 22:59:10.697748 140480743667456 bert_pos.py:495]   name = bert/encoder/layer_4/attention/self/query/bias:0, shape = (768,), *INIT_FROM_CKPT*\n",
      "I0521 22:59:10.698027 140480743667456 bert_pos.py:495]   name = bert/encoder/layer_4/attention/self/key/kernel:0, shape = (768, 768), *INIT_FROM_CKPT*\n",
      "I0521 22:59:10.698320 140480743667456 bert_pos.py:495]   name = bert/encoder/layer_4/attention/self/key/bias:0, shape = (768,), *INIT_FROM_CKPT*\n",
      "I0521 22:59:10.698603 140480743667456 bert_pos.py:495]   name = bert/encoder/layer_4/attention/self/value/kernel:0, shape = (768, 768), *INIT_FROM_CKPT*\n",
      "I0521 22:59:10.698881 140480743667456 bert_pos.py:495]   name = bert/encoder/layer_4/attention/self/value/bias:0, shape = (768,), *INIT_FROM_CKPT*\n",
      "I0521 22:59:10.699198 140480743667456 bert_pos.py:495]   name = bert/encoder/layer_4/attention/output/dense/kernel:0, shape = (768, 768), *INIT_FROM_CKPT*\n",
      "I0521 22:59:10.699486 140480743667456 bert_pos.py:495]   name = bert/encoder/layer_4/attention/output/dense/bias:0, shape = (768,), *INIT_FROM_CKPT*\n",
      "I0521 22:59:10.699755 140480743667456 bert_pos.py:495]   name = bert/encoder/layer_4/attention/output/LayerNorm/beta:0, shape = (768,), *INIT_FROM_CKPT*\n",
      "I0521 22:59:10.700024 140480743667456 bert_pos.py:495]   name = bert/encoder/layer_4/attention/output/LayerNorm/gamma:0, shape = (768,), *INIT_FROM_CKPT*\n",
      "I0521 22:59:10.700301 140480743667456 bert_pos.py:495]   name = bert/encoder/layer_4/intermediate/dense/kernel:0, shape = (768, 3072), *INIT_FROM_CKPT*\n",
      "I0521 22:59:10.700576 140480743667456 bert_pos.py:495]   name = bert/encoder/layer_4/intermediate/dense/bias:0, shape = (3072,), *INIT_FROM_CKPT*\n",
      "I0521 22:59:10.700849 140480743667456 bert_pos.py:495]   name = bert/encoder/layer_4/output/dense/kernel:0, shape = (3072, 768), *INIT_FROM_CKPT*\n",
      "I0521 22:59:10.701129 140480743667456 bert_pos.py:495]   name = bert/encoder/layer_4/output/dense/bias:0, shape = (768,), *INIT_FROM_CKPT*\n",
      "I0521 22:59:10.701404 140480743667456 bert_pos.py:495]   name = bert/encoder/layer_4/output/LayerNorm/beta:0, shape = (768,), *INIT_FROM_CKPT*\n",
      "I0521 22:59:10.701673 140480743667456 bert_pos.py:495]   name = bert/encoder/layer_4/output/LayerNorm/gamma:0, shape = (768,), *INIT_FROM_CKPT*\n",
      "I0521 22:59:10.701967 140480743667456 bert_pos.py:495]   name = bert/encoder/layer_5/attention/self/query/kernel:0, shape = (768, 768), *INIT_FROM_CKPT*\n",
      "I0521 22:59:10.702245 140480743667456 bert_pos.py:495]   name = bert/encoder/layer_5/attention/self/query/bias:0, shape = (768,), *INIT_FROM_CKPT*\n",
      "I0521 22:59:10.702519 140480743667456 bert_pos.py:495]   name = bert/encoder/layer_5/attention/self/key/kernel:0, shape = (768, 768), *INIT_FROM_CKPT*\n",
      "I0521 22:59:10.702800 140480743667456 bert_pos.py:495]   name = bert/encoder/layer_5/attention/self/key/bias:0, shape = (768,), *INIT_FROM_CKPT*\n",
      "I0521 22:59:10.703046 140480743667456 bert_pos.py:495]   name = bert/encoder/layer_5/attention/self/value/kernel:0, shape = (768, 768), *INIT_FROM_CKPT*\n",
      "I0521 22:59:10.703347 140480743667456 bert_pos.py:495]   name = bert/encoder/layer_5/attention/self/value/bias:0, shape = (768,), *INIT_FROM_CKPT*\n",
      "I0521 22:59:10.703618 140480743667456 bert_pos.py:495]   name = bert/encoder/layer_5/attention/output/dense/kernel:0, shape = (768, 768), *INIT_FROM_CKPT*\n",
      "I0521 22:59:10.703891 140480743667456 bert_pos.py:495]   name = bert/encoder/layer_5/attention/output/dense/bias:0, shape = (768,), *INIT_FROM_CKPT*\n",
      "I0521 22:59:10.704191 140480743667456 bert_pos.py:495]   name = bert/encoder/layer_5/attention/output/LayerNorm/beta:0, shape = (768,), *INIT_FROM_CKPT*\n"
     ]
    },
    {
     "name": "stderr",
     "output_type": "stream",
     "text": [
      "I0521 22:59:10.704452 140480743667456 bert_pos.py:495]   name = bert/encoder/layer_5/attention/output/LayerNorm/gamma:0, shape = (768,), *INIT_FROM_CKPT*\n",
      "I0521 22:59:10.704741 140480743667456 bert_pos.py:495]   name = bert/encoder/layer_5/intermediate/dense/kernel:0, shape = (768, 3072), *INIT_FROM_CKPT*\n",
      "I0521 22:59:10.705023 140480743667456 bert_pos.py:495]   name = bert/encoder/layer_5/intermediate/dense/bias:0, shape = (3072,), *INIT_FROM_CKPT*\n",
      "I0521 22:59:10.705284 140480743667456 bert_pos.py:495]   name = bert/encoder/layer_5/output/dense/kernel:0, shape = (3072, 768), *INIT_FROM_CKPT*\n",
      "I0521 22:59:10.705552 140480743667456 bert_pos.py:495]   name = bert/encoder/layer_5/output/dense/bias:0, shape = (768,), *INIT_FROM_CKPT*\n",
      "I0521 22:59:10.705822 140480743667456 bert_pos.py:495]   name = bert/encoder/layer_5/output/LayerNorm/beta:0, shape = (768,), *INIT_FROM_CKPT*\n",
      "I0521 22:59:10.706099 140480743667456 bert_pos.py:495]   name = bert/encoder/layer_5/output/LayerNorm/gamma:0, shape = (768,), *INIT_FROM_CKPT*\n",
      "I0521 22:59:10.706387 140480743667456 bert_pos.py:495]   name = bert/encoder/layer_6/attention/self/query/kernel:0, shape = (768, 768), *INIT_FROM_CKPT*\n",
      "I0521 22:59:10.706655 140480743667456 bert_pos.py:495]   name = bert/encoder/layer_6/attention/self/query/bias:0, shape = (768,), *INIT_FROM_CKPT*\n",
      "I0521 22:59:10.706922 140480743667456 bert_pos.py:495]   name = bert/encoder/layer_6/attention/self/key/kernel:0, shape = (768, 768), *INIT_FROM_CKPT*\n",
      "I0521 22:59:10.707204 140480743667456 bert_pos.py:495]   name = bert/encoder/layer_6/attention/self/key/bias:0, shape = (768,), *INIT_FROM_CKPT*\n",
      "I0521 22:59:10.707527 140480743667456 bert_pos.py:495]   name = bert/encoder/layer_6/attention/self/value/kernel:0, shape = (768, 768), *INIT_FROM_CKPT*\n",
      "I0521 22:59:10.707792 140480743667456 bert_pos.py:495]   name = bert/encoder/layer_6/attention/self/value/bias:0, shape = (768,), *INIT_FROM_CKPT*\n",
      "I0521 22:59:10.708065 140480743667456 bert_pos.py:495]   name = bert/encoder/layer_6/attention/output/dense/kernel:0, shape = (768, 768), *INIT_FROM_CKPT*\n",
      "I0521 22:59:10.708371 140480743667456 bert_pos.py:495]   name = bert/encoder/layer_6/attention/output/dense/bias:0, shape = (768,), *INIT_FROM_CKPT*\n",
      "I0521 22:59:10.708642 140480743667456 bert_pos.py:495]   name = bert/encoder/layer_6/attention/output/LayerNorm/beta:0, shape = (768,), *INIT_FROM_CKPT*\n",
      "I0521 22:59:10.708920 140480743667456 bert_pos.py:495]   name = bert/encoder/layer_6/attention/output/LayerNorm/gamma:0, shape = (768,), *INIT_FROM_CKPT*\n",
      "I0521 22:59:10.709201 140480743667456 bert_pos.py:495]   name = bert/encoder/layer_6/intermediate/dense/kernel:0, shape = (768, 3072), *INIT_FROM_CKPT*\n",
      "I0521 22:59:10.709474 140480743667456 bert_pos.py:495]   name = bert/encoder/layer_6/intermediate/dense/bias:0, shape = (3072,), *INIT_FROM_CKPT*\n",
      "I0521 22:59:10.709747 140480743667456 bert_pos.py:495]   name = bert/encoder/layer_6/output/dense/kernel:0, shape = (3072, 768), *INIT_FROM_CKPT*\n",
      "I0521 22:59:10.710029 140480743667456 bert_pos.py:495]   name = bert/encoder/layer_6/output/dense/bias:0, shape = (768,), *INIT_FROM_CKPT*\n",
      "I0521 22:59:10.710318 140480743667456 bert_pos.py:495]   name = bert/encoder/layer_6/output/LayerNorm/beta:0, shape = (768,), *INIT_FROM_CKPT*\n",
      "I0521 22:59:10.710574 140480743667456 bert_pos.py:495]   name = bert/encoder/layer_6/output/LayerNorm/gamma:0, shape = (768,), *INIT_FROM_CKPT*\n",
      "I0521 22:59:10.710900 140480743667456 bert_pos.py:495]   name = bert/encoder/layer_7/attention/self/query/kernel:0, shape = (768, 768), *INIT_FROM_CKPT*\n",
      "I0521 22:59:10.711178 140480743667456 bert_pos.py:495]   name = bert/encoder/layer_7/attention/self/query/bias:0, shape = (768,), *INIT_FROM_CKPT*\n",
      "I0521 22:59:10.711453 140480743667456 bert_pos.py:495]   name = bert/encoder/layer_7/attention/self/key/kernel:0, shape = (768, 768), *INIT_FROM_CKPT*\n",
      "I0521 22:59:10.711744 140480743667456 bert_pos.py:495]   name = bert/encoder/layer_7/attention/self/key/bias:0, shape = (768,), *INIT_FROM_CKPT*\n",
      "I0521 22:59:10.712011 140480743667456 bert_pos.py:495]   name = bert/encoder/layer_7/attention/self/value/kernel:0, shape = (768, 768), *INIT_FROM_CKPT*\n",
      "I0521 22:59:10.712296 140480743667456 bert_pos.py:495]   name = bert/encoder/layer_7/attention/self/value/bias:0, shape = (768,), *INIT_FROM_CKPT*\n",
      "I0521 22:59:10.712580 140480743667456 bert_pos.py:495]   name = bert/encoder/layer_7/attention/output/dense/kernel:0, shape = (768, 768), *INIT_FROM_CKPT*\n",
      "I0521 22:59:10.712874 140480743667456 bert_pos.py:495]   name = bert/encoder/layer_7/attention/output/dense/bias:0, shape = (768,), *INIT_FROM_CKPT*\n",
      "I0521 22:59:10.718987 140480743667456 bert_pos.py:495]   name = bert/encoder/layer_7/attention/output/LayerNorm/beta:0, shape = (768,), *INIT_FROM_CKPT*\n",
      "I0521 22:59:10.719311 140480743667456 bert_pos.py:495]   name = bert/encoder/layer_7/attention/output/LayerNorm/gamma:0, shape = (768,), *INIT_FROM_CKPT*\n",
      "I0521 22:59:10.719639 140480743667456 bert_pos.py:495]   name = bert/encoder/layer_7/intermediate/dense/kernel:0, shape = (768, 3072), *INIT_FROM_CKPT*\n",
      "I0521 22:59:10.719937 140480743667456 bert_pos.py:495]   name = bert/encoder/layer_7/intermediate/dense/bias:0, shape = (3072,), *INIT_FROM_CKPT*\n",
      "I0521 22:59:10.720223 140480743667456 bert_pos.py:495]   name = bert/encoder/layer_7/output/dense/kernel:0, shape = (3072, 768), *INIT_FROM_CKPT*\n",
      "I0521 22:59:10.720503 140480743667456 bert_pos.py:495]   name = bert/encoder/layer_7/output/dense/bias:0, shape = (768,), *INIT_FROM_CKPT*\n",
      "I0521 22:59:10.720780 140480743667456 bert_pos.py:495]   name = bert/encoder/layer_7/output/LayerNorm/beta:0, shape = (768,), *INIT_FROM_CKPT*\n",
      "I0521 22:59:10.721093 140480743667456 bert_pos.py:495]   name = bert/encoder/layer_7/output/LayerNorm/gamma:0, shape = (768,), *INIT_FROM_CKPT*\n",
      "I0521 22:59:10.721393 140480743667456 bert_pos.py:495]   name = bert/encoder/layer_8/attention/self/query/kernel:0, shape = (768, 768), *INIT_FROM_CKPT*\n",
      "I0521 22:59:10.721661 140480743667456 bert_pos.py:495]   name = bert/encoder/layer_8/attention/self/query/bias:0, shape = (768,), *INIT_FROM_CKPT*\n",
      "I0521 22:59:10.721953 140480743667456 bert_pos.py:495]   name = bert/encoder/layer_8/attention/self/key/kernel:0, shape = (768, 768), *INIT_FROM_CKPT*\n",
      "I0521 22:59:10.722231 140480743667456 bert_pos.py:495]   name = bert/encoder/layer_8/attention/self/key/bias:0, shape = (768,), *INIT_FROM_CKPT*\n",
      "I0521 22:59:10.722519 140480743667456 bert_pos.py:495]   name = bert/encoder/layer_8/attention/self/value/kernel:0, shape = (768, 768), *INIT_FROM_CKPT*\n",
      "I0521 22:59:10.722787 140480743667456 bert_pos.py:495]   name = bert/encoder/layer_8/attention/self/value/bias:0, shape = (768,), *INIT_FROM_CKPT*\n",
      "I0521 22:59:10.723077 140480743667456 bert_pos.py:495]   name = bert/encoder/layer_8/attention/output/dense/kernel:0, shape = (768, 768), *INIT_FROM_CKPT*\n",
      "I0521 22:59:10.723338 140480743667456 bert_pos.py:495]   name = bert/encoder/layer_8/attention/output/dense/bias:0, shape = (768,), *INIT_FROM_CKPT*\n",
      "I0521 22:59:10.723620 140480743667456 bert_pos.py:495]   name = bert/encoder/layer_8/attention/output/LayerNorm/beta:0, shape = (768,), *INIT_FROM_CKPT*\n",
      "I0521 22:59:10.723897 140480743667456 bert_pos.py:495]   name = bert/encoder/layer_8/attention/output/LayerNorm/gamma:0, shape = (768,), *INIT_FROM_CKPT*\n",
      "I0521 22:59:10.724130 140480743667456 bert_pos.py:495]   name = bert/encoder/layer_8/intermediate/dense/kernel:0, shape = (768, 3072), *INIT_FROM_CKPT*\n",
      "I0521 22:59:10.724391 140480743667456 bert_pos.py:495]   name = bert/encoder/layer_8/intermediate/dense/bias:0, shape = (3072,), *INIT_FROM_CKPT*\n",
      "I0521 22:59:10.724646 140480743667456 bert_pos.py:495]   name = bert/encoder/layer_8/output/dense/kernel:0, shape = (3072, 768), *INIT_FROM_CKPT*\n",
      "I0521 22:59:10.724919 140480743667456 bert_pos.py:495]   name = bert/encoder/layer_8/output/dense/bias:0, shape = (768,), *INIT_FROM_CKPT*\n",
      "I0521 22:59:10.725178 140480743667456 bert_pos.py:495]   name = bert/encoder/layer_8/output/LayerNorm/beta:0, shape = (768,), *INIT_FROM_CKPT*\n",
      "I0521 22:59:10.725429 140480743667456 bert_pos.py:495]   name = bert/encoder/layer_8/output/LayerNorm/gamma:0, shape = (768,), *INIT_FROM_CKPT*\n",
      "I0521 22:59:10.725696 140480743667456 bert_pos.py:495]   name = bert/encoder/layer_9/attention/self/query/kernel:0, shape = (768, 768), *INIT_FROM_CKPT*\n"
     ]
    },
    {
     "name": "stderr",
     "output_type": "stream",
     "text": [
      "I0521 22:59:10.725978 140480743667456 bert_pos.py:495]   name = bert/encoder/layer_9/attention/self/query/bias:0, shape = (768,), *INIT_FROM_CKPT*\n",
      "I0521 22:59:10.726240 140480743667456 bert_pos.py:495]   name = bert/encoder/layer_9/attention/self/key/kernel:0, shape = (768, 768), *INIT_FROM_CKPT*\n",
      "I0521 22:59:10.726515 140480743667456 bert_pos.py:495]   name = bert/encoder/layer_9/attention/self/key/bias:0, shape = (768,), *INIT_FROM_CKPT*\n",
      "I0521 22:59:10.726801 140480743667456 bert_pos.py:495]   name = bert/encoder/layer_9/attention/self/value/kernel:0, shape = (768, 768), *INIT_FROM_CKPT*\n",
      "I0521 22:59:10.727092 140480743667456 bert_pos.py:495]   name = bert/encoder/layer_9/attention/self/value/bias:0, shape = (768,), *INIT_FROM_CKPT*\n",
      "I0521 22:59:10.727386 140480743667456 bert_pos.py:495]   name = bert/encoder/layer_9/attention/output/dense/kernel:0, shape = (768, 768), *INIT_FROM_CKPT*\n",
      "I0521 22:59:10.727649 140480743667456 bert_pos.py:495]   name = bert/encoder/layer_9/attention/output/dense/bias:0, shape = (768,), *INIT_FROM_CKPT*\n",
      "I0521 22:59:10.727925 140480743667456 bert_pos.py:495]   name = bert/encoder/layer_9/attention/output/LayerNorm/beta:0, shape = (768,), *INIT_FROM_CKPT*\n",
      "I0521 22:59:10.728227 140480743667456 bert_pos.py:495]   name = bert/encoder/layer_9/attention/output/LayerNorm/gamma:0, shape = (768,), *INIT_FROM_CKPT*\n",
      "I0521 22:59:10.728507 140480743667456 bert_pos.py:495]   name = bert/encoder/layer_9/intermediate/dense/kernel:0, shape = (768, 3072), *INIT_FROM_CKPT*\n",
      "I0521 22:59:10.728790 140480743667456 bert_pos.py:495]   name = bert/encoder/layer_9/intermediate/dense/bias:0, shape = (3072,), *INIT_FROM_CKPT*\n",
      "I0521 22:59:10.729044 140480743667456 bert_pos.py:495]   name = bert/encoder/layer_9/output/dense/kernel:0, shape = (3072, 768), *INIT_FROM_CKPT*\n",
      "I0521 22:59:10.729324 140480743667456 bert_pos.py:495]   name = bert/encoder/layer_9/output/dense/bias:0, shape = (768,), *INIT_FROM_CKPT*\n",
      "I0521 22:59:10.729600 140480743667456 bert_pos.py:495]   name = bert/encoder/layer_9/output/LayerNorm/beta:0, shape = (768,), *INIT_FROM_CKPT*\n",
      "I0521 22:59:10.729872 140480743667456 bert_pos.py:495]   name = bert/encoder/layer_9/output/LayerNorm/gamma:0, shape = (768,), *INIT_FROM_CKPT*\n",
      "I0521 22:59:10.730163 140480743667456 bert_pos.py:495]   name = bert/encoder/layer_10/attention/self/query/kernel:0, shape = (768, 768), *INIT_FROM_CKPT*\n",
      "I0521 22:59:10.730424 140480743667456 bert_pos.py:495]   name = bert/encoder/layer_10/attention/self/query/bias:0, shape = (768,), *INIT_FROM_CKPT*\n",
      "I0521 22:59:10.730697 140480743667456 bert_pos.py:495]   name = bert/encoder/layer_10/attention/self/key/kernel:0, shape = (768, 768), *INIT_FROM_CKPT*\n",
      "I0521 22:59:10.730987 140480743667456 bert_pos.py:495]   name = bert/encoder/layer_10/attention/self/key/bias:0, shape = (768,), *INIT_FROM_CKPT*\n",
      "I0521 22:59:10.731261 140480743667456 bert_pos.py:495]   name = bert/encoder/layer_10/attention/self/value/kernel:0, shape = (768, 768), *INIT_FROM_CKPT*\n",
      "I0521 22:59:10.731542 140480743667456 bert_pos.py:495]   name = bert/encoder/layer_10/attention/self/value/bias:0, shape = (768,), *INIT_FROM_CKPT*\n",
      "I0521 22:59:10.731815 140480743667456 bert_pos.py:495]   name = bert/encoder/layer_10/attention/output/dense/kernel:0, shape = (768, 768), *INIT_FROM_CKPT*\n",
      "I0521 22:59:10.732096 140480743667456 bert_pos.py:495]   name = bert/encoder/layer_10/attention/output/dense/bias:0, shape = (768,), *INIT_FROM_CKPT*\n",
      "I0521 22:59:10.732376 140480743667456 bert_pos.py:495]   name = bert/encoder/layer_10/attention/output/LayerNorm/beta:0, shape = (768,), *INIT_FROM_CKPT*\n",
      "I0521 22:59:10.732677 140480743667456 bert_pos.py:495]   name = bert/encoder/layer_10/attention/output/LayerNorm/gamma:0, shape = (768,), *INIT_FROM_CKPT*\n",
      "I0521 22:59:10.732976 140480743667456 bert_pos.py:495]   name = bert/encoder/layer_10/intermediate/dense/kernel:0, shape = (768, 3072), *INIT_FROM_CKPT*\n",
      "I0521 22:59:10.733266 140480743667456 bert_pos.py:495]   name = bert/encoder/layer_10/intermediate/dense/bias:0, shape = (3072,), *INIT_FROM_CKPT*\n",
      "I0521 22:59:10.733567 140480743667456 bert_pos.py:495]   name = bert/encoder/layer_10/output/dense/kernel:0, shape = (3072, 768), *INIT_FROM_CKPT*\n",
      "I0521 22:59:10.733891 140480743667456 bert_pos.py:495]   name = bert/encoder/layer_10/output/dense/bias:0, shape = (768,), *INIT_FROM_CKPT*\n",
      "I0521 22:59:10.734182 140480743667456 bert_pos.py:495]   name = bert/encoder/layer_10/output/LayerNorm/beta:0, shape = (768,), *INIT_FROM_CKPT*\n",
      "I0521 22:59:10.734442 140480743667456 bert_pos.py:495]   name = bert/encoder/layer_10/output/LayerNorm/gamma:0, shape = (768,), *INIT_FROM_CKPT*\n",
      "I0521 22:59:10.734732 140480743667456 bert_pos.py:495]   name = bert/encoder/layer_11/attention/self/query/kernel:0, shape = (768, 768), *INIT_FROM_CKPT*\n",
      "I0521 22:59:10.734986 140480743667456 bert_pos.py:495]   name = bert/encoder/layer_11/attention/self/query/bias:0, shape = (768,), *INIT_FROM_CKPT*\n",
      "I0521 22:59:10.735265 140480743667456 bert_pos.py:495]   name = bert/encoder/layer_11/attention/self/key/kernel:0, shape = (768, 768), *INIT_FROM_CKPT*\n",
      "I0521 22:59:10.735543 140480743667456 bert_pos.py:495]   name = bert/encoder/layer_11/attention/self/key/bias:0, shape = (768,), *INIT_FROM_CKPT*\n",
      "I0521 22:59:10.735841 140480743667456 bert_pos.py:495]   name = bert/encoder/layer_11/attention/self/value/kernel:0, shape = (768, 768), *INIT_FROM_CKPT*\n",
      "I0521 22:59:10.736148 140480743667456 bert_pos.py:495]   name = bert/encoder/layer_11/attention/self/value/bias:0, shape = (768,), *INIT_FROM_CKPT*\n",
      "I0521 22:59:10.736420 140480743667456 bert_pos.py:495]   name = bert/encoder/layer_11/attention/output/dense/kernel:0, shape = (768, 768), *INIT_FROM_CKPT*\n",
      "I0521 22:59:10.736708 140480743667456 bert_pos.py:495]   name = bert/encoder/layer_11/attention/output/dense/bias:0, shape = (768,), *INIT_FROM_CKPT*\n",
      "I0521 22:59:10.736982 140480743667456 bert_pos.py:495]   name = bert/encoder/layer_11/attention/output/LayerNorm/beta:0, shape = (768,), *INIT_FROM_CKPT*\n",
      "I0521 22:59:10.737258 140480743667456 bert_pos.py:495]   name = bert/encoder/layer_11/attention/output/LayerNorm/gamma:0, shape = (768,), *INIT_FROM_CKPT*\n",
      "I0521 22:59:10.737541 140480743667456 bert_pos.py:495]   name = bert/encoder/layer_11/intermediate/dense/kernel:0, shape = (768, 3072), *INIT_FROM_CKPT*\n",
      "I0521 22:59:10.737823 140480743667456 bert_pos.py:495]   name = bert/encoder/layer_11/intermediate/dense/bias:0, shape = (3072,), *INIT_FROM_CKPT*\n",
      "I0521 22:59:10.738103 140480743667456 bert_pos.py:495]   name = bert/encoder/layer_11/output/dense/kernel:0, shape = (3072, 768), *INIT_FROM_CKPT*\n",
      "I0521 22:59:10.738382 140480743667456 bert_pos.py:495]   name = bert/encoder/layer_11/output/dense/bias:0, shape = (768,), *INIT_FROM_CKPT*\n",
      "I0521 22:59:10.738659 140480743667456 bert_pos.py:495]   name = bert/encoder/layer_11/output/LayerNorm/beta:0, shape = (768,), *INIT_FROM_CKPT*\n",
      "I0521 22:59:10.738934 140480743667456 bert_pos.py:495]   name = bert/encoder/layer_11/output/LayerNorm/gamma:0, shape = (768,), *INIT_FROM_CKPT*\n",
      "I0521 22:59:10.739213 140480743667456 bert_pos.py:495]   name = bert/pooler/dense/kernel:0, shape = (768, 768), *INIT_FROM_CKPT*\n",
      "I0521 22:59:10.739490 140480743667456 bert_pos.py:495]   name = bert/pooler/dense/bias:0, shape = (768,), *INIT_FROM_CKPT*\n",
      "I0521 22:59:10.739767 140480743667456 bert_pos.py:495]   name = dense_37/kernel:0, shape = (768, 21)\n",
      "I0521 22:59:10.740036 140480743667456 bert_pos.py:495]   name = dense_37/bias:0, shape = (21,)\n",
      "I0521 22:59:10.740323 140480743667456 bert_pos.py:495]   name = crf_loss/transition:0, shape = (21, 21)\n",
      "W0521 22:59:10.749474 140480743667456 deprecation.py:323] From /home/dbnet/anaconda3/lib/python3.6/site-packages/tensorflow/python/training/learning_rate_decay_v2.py:321: div (from tensorflow.python.ops.math_ops) is deprecated and will be removed in a future version.\n",
      "Instructions for updating:\n",
      "Deprecated in favor of operator or tf.math.divide.\n",
      "I0521 22:59:15.949142 140480743667456 estimator.py:1113] Done calling model_fn.\n",
      "I0521 22:59:15.950613 140480743667456 basic_session_run_hooks.py:527] Create CheckpointSaverHook.\n",
      "I0521 22:59:18.160250 140480743667456 monitored_session.py:222] Graph was finalized.\n",
      "I0521 22:59:22.298165 140480743667456 session_manager.py:491] Running local_init_op.\n"
     ]
    },
    {
     "name": "stderr",
     "output_type": "stream",
     "text": [
      "I0521 22:59:22.420811 140480743667456 session_manager.py:493] Done running local_init_op.\n",
      "I0521 22:59:26.711293 140480743667456 basic_session_run_hooks.py:594] Saving checkpoints for 0 into ./output/result_dir/model.ckpt.\n",
      "I0521 23:00:18.262902 140480743667456 tpu_estimator.py:1858] global_step/sec: 2.17923\n",
      "I0521 23:00:18.264348 140480743667456 tpu_estimator.py:1859] examples/sec: 34.8676\n",
      "I0521 23:01:02.011348 140480743667456 tpu_estimator.py:1858] global_step/sec: 2.2858\n",
      "I0521 23:01:02.012377 140480743667456 tpu_estimator.py:1859] examples/sec: 36.5728\n",
      "I0521 23:01:46.407683 140480743667456 tpu_estimator.py:1858] global_step/sec: 2.25244\n",
      "I0521 23:01:46.408595 140480743667456 tpu_estimator.py:1859] examples/sec: 36.039\n",
      "I0521 23:02:31.157800 140480743667456 tpu_estimator.py:1858] global_step/sec: 2.23463\n",
      "I0521 23:02:31.158691 140480743667456 tpu_estimator.py:1859] examples/sec: 35.7541\n",
      "I0521 23:02:32.094064 140480743667456 basic_session_run_hooks.py:594] Saving checkpoints for 403 into ./output/result_dir/model.ckpt.\n",
      "I0521 23:02:33.822635 140480743667456 estimator.py:359] Loss for final step: 1.3998098.\n",
      "I0521 23:02:33.823498 140480743667456 error_handling.py:93] training_loop marked as finished\n",
      "I0521 23:02:33.828803 140480743667456 bert_pos.py:331] Writing example 0 of 143\n",
      "I0521 23:02:33.829778 140480743667456 bert_pos.py:308] *** Example ***\n",
      "I0521 23:02:33.830195 140480743667456 bert_pos.py:309] guid: dev-0\n",
      "I0521 23:02:33.830739 140480743667456 bert_pos.py:311] tokens: creative commons corporation is not a law firm and does not provide legal services .\n",
      "I0521 23:02:33.831076 140480743667456 bert_pos.py:312] input_ids: 101 5541 7674 3840 2003 2025 1037 2375 3813 1998 2515 2025 3073 3423 2578 1012 102 0 0 0 0 0 0 0 0 0 0 0 0 0 0 0 0 0 0 0 0 0 0 0 0 0 0 0 0 0 0 0 0 0 0 0 0 0 0 0 0 0 0 0 0 0 0 0 0 0 0 0 0 0 0 0 0 0 0 0 0 0 0 0 0 0 0 0 0 0 0 0 0 0 0 0 0 0 0 0 0 0 0 0 0 0 0 0 0 0 0 0 0 0 0 0 0 0 0 0 0 0 0 0 0 0 0 0 0 0 0 0 0 0 0 0 0 0 0 0 0 0 0 0 0 0 0 0 0 0 0 0 0 0 0 0 0 0 0 0 0 0 0 0 0 0 0 0 0 0 0 0 0 0 0 0 0 0 0 0 0 0 0 0 0 0 0 0 0 0 0 0 0 0 0 0 0 0 0 0 0 0 0 0 0 0 0 0 0 0 0 0 0 0 0\n",
      "I0521 23:02:33.831440 140480743667456 bert_pos.py:313] input_mask: 1 1 1 1 1 1 1 1 1 1 1 1 1 1 1 1 1 0 0 0 0 0 0 0 0 0 0 0 0 0 0 0 0 0 0 0 0 0 0 0 0 0 0 0 0 0 0 0 0 0 0 0 0 0 0 0 0 0 0 0 0 0 0 0 0 0 0 0 0 0 0 0 0 0 0 0 0 0 0 0 0 0 0 0 0 0 0 0 0 0 0 0 0 0 0 0 0 0 0 0 0 0 0 0 0 0 0 0 0 0 0 0 0 0 0 0 0 0 0 0 0 0 0 0 0 0 0 0 0 0 0 0 0 0 0 0 0 0 0 0 0 0 0 0 0 0 0 0 0 0 0 0 0 0 0 0 0 0 0 0 0 0 0 0 0 0 0 0 0 0 0 0 0 0 0 0 0 0 0 0 0 0 0 0 0 0 0 0 0 0 0 0 0 0 0 0 0 0 0 0 0 0 0 0 0 0 0 0 0 0 0\n",
      "I0521 23:02:33.831804 140480743667456 bert_pos.py:314] segment_ids: 0 0 0 0 0 0 0 0 0 0 0 0 0 0 0 0 0 0 0 0 0 0 0 0 0 0 0 0 0 0 0 0 0 0 0 0 0 0 0 0 0 0 0 0 0 0 0 0 0 0 0 0 0 0 0 0 0 0 0 0 0 0 0 0 0 0 0 0 0 0 0 0 0 0 0 0 0 0 0 0 0 0 0 0 0 0 0 0 0 0 0 0 0 0 0 0 0 0 0 0 0 0 0 0 0 0 0 0 0 0 0 0 0 0 0 0 0 0 0 0 0 0 0 0 0 0 0 0 0 0 0 0 0 0 0 0 0 0 0 0 0 0 0 0 0 0 0 0 0 0 0 0 0 0 0 0 0 0 0 0 0 0 0 0 0 0 0 0 0 0 0 0 0 0 0 0 0 0 0 0 0 0 0 0 0 0 0 0 0 0 0 0 0 0 0 0 0 0 0 0 0 0 0 0 0 0 0 0 0 0 0\n",
      "I0521 23:02:33.832274 140480743667456 bert_pos.py:315] label_ids: 19 12 12 8 4 10 6 8 8 5 4 10 16 1 8 13 20 0 0 0 0 0 0 0 0 0 0 0 0 0 0 0 0 0 0 0 0 0 0 0 0 0 0 0 0 0 0 0 0 0 0 0 0 0 0 0 0 0 0 0 0 0 0 0 0 0 0 0 0 0 0 0 0 0 0 0 0 0 0 0 0 0 0 0 0 0 0 0 0 0 0 0 0 0 0 0 0 0 0 0 0 0 0 0 0 0 0 0 0 0 0 0 0 0 0 0 0 0 0 0 0 0 0 0 0 0 0 0 0 0 0 0 0 0 0 0 0 0 0 0 0 0 0 0 0 0 0 0 0 0 0 0 0 0 0 0 0 0 0 0 0 0 0 0 0 0 0 0 0 0 0 0 0 0 0 0 0 0 0 0 0 0 0 0 0 0 0 0 0 0 0 0 0 0 0 0 0 0 0 0 0 0 0 0 0 0 0 0 0 0 0\n",
      "I0521 23:02:33.833755 140480743667456 bert_pos.py:308] *** Example ***\n",
      "I0521 23:02:33.834044 140480743667456 bert_pos.py:309] guid: dev-1\n",
      "I0521 23:02:33.834392 140480743667456 bert_pos.py:311] tokens: the work ( as defined below ) is provided under the terms of this creative commons public license ( \" cc ##pl \" or \" license \" ) .\n",
      "I0521 23:02:33.834699 140480743667456 bert_pos.py:312] input_ids: 101 1996 2147 1006 2004 4225 2917 1007 2003 3024 2104 1996 3408 1997 2023 5541 7674 2270 6105 1006 1000 10507 24759 1000 2030 1000 6105 1000 1007 1012 102 0 0 0 0 0 0 0 0 0 0 0 0 0 0 0 0 0 0 0 0 0 0 0 0 0 0 0 0 0 0 0 0 0 0 0 0 0 0 0 0 0 0 0 0 0 0 0 0 0 0 0 0 0 0 0 0 0 0 0 0 0 0 0 0 0 0 0 0 0 0 0 0 0 0 0 0 0 0 0 0 0 0 0 0 0 0 0 0 0 0 0 0 0 0 0 0 0 0 0 0 0 0 0 0 0 0 0 0 0 0 0 0 0 0 0 0 0 0 0 0 0 0 0 0 0 0 0 0 0 0 0 0 0 0 0 0 0 0 0 0 0 0 0 0 0 0 0 0 0 0 0 0 0 0 0 0 0 0 0 0 0 0 0 0 0 0 0 0 0 0 0 0 0 0 0 0 0 0 0 0\n",
      "I0521 23:02:33.835019 140480743667456 bert_pos.py:313] input_mask: 1 1 1 1 1 1 1 1 1 1 1 1 1 1 1 1 1 1 1 1 1 1 1 1 1 1 1 1 1 1 1 0 0 0 0 0 0 0 0 0 0 0 0 0 0 0 0 0 0 0 0 0 0 0 0 0 0 0 0 0 0 0 0 0 0 0 0 0 0 0 0 0 0 0 0 0 0 0 0 0 0 0 0 0 0 0 0 0 0 0 0 0 0 0 0 0 0 0 0 0 0 0 0 0 0 0 0 0 0 0 0 0 0 0 0 0 0 0 0 0 0 0 0 0 0 0 0 0 0 0 0 0 0 0 0 0 0 0 0 0 0 0 0 0 0 0 0 0 0 0 0 0 0 0 0 0 0 0 0 0 0 0 0 0 0 0 0 0 0 0 0 0 0 0 0 0 0 0 0 0 0 0 0 0 0 0 0 0 0 0 0 0 0 0 0 0 0 0 0 0 0 0 0 0 0 0 0 0 0 0 0\n",
      "I0521 23:02:33.835319 140480743667456 bert_pos.py:314] segment_ids: 0 0 0 0 0 0 0 0 0 0 0 0 0 0 0 0 0 0 0 0 0 0 0 0 0 0 0 0 0 0 0 0 0 0 0 0 0 0 0 0 0 0 0 0 0 0 0 0 0 0 0 0 0 0 0 0 0 0 0 0 0 0 0 0 0 0 0 0 0 0 0 0 0 0 0 0 0 0 0 0 0 0 0 0 0 0 0 0 0 0 0 0 0 0 0 0 0 0 0 0 0 0 0 0 0 0 0 0 0 0 0 0 0 0 0 0 0 0 0 0 0 0 0 0 0 0 0 0 0 0 0 0 0 0 0 0 0 0 0 0 0 0 0 0 0 0 0 0 0 0 0 0 0 0 0 0 0 0 0 0 0 0 0 0 0 0 0 0 0 0 0 0 0 0 0 0 0 0 0 0 0 0 0 0 0 0 0 0 0 0 0 0 0 0 0 0 0 0 0 0 0 0 0 0 0 0 0 0 0 0 0\n",
      "I0521 23:02:33.835625 140480743667456 bert_pos.py:315] label_ids: 19 6 8 13 2 16 3 13 4 16 2 6 8 2 6 12 12 1 8 13 13 12 18 13 5 13 8 13 13 13 20 0 0 0 0 0 0 0 0 0 0 0 0 0 0 0 0 0 0 0 0 0 0 0 0 0 0 0 0 0 0 0 0 0 0 0 0 0 0 0 0 0 0 0 0 0 0 0 0 0 0 0 0 0 0 0 0 0 0 0 0 0 0 0 0 0 0 0 0 0 0 0 0 0 0 0 0 0 0 0 0 0 0 0 0 0 0 0 0 0 0 0 0 0 0 0 0 0 0 0 0 0 0 0 0 0 0 0 0 0 0 0 0 0 0 0 0 0 0 0 0 0 0 0 0 0 0 0 0 0 0 0 0 0 0 0 0 0 0 0 0 0 0 0 0 0 0 0 0 0 0 0 0 0 0 0 0 0 0 0 0 0 0 0 0 0 0 0 0 0 0 0 0 0 0 0 0 0 0 0 0\n",
      "I0521 23:02:33.836971 140480743667456 bert_pos.py:308] *** Example ***\n",
      "I0521 23:02:33.837270 140480743667456 bert_pos.py:309] guid: dev-2\n",
      "I0521 23:02:33.837551 140480743667456 bert_pos.py:311] tokens: 1 . definitions .\n",
      "I0521 23:02:33.837917 140480743667456 bert_pos.py:312] input_ids: 101 1015 1012 15182 1012 102 0 0 0 0 0 0 0 0 0 0 0 0 0 0 0 0 0 0 0 0 0 0 0 0 0 0 0 0 0 0 0 0 0 0 0 0 0 0 0 0 0 0 0 0 0 0 0 0 0 0 0 0 0 0 0 0 0 0 0 0 0 0 0 0 0 0 0 0 0 0 0 0 0 0 0 0 0 0 0 0 0 0 0 0 0 0 0 0 0 0 0 0 0 0 0 0 0 0 0 0 0 0 0 0 0 0 0 0 0 0 0 0 0 0 0 0 0 0 0 0 0 0 0 0 0 0 0 0 0 0 0 0 0 0 0 0 0 0 0 0 0 0 0 0 0 0 0 0 0 0 0 0 0 0 0 0 0 0 0 0 0 0 0 0 0 0 0 0 0 0 0 0 0 0 0 0 0 0 0 0 0 0 0 0 0 0 0 0 0 0 0 0 0 0 0 0 0 0 0 0 0 0 0 0 0\n",
      "I0521 23:02:33.838459 140480743667456 bert_pos.py:313] input_mask: 1 1 1 1 1 1 0 0 0 0 0 0 0 0 0 0 0 0 0 0 0 0 0 0 0 0 0 0 0 0 0 0 0 0 0 0 0 0 0 0 0 0 0 0 0 0 0 0 0 0 0 0 0 0 0 0 0 0 0 0 0 0 0 0 0 0 0 0 0 0 0 0 0 0 0 0 0 0 0 0 0 0 0 0 0 0 0 0 0 0 0 0 0 0 0 0 0 0 0 0 0 0 0 0 0 0 0 0 0 0 0 0 0 0 0 0 0 0 0 0 0 0 0 0 0 0 0 0 0 0 0 0 0 0 0 0 0 0 0 0 0 0 0 0 0 0 0 0 0 0 0 0 0 0 0 0 0 0 0 0 0 0 0 0 0 0 0 0 0 0 0 0 0 0 0 0 0 0 0 0 0 0 0 0 0 0 0 0 0 0 0 0 0 0 0 0 0 0 0 0 0 0 0 0 0 0 0 0 0 0 0\n",
      "I0521 23:02:33.838778 140480743667456 bert_pos.py:314] segment_ids: 0 0 0 0 0 0 0 0 0 0 0 0 0 0 0 0 0 0 0 0 0 0 0 0 0 0 0 0 0 0 0 0 0 0 0 0 0 0 0 0 0 0 0 0 0 0 0 0 0 0 0 0 0 0 0 0 0 0 0 0 0 0 0 0 0 0 0 0 0 0 0 0 0 0 0 0 0 0 0 0 0 0 0 0 0 0 0 0 0 0 0 0 0 0 0 0 0 0 0 0 0 0 0 0 0 0 0 0 0 0 0 0 0 0 0 0 0 0 0 0 0 0 0 0 0 0 0 0 0 0 0 0 0 0 0 0 0 0 0 0 0 0 0 0 0 0 0 0 0 0 0 0 0 0 0 0 0 0 0 0 0 0 0 0 0 0 0 0 0 0 0 0 0 0 0 0 0 0 0 0 0 0 0 0 0 0 0 0 0 0 0 0 0 0 0 0 0 0 0 0 0 0 0 0 0 0 0 0 0 0 0\n",
      "I0521 23:02:33.839076 140480743667456 bert_pos.py:315] label_ids: 19 9 13 8 13 20 0 0 0 0 0 0 0 0 0 0 0 0 0 0 0 0 0 0 0 0 0 0 0 0 0 0 0 0 0 0 0 0 0 0 0 0 0 0 0 0 0 0 0 0 0 0 0 0 0 0 0 0 0 0 0 0 0 0 0 0 0 0 0 0 0 0 0 0 0 0 0 0 0 0 0 0 0 0 0 0 0 0 0 0 0 0 0 0 0 0 0 0 0 0 0 0 0 0 0 0 0 0 0 0 0 0 0 0 0 0 0 0 0 0 0 0 0 0 0 0 0 0 0 0 0 0 0 0 0 0 0 0 0 0 0 0 0 0 0 0 0 0 0 0 0 0 0 0 0 0 0 0 0 0 0 0 0 0 0 0 0 0 0 0 0 0 0 0 0 0 0 0 0 0 0 0 0 0 0 0 0 0 0 0 0 0 0 0 0 0 0 0 0 0 0 0 0 0 0 0 0 0 0 0 0\n",
      "I0521 23:02:33.916278 140480743667456 bert_pos.py:639] ***** Running evaluation *****\n"
     ]
    },
    {
     "name": "stderr",
     "output_type": "stream",
     "text": [
      "I0521 23:02:33.916749 140480743667456 bert_pos.py:640]   Num examples = 143\n",
      "I0521 23:02:33.917185 140480743667456 bert_pos.py:641]   Batch size = 8\n",
      "I0521 23:02:33.937536 140480743667456 estimator.py:1111] Calling model_fn.\n",
      "I0521 23:02:33.938038 140480743667456 tpu_estimator.py:2532] Running eval on CPU\n",
      "I0521 23:02:33.938572 140480743667456 bert_pos.py:458] *** Features ***\n",
      "I0521 23:02:33.938973 140480743667456 bert_pos.py:460]   name = input_ids, shape = (?, 211)\n",
      "I0521 23:02:33.939327 140480743667456 bert_pos.py:460]   name = label_ids, shape = (?, 211)\n",
      "I0521 23:02:33.939656 140480743667456 bert_pos.py:460]   name = mask, shape = (?, 211)\n",
      "I0521 23:02:33.939974 140480743667456 bert_pos.py:460]   name = segment_ids, shape = (?, 211)\n",
      "I0521 23:02:36.603968 140480743667456 bert_pos.py:489] **** Trainable Variables ****\n",
      "I0521 23:02:36.604617 140480743667456 bert_pos.py:495]   name = bert/embeddings/word_embeddings:0, shape = (30522, 768), *INIT_FROM_CKPT*\n",
      "I0521 23:02:36.605110 140480743667456 bert_pos.py:495]   name = bert/embeddings/token_type_embeddings:0, shape = (2, 768), *INIT_FROM_CKPT*\n",
      "I0521 23:02:36.605658 140480743667456 bert_pos.py:495]   name = bert/embeddings/position_embeddings:0, shape = (512, 768), *INIT_FROM_CKPT*\n",
      "I0521 23:02:36.605969 140480743667456 bert_pos.py:495]   name = bert/embeddings/LayerNorm/beta:0, shape = (768,), *INIT_FROM_CKPT*\n",
      "I0521 23:02:36.606266 140480743667456 bert_pos.py:495]   name = bert/embeddings/LayerNorm/gamma:0, shape = (768,), *INIT_FROM_CKPT*\n",
      "I0521 23:02:36.606554 140480743667456 bert_pos.py:495]   name = bert/encoder/layer_0/attention/self/query/kernel:0, shape = (768, 768), *INIT_FROM_CKPT*\n",
      "I0521 23:02:36.606847 140480743667456 bert_pos.py:495]   name = bert/encoder/layer_0/attention/self/query/bias:0, shape = (768,), *INIT_FROM_CKPT*\n",
      "I0521 23:02:36.607163 140480743667456 bert_pos.py:495]   name = bert/encoder/layer_0/attention/self/key/kernel:0, shape = (768, 768), *INIT_FROM_CKPT*\n",
      "I0521 23:02:36.607430 140480743667456 bert_pos.py:495]   name = bert/encoder/layer_0/attention/self/key/bias:0, shape = (768,), *INIT_FROM_CKPT*\n",
      "I0521 23:02:36.607735 140480743667456 bert_pos.py:495]   name = bert/encoder/layer_0/attention/self/value/kernel:0, shape = (768, 768), *INIT_FROM_CKPT*\n",
      "I0521 23:02:36.608568 140480743667456 bert_pos.py:495]   name = bert/encoder/layer_0/attention/self/value/bias:0, shape = (768,), *INIT_FROM_CKPT*\n",
      "I0521 23:02:36.608857 140480743667456 bert_pos.py:495]   name = bert/encoder/layer_0/attention/output/dense/kernel:0, shape = (768, 768), *INIT_FROM_CKPT*\n",
      "I0521 23:02:36.609159 140480743667456 bert_pos.py:495]   name = bert/encoder/layer_0/attention/output/dense/bias:0, shape = (768,), *INIT_FROM_CKPT*\n",
      "I0521 23:02:36.609445 140480743667456 bert_pos.py:495]   name = bert/encoder/layer_0/attention/output/LayerNorm/beta:0, shape = (768,), *INIT_FROM_CKPT*\n",
      "I0521 23:02:36.609730 140480743667456 bert_pos.py:495]   name = bert/encoder/layer_0/attention/output/LayerNorm/gamma:0, shape = (768,), *INIT_FROM_CKPT*\n",
      "I0521 23:02:36.610020 140480743667456 bert_pos.py:495]   name = bert/encoder/layer_0/intermediate/dense/kernel:0, shape = (768, 3072), *INIT_FROM_CKPT*\n",
      "I0521 23:02:36.610305 140480743667456 bert_pos.py:495]   name = bert/encoder/layer_0/intermediate/dense/bias:0, shape = (3072,), *INIT_FROM_CKPT*\n",
      "I0521 23:02:36.610605 140480743667456 bert_pos.py:495]   name = bert/encoder/layer_0/output/dense/kernel:0, shape = (3072, 768), *INIT_FROM_CKPT*\n",
      "I0521 23:02:36.611428 140480743667456 bert_pos.py:495]   name = bert/encoder/layer_0/output/dense/bias:0, shape = (768,), *INIT_FROM_CKPT*\n",
      "I0521 23:02:36.611714 140480743667456 bert_pos.py:495]   name = bert/encoder/layer_0/output/LayerNorm/beta:0, shape = (768,), *INIT_FROM_CKPT*\n",
      "I0521 23:02:36.612011 140480743667456 bert_pos.py:495]   name = bert/encoder/layer_0/output/LayerNorm/gamma:0, shape = (768,), *INIT_FROM_CKPT*\n",
      "I0521 23:02:36.612301 140480743667456 bert_pos.py:495]   name = bert/encoder/layer_1/attention/self/query/kernel:0, shape = (768, 768), *INIT_FROM_CKPT*\n",
      "I0521 23:02:36.612586 140480743667456 bert_pos.py:495]   name = bert/encoder/layer_1/attention/self/query/bias:0, shape = (768,), *INIT_FROM_CKPT*\n",
      "I0521 23:02:36.612897 140480743667456 bert_pos.py:495]   name = bert/encoder/layer_1/attention/self/key/kernel:0, shape = (768, 768), *INIT_FROM_CKPT*\n",
      "I0521 23:02:36.613171 140480743667456 bert_pos.py:495]   name = bert/encoder/layer_1/attention/self/key/bias:0, shape = (768,), *INIT_FROM_CKPT*\n",
      "I0521 23:02:36.613440 140480743667456 bert_pos.py:495]   name = bert/encoder/layer_1/attention/self/value/kernel:0, shape = (768, 768), *INIT_FROM_CKPT*\n",
      "I0521 23:02:36.613720 140480743667456 bert_pos.py:495]   name = bert/encoder/layer_1/attention/self/value/bias:0, shape = (768,), *INIT_FROM_CKPT*\n",
      "I0521 23:02:36.613995 140480743667456 bert_pos.py:495]   name = bert/encoder/layer_1/attention/output/dense/kernel:0, shape = (768, 768), *INIT_FROM_CKPT*\n",
      "I0521 23:02:36.614302 140480743667456 bert_pos.py:495]   name = bert/encoder/layer_1/attention/output/dense/bias:0, shape = (768,), *INIT_FROM_CKPT*\n",
      "I0521 23:02:36.615331 140480743667456 bert_pos.py:495]   name = bert/encoder/layer_1/attention/output/LayerNorm/beta:0, shape = (768,), *INIT_FROM_CKPT*\n",
      "I0521 23:02:36.615624 140480743667456 bert_pos.py:495]   name = bert/encoder/layer_1/attention/output/LayerNorm/gamma:0, shape = (768,), *INIT_FROM_CKPT*\n",
      "I0521 23:02:36.615930 140480743667456 bert_pos.py:495]   name = bert/encoder/layer_1/intermediate/dense/kernel:0, shape = (768, 3072), *INIT_FROM_CKPT*\n",
      "I0521 23:02:36.616232 140480743667456 bert_pos.py:495]   name = bert/encoder/layer_1/intermediate/dense/bias:0, shape = (3072,), *INIT_FROM_CKPT*\n",
      "I0521 23:02:36.616519 140480743667456 bert_pos.py:495]   name = bert/encoder/layer_1/output/dense/kernel:0, shape = (3072, 768), *INIT_FROM_CKPT*\n",
      "I0521 23:02:36.616823 140480743667456 bert_pos.py:495]   name = bert/encoder/layer_1/output/dense/bias:0, shape = (768,), *INIT_FROM_CKPT*\n",
      "I0521 23:02:36.617090 140480743667456 bert_pos.py:495]   name = bert/encoder/layer_1/output/LayerNorm/beta:0, shape = (768,), *INIT_FROM_CKPT*\n",
      "I0521 23:02:36.617398 140480743667456 bert_pos.py:495]   name = bert/encoder/layer_1/output/LayerNorm/gamma:0, shape = (768,), *INIT_FROM_CKPT*\n",
      "I0521 23:02:36.617683 140480743667456 bert_pos.py:495]   name = bert/encoder/layer_2/attention/self/query/kernel:0, shape = (768, 768), *INIT_FROM_CKPT*\n",
      "I0521 23:02:36.617951 140480743667456 bert_pos.py:495]   name = bert/encoder/layer_2/attention/self/query/bias:0, shape = (768,), *INIT_FROM_CKPT*\n",
      "I0521 23:02:36.618259 140480743667456 bert_pos.py:495]   name = bert/encoder/layer_2/attention/self/key/kernel:0, shape = (768, 768), *INIT_FROM_CKPT*\n",
      "I0521 23:02:36.618525 140480743667456 bert_pos.py:495]   name = bert/encoder/layer_2/attention/self/key/bias:0, shape = (768,), *INIT_FROM_CKPT*\n",
      "I0521 23:02:36.618800 140480743667456 bert_pos.py:495]   name = bert/encoder/layer_2/attention/self/value/kernel:0, shape = (768, 768), *INIT_FROM_CKPT*\n",
      "I0521 23:02:36.619080 140480743667456 bert_pos.py:495]   name = bert/encoder/layer_2/attention/self/value/bias:0, shape = (768,), *INIT_FROM_CKPT*\n",
      "I0521 23:02:36.619356 140480743667456 bert_pos.py:495]   name = bert/encoder/layer_2/attention/output/dense/kernel:0, shape = (768, 768), *INIT_FROM_CKPT*\n",
      "I0521 23:02:36.619647 140480743667456 bert_pos.py:495]   name = bert/encoder/layer_2/attention/output/dense/bias:0, shape = (768,), *INIT_FROM_CKPT*\n",
      "I0521 23:02:36.620006 140480743667456 bert_pos.py:495]   name = bert/encoder/layer_2/attention/output/LayerNorm/beta:0, shape = (768,), *INIT_FROM_CKPT*\n",
      "I0521 23:02:36.620325 140480743667456 bert_pos.py:495]   name = bert/encoder/layer_2/attention/output/LayerNorm/gamma:0, shape = (768,), *INIT_FROM_CKPT*\n",
      "I0521 23:02:36.620581 140480743667456 bert_pos.py:495]   name = bert/encoder/layer_2/intermediate/dense/kernel:0, shape = (768, 3072), *INIT_FROM_CKPT*\n",
      "I0521 23:02:36.620849 140480743667456 bert_pos.py:495]   name = bert/encoder/layer_2/intermediate/dense/bias:0, shape = (3072,), *INIT_FROM_CKPT*\n",
      "I0521 23:02:36.621112 140480743667456 bert_pos.py:495]   name = bert/encoder/layer_2/output/dense/kernel:0, shape = (3072, 768), *INIT_FROM_CKPT*\n"
     ]
    },
    {
     "name": "stderr",
     "output_type": "stream",
     "text": [
      "I0521 23:02:36.621374 140480743667456 bert_pos.py:495]   name = bert/encoder/layer_2/output/dense/bias:0, shape = (768,), *INIT_FROM_CKPT*\n",
      "I0521 23:02:36.621640 140480743667456 bert_pos.py:495]   name = bert/encoder/layer_2/output/LayerNorm/beta:0, shape = (768,), *INIT_FROM_CKPT*\n",
      "I0521 23:02:36.621915 140480743667456 bert_pos.py:495]   name = bert/encoder/layer_2/output/LayerNorm/gamma:0, shape = (768,), *INIT_FROM_CKPT*\n",
      "I0521 23:02:36.622236 140480743667456 bert_pos.py:495]   name = bert/encoder/layer_3/attention/self/query/kernel:0, shape = (768, 768), *INIT_FROM_CKPT*\n",
      "I0521 23:02:36.622500 140480743667456 bert_pos.py:495]   name = bert/encoder/layer_3/attention/self/query/bias:0, shape = (768,), *INIT_FROM_CKPT*\n",
      "I0521 23:02:36.622769 140480743667456 bert_pos.py:495]   name = bert/encoder/layer_3/attention/self/key/kernel:0, shape = (768, 768), *INIT_FROM_CKPT*\n",
      "I0521 23:02:36.623026 140480743667456 bert_pos.py:495]   name = bert/encoder/layer_3/attention/self/key/bias:0, shape = (768,), *INIT_FROM_CKPT*\n",
      "I0521 23:02:36.623292 140480743667456 bert_pos.py:495]   name = bert/encoder/layer_3/attention/self/value/kernel:0, shape = (768, 768), *INIT_FROM_CKPT*\n",
      "I0521 23:02:36.623575 140480743667456 bert_pos.py:495]   name = bert/encoder/layer_3/attention/self/value/bias:0, shape = (768,), *INIT_FROM_CKPT*\n",
      "I0521 23:02:36.623846 140480743667456 bert_pos.py:495]   name = bert/encoder/layer_3/attention/output/dense/kernel:0, shape = (768, 768), *INIT_FROM_CKPT*\n",
      "I0521 23:02:36.624125 140480743667456 bert_pos.py:495]   name = bert/encoder/layer_3/attention/output/dense/bias:0, shape = (768,), *INIT_FROM_CKPT*\n",
      "I0521 23:02:36.624411 140480743667456 bert_pos.py:495]   name = bert/encoder/layer_3/attention/output/LayerNorm/beta:0, shape = (768,), *INIT_FROM_CKPT*\n",
      "I0521 23:02:36.624692 140480743667456 bert_pos.py:495]   name = bert/encoder/layer_3/attention/output/LayerNorm/gamma:0, shape = (768,), *INIT_FROM_CKPT*\n",
      "I0521 23:02:36.624979 140480743667456 bert_pos.py:495]   name = bert/encoder/layer_3/intermediate/dense/kernel:0, shape = (768, 3072), *INIT_FROM_CKPT*\n",
      "I0521 23:02:36.625285 140480743667456 bert_pos.py:495]   name = bert/encoder/layer_3/intermediate/dense/bias:0, shape = (3072,), *INIT_FROM_CKPT*\n",
      "I0521 23:02:36.627895 140480743667456 bert_pos.py:495]   name = bert/encoder/layer_3/output/dense/kernel:0, shape = (3072, 768), *INIT_FROM_CKPT*\n",
      "I0521 23:02:36.628244 140480743667456 bert_pos.py:495]   name = bert/encoder/layer_3/output/dense/bias:0, shape = (768,), *INIT_FROM_CKPT*\n",
      "I0521 23:02:36.628519 140480743667456 bert_pos.py:495]   name = bert/encoder/layer_3/output/LayerNorm/beta:0, shape = (768,), *INIT_FROM_CKPT*\n",
      "I0521 23:02:36.628814 140480743667456 bert_pos.py:495]   name = bert/encoder/layer_3/output/LayerNorm/gamma:0, shape = (768,), *INIT_FROM_CKPT*\n",
      "I0521 23:02:36.629103 140480743667456 bert_pos.py:495]   name = bert/encoder/layer_4/attention/self/query/kernel:0, shape = (768, 768), *INIT_FROM_CKPT*\n",
      "I0521 23:02:36.629385 140480743667456 bert_pos.py:495]   name = bert/encoder/layer_4/attention/self/query/bias:0, shape = (768,), *INIT_FROM_CKPT*\n",
      "I0521 23:02:36.629675 140480743667456 bert_pos.py:495]   name = bert/encoder/layer_4/attention/self/key/kernel:0, shape = (768, 768), *INIT_FROM_CKPT*\n",
      "I0521 23:02:36.629957 140480743667456 bert_pos.py:495]   name = bert/encoder/layer_4/attention/self/key/bias:0, shape = (768,), *INIT_FROM_CKPT*\n",
      "I0521 23:02:36.630241 140480743667456 bert_pos.py:495]   name = bert/encoder/layer_4/attention/self/value/kernel:0, shape = (768, 768), *INIT_FROM_CKPT*\n",
      "I0521 23:02:36.630564 140480743667456 bert_pos.py:495]   name = bert/encoder/layer_4/attention/self/value/bias:0, shape = (768,), *INIT_FROM_CKPT*\n",
      "I0521 23:02:36.630849 140480743667456 bert_pos.py:495]   name = bert/encoder/layer_4/attention/output/dense/kernel:0, shape = (768, 768), *INIT_FROM_CKPT*\n",
      "I0521 23:02:36.631127 140480743667456 bert_pos.py:495]   name = bert/encoder/layer_4/attention/output/dense/bias:0, shape = (768,), *INIT_FROM_CKPT*\n",
      "I0521 23:02:36.631416 140480743667456 bert_pos.py:495]   name = bert/encoder/layer_4/attention/output/LayerNorm/beta:0, shape = (768,), *INIT_FROM_CKPT*\n",
      "I0521 23:02:36.631693 140480743667456 bert_pos.py:495]   name = bert/encoder/layer_4/attention/output/LayerNorm/gamma:0, shape = (768,), *INIT_FROM_CKPT*\n",
      "I0521 23:02:36.631992 140480743667456 bert_pos.py:495]   name = bert/encoder/layer_4/intermediate/dense/kernel:0, shape = (768, 3072), *INIT_FROM_CKPT*\n",
      "I0521 23:02:36.633291 140480743667456 bert_pos.py:495]   name = bert/encoder/layer_4/intermediate/dense/bias:0, shape = (3072,), *INIT_FROM_CKPT*\n",
      "I0521 23:02:36.633595 140480743667456 bert_pos.py:495]   name = bert/encoder/layer_4/output/dense/kernel:0, shape = (3072, 768), *INIT_FROM_CKPT*\n",
      "I0521 23:02:36.633881 140480743667456 bert_pos.py:495]   name = bert/encoder/layer_4/output/dense/bias:0, shape = (768,), *INIT_FROM_CKPT*\n",
      "I0521 23:02:36.634185 140480743667456 bert_pos.py:495]   name = bert/encoder/layer_4/output/LayerNorm/beta:0, shape = (768,), *INIT_FROM_CKPT*\n",
      "I0521 23:02:36.634472 140480743667456 bert_pos.py:495]   name = bert/encoder/layer_4/output/LayerNorm/gamma:0, shape = (768,), *INIT_FROM_CKPT*\n",
      "I0521 23:02:36.634752 140480743667456 bert_pos.py:495]   name = bert/encoder/layer_5/attention/self/query/kernel:0, shape = (768, 768), *INIT_FROM_CKPT*\n",
      "I0521 23:02:36.635040 140480743667456 bert_pos.py:495]   name = bert/encoder/layer_5/attention/self/query/bias:0, shape = (768,), *INIT_FROM_CKPT*\n",
      "I0521 23:02:36.635317 140480743667456 bert_pos.py:495]   name = bert/encoder/layer_5/attention/self/key/kernel:0, shape = (768, 768), *INIT_FROM_CKPT*\n",
      "I0521 23:02:36.635596 140480743667456 bert_pos.py:495]   name = bert/encoder/layer_5/attention/self/key/bias:0, shape = (768,), *INIT_FROM_CKPT*\n",
      "I0521 23:02:36.635878 140480743667456 bert_pos.py:495]   name = bert/encoder/layer_5/attention/self/value/kernel:0, shape = (768, 768), *INIT_FROM_CKPT*\n",
      "I0521 23:02:36.636187 140480743667456 bert_pos.py:495]   name = bert/encoder/layer_5/attention/self/value/bias:0, shape = (768,), *INIT_FROM_CKPT*\n",
      "I0521 23:02:36.636489 140480743667456 bert_pos.py:495]   name = bert/encoder/layer_5/attention/output/dense/kernel:0, shape = (768, 768), *INIT_FROM_CKPT*\n",
      "I0521 23:02:36.637555 140480743667456 bert_pos.py:495]   name = bert/encoder/layer_5/attention/output/dense/bias:0, shape = (768,), *INIT_FROM_CKPT*\n",
      "I0521 23:02:36.637858 140480743667456 bert_pos.py:495]   name = bert/encoder/layer_5/attention/output/LayerNorm/beta:0, shape = (768,), *INIT_FROM_CKPT*\n",
      "I0521 23:02:36.638140 140480743667456 bert_pos.py:495]   name = bert/encoder/layer_5/attention/output/LayerNorm/gamma:0, shape = (768,), *INIT_FROM_CKPT*\n",
      "I0521 23:02:36.638420 140480743667456 bert_pos.py:495]   name = bert/encoder/layer_5/intermediate/dense/kernel:0, shape = (768, 3072), *INIT_FROM_CKPT*\n",
      "I0521 23:02:36.638716 140480743667456 bert_pos.py:495]   name = bert/encoder/layer_5/intermediate/dense/bias:0, shape = (3072,), *INIT_FROM_CKPT*\n",
      "I0521 23:02:36.638993 140480743667456 bert_pos.py:495]   name = bert/encoder/layer_5/output/dense/kernel:0, shape = (3072, 768), *INIT_FROM_CKPT*\n",
      "I0521 23:02:36.639271 140480743667456 bert_pos.py:495]   name = bert/encoder/layer_5/output/dense/bias:0, shape = (768,), *INIT_FROM_CKPT*\n",
      "I0521 23:02:36.639555 140480743667456 bert_pos.py:495]   name = bert/encoder/layer_5/output/LayerNorm/beta:0, shape = (768,), *INIT_FROM_CKPT*\n",
      "I0521 23:02:36.639832 140480743667456 bert_pos.py:495]   name = bert/encoder/layer_5/output/LayerNorm/gamma:0, shape = (768,), *INIT_FROM_CKPT*\n",
      "I0521 23:02:36.640124 140480743667456 bert_pos.py:495]   name = bert/encoder/layer_6/attention/self/query/kernel:0, shape = (768, 768), *INIT_FROM_CKPT*\n",
      "I0521 23:02:36.640404 140480743667456 bert_pos.py:495]   name = bert/encoder/layer_6/attention/self/query/bias:0, shape = (768,), *INIT_FROM_CKPT*\n",
      "I0521 23:02:36.640684 140480743667456 bert_pos.py:495]   name = bert/encoder/layer_6/attention/self/key/kernel:0, shape = (768, 768), *INIT_FROM_CKPT*\n",
      "I0521 23:02:36.640984 140480743667456 bert_pos.py:495]   name = bert/encoder/layer_6/attention/self/key/bias:0, shape = (768,), *INIT_FROM_CKPT*\n",
      "I0521 23:02:36.642120 140480743667456 bert_pos.py:495]   name = bert/encoder/layer_6/attention/self/value/kernel:0, shape = (768, 768), *INIT_FROM_CKPT*\n"
     ]
    },
    {
     "name": "stderr",
     "output_type": "stream",
     "text": [
      "I0521 23:02:36.642405 140480743667456 bert_pos.py:495]   name = bert/encoder/layer_6/attention/self/value/bias:0, shape = (768,), *INIT_FROM_CKPT*\n",
      "I0521 23:02:36.642685 140480743667456 bert_pos.py:495]   name = bert/encoder/layer_6/attention/output/dense/kernel:0, shape = (768, 768), *INIT_FROM_CKPT*\n",
      "I0521 23:02:36.642969 140480743667456 bert_pos.py:495]   name = bert/encoder/layer_6/attention/output/dense/bias:0, shape = (768,), *INIT_FROM_CKPT*\n",
      "I0521 23:02:36.643261 140480743667456 bert_pos.py:495]   name = bert/encoder/layer_6/attention/output/LayerNorm/beta:0, shape = (768,), *INIT_FROM_CKPT*\n",
      "I0521 23:02:36.643537 140480743667456 bert_pos.py:495]   name = bert/encoder/layer_6/attention/output/LayerNorm/gamma:0, shape = (768,), *INIT_FROM_CKPT*\n",
      "I0521 23:02:36.643839 140480743667456 bert_pos.py:495]   name = bert/encoder/layer_6/intermediate/dense/kernel:0, shape = (768, 3072), *INIT_FROM_CKPT*\n",
      "I0521 23:02:36.644603 140480743667456 bert_pos.py:495]   name = bert/encoder/layer_6/intermediate/dense/bias:0, shape = (3072,), *INIT_FROM_CKPT*\n",
      "I0521 23:02:36.644908 140480743667456 bert_pos.py:495]   name = bert/encoder/layer_6/output/dense/kernel:0, shape = (3072, 768), *INIT_FROM_CKPT*\n",
      "I0521 23:02:36.645341 140480743667456 bert_pos.py:495]   name = bert/encoder/layer_6/output/dense/bias:0, shape = (768,), *INIT_FROM_CKPT*\n",
      "I0521 23:02:36.645614 140480743667456 bert_pos.py:495]   name = bert/encoder/layer_6/output/LayerNorm/beta:0, shape = (768,), *INIT_FROM_CKPT*\n",
      "I0521 23:02:36.645873 140480743667456 bert_pos.py:495]   name = bert/encoder/layer_6/output/LayerNorm/gamma:0, shape = (768,), *INIT_FROM_CKPT*\n",
      "I0521 23:02:36.646145 140480743667456 bert_pos.py:495]   name = bert/encoder/layer_7/attention/self/query/kernel:0, shape = (768, 768), *INIT_FROM_CKPT*\n",
      "I0521 23:02:36.646405 140480743667456 bert_pos.py:495]   name = bert/encoder/layer_7/attention/self/query/bias:0, shape = (768,), *INIT_FROM_CKPT*\n",
      "I0521 23:02:36.646691 140480743667456 bert_pos.py:495]   name = bert/encoder/layer_7/attention/self/key/kernel:0, shape = (768, 768), *INIT_FROM_CKPT*\n",
      "I0521 23:02:36.646956 140480743667456 bert_pos.py:495]   name = bert/encoder/layer_7/attention/self/key/bias:0, shape = (768,), *INIT_FROM_CKPT*\n",
      "I0521 23:02:36.647237 140480743667456 bert_pos.py:495]   name = bert/encoder/layer_7/attention/self/value/kernel:0, shape = (768, 768), *INIT_FROM_CKPT*\n",
      "I0521 23:02:36.647527 140480743667456 bert_pos.py:495]   name = bert/encoder/layer_7/attention/self/value/bias:0, shape = (768,), *INIT_FROM_CKPT*\n",
      "I0521 23:02:36.647826 140480743667456 bert_pos.py:495]   name = bert/encoder/layer_7/attention/output/dense/kernel:0, shape = (768, 768), *INIT_FROM_CKPT*\n",
      "I0521 23:02:36.648845 140480743667456 bert_pos.py:495]   name = bert/encoder/layer_7/attention/output/dense/bias:0, shape = (768,), *INIT_FROM_CKPT*\n",
      "I0521 23:02:36.649159 140480743667456 bert_pos.py:495]   name = bert/encoder/layer_7/attention/output/LayerNorm/beta:0, shape = (768,), *INIT_FROM_CKPT*\n",
      "I0521 23:02:36.649454 140480743667456 bert_pos.py:495]   name = bert/encoder/layer_7/attention/output/LayerNorm/gamma:0, shape = (768,), *INIT_FROM_CKPT*\n",
      "I0521 23:02:36.649732 140480743667456 bert_pos.py:495]   name = bert/encoder/layer_7/intermediate/dense/kernel:0, shape = (768, 3072), *INIT_FROM_CKPT*\n",
      "I0521 23:02:36.650043 140480743667456 bert_pos.py:495]   name = bert/encoder/layer_7/intermediate/dense/bias:0, shape = (3072,), *INIT_FROM_CKPT*\n",
      "I0521 23:02:36.650332 140480743667456 bert_pos.py:495]   name = bert/encoder/layer_7/output/dense/kernel:0, shape = (3072, 768), *INIT_FROM_CKPT*\n",
      "I0521 23:02:36.650627 140480743667456 bert_pos.py:495]   name = bert/encoder/layer_7/output/dense/bias:0, shape = (768,), *INIT_FROM_CKPT*\n",
      "I0521 23:02:36.650926 140480743667456 bert_pos.py:495]   name = bert/encoder/layer_7/output/LayerNorm/beta:0, shape = (768,), *INIT_FROM_CKPT*\n",
      "I0521 23:02:36.651201 140480743667456 bert_pos.py:495]   name = bert/encoder/layer_7/output/LayerNorm/gamma:0, shape = (768,), *INIT_FROM_CKPT*\n",
      "I0521 23:02:36.651483 140480743667456 bert_pos.py:495]   name = bert/encoder/layer_8/attention/self/query/kernel:0, shape = (768, 768), *INIT_FROM_CKPT*\n",
      "I0521 23:02:36.651780 140480743667456 bert_pos.py:495]   name = bert/encoder/layer_8/attention/self/query/bias:0, shape = (768,), *INIT_FROM_CKPT*\n",
      "I0521 23:02:36.652044 140480743667456 bert_pos.py:495]   name = bert/encoder/layer_8/attention/self/key/kernel:0, shape = (768, 768), *INIT_FROM_CKPT*\n",
      "I0521 23:02:36.652328 140480743667456 bert_pos.py:495]   name = bert/encoder/layer_8/attention/self/key/bias:0, shape = (768,), *INIT_FROM_CKPT*\n",
      "I0521 23:02:36.652591 140480743667456 bert_pos.py:495]   name = bert/encoder/layer_8/attention/self/value/kernel:0, shape = (768, 768), *INIT_FROM_CKPT*\n",
      "I0521 23:02:36.652873 140480743667456 bert_pos.py:495]   name = bert/encoder/layer_8/attention/self/value/bias:0, shape = (768,), *INIT_FROM_CKPT*\n",
      "I0521 23:02:36.653155 140480743667456 bert_pos.py:495]   name = bert/encoder/layer_8/attention/output/dense/kernel:0, shape = (768, 768), *INIT_FROM_CKPT*\n",
      "I0521 23:02:36.653434 140480743667456 bert_pos.py:495]   name = bert/encoder/layer_8/attention/output/dense/bias:0, shape = (768,), *INIT_FROM_CKPT*\n",
      "I0521 23:02:36.653720 140480743667456 bert_pos.py:495]   name = bert/encoder/layer_8/attention/output/LayerNorm/beta:0, shape = (768,), *INIT_FROM_CKPT*\n",
      "I0521 23:02:36.653975 140480743667456 bert_pos.py:495]   name = bert/encoder/layer_8/attention/output/LayerNorm/gamma:0, shape = (768,), *INIT_FROM_CKPT*\n",
      "I0521 23:02:36.654236 140480743667456 bert_pos.py:495]   name = bert/encoder/layer_8/intermediate/dense/kernel:0, shape = (768, 3072), *INIT_FROM_CKPT*\n",
      "I0521 23:02:36.654511 140480743667456 bert_pos.py:495]   name = bert/encoder/layer_8/intermediate/dense/bias:0, shape = (3072,), *INIT_FROM_CKPT*\n",
      "I0521 23:02:36.654822 140480743667456 bert_pos.py:495]   name = bert/encoder/layer_8/output/dense/kernel:0, shape = (3072, 768), *INIT_FROM_CKPT*\n",
      "I0521 23:02:36.655104 140480743667456 bert_pos.py:495]   name = bert/encoder/layer_8/output/dense/bias:0, shape = (768,), *INIT_FROM_CKPT*\n",
      "I0521 23:02:36.655386 140480743667456 bert_pos.py:495]   name = bert/encoder/layer_8/output/LayerNorm/beta:0, shape = (768,), *INIT_FROM_CKPT*\n",
      "I0521 23:02:36.655701 140480743667456 bert_pos.py:495]   name = bert/encoder/layer_8/output/LayerNorm/gamma:0, shape = (768,), *INIT_FROM_CKPT*\n",
      "I0521 23:02:36.655985 140480743667456 bert_pos.py:495]   name = bert/encoder/layer_9/attention/self/query/kernel:0, shape = (768, 768), *INIT_FROM_CKPT*\n",
      "I0521 23:02:36.656322 140480743667456 bert_pos.py:495]   name = bert/encoder/layer_9/attention/self/query/bias:0, shape = (768,), *INIT_FROM_CKPT*\n",
      "I0521 23:02:36.656638 140480743667456 bert_pos.py:495]   name = bert/encoder/layer_9/attention/self/key/kernel:0, shape = (768, 768), *INIT_FROM_CKPT*\n",
      "I0521 23:02:36.656922 140480743667456 bert_pos.py:495]   name = bert/encoder/layer_9/attention/self/key/bias:0, shape = (768,), *INIT_FROM_CKPT*\n",
      "I0521 23:02:36.657216 140480743667456 bert_pos.py:495]   name = bert/encoder/layer_9/attention/self/value/kernel:0, shape = (768, 768), *INIT_FROM_CKPT*\n",
      "I0521 23:02:36.657504 140480743667456 bert_pos.py:495]   name = bert/encoder/layer_9/attention/self/value/bias:0, shape = (768,), *INIT_FROM_CKPT*\n",
      "I0521 23:02:36.657796 140480743667456 bert_pos.py:495]   name = bert/encoder/layer_9/attention/output/dense/kernel:0, shape = (768, 768), *INIT_FROM_CKPT*\n",
      "I0521 23:02:36.658076 140480743667456 bert_pos.py:495]   name = bert/encoder/layer_9/attention/output/dense/bias:0, shape = (768,), *INIT_FROM_CKPT*\n",
      "I0521 23:02:36.660641 140480743667456 bert_pos.py:495]   name = bert/encoder/layer_9/attention/output/LayerNorm/beta:0, shape = (768,), *INIT_FROM_CKPT*\n",
      "I0521 23:02:36.660905 140480743667456 bert_pos.py:495]   name = bert/encoder/layer_9/attention/output/LayerNorm/gamma:0, shape = (768,), *INIT_FROM_CKPT*\n",
      "I0521 23:02:36.661191 140480743667456 bert_pos.py:495]   name = bert/encoder/layer_9/intermediate/dense/kernel:0, shape = (768, 3072), *INIT_FROM_CKPT*\n",
      "I0521 23:02:36.661475 140480743667456 bert_pos.py:495]   name = bert/encoder/layer_9/intermediate/dense/bias:0, shape = (3072,), *INIT_FROM_CKPT*\n",
      "I0521 23:02:36.661753 140480743667456 bert_pos.py:495]   name = bert/encoder/layer_9/output/dense/kernel:0, shape = (3072, 768), *INIT_FROM_CKPT*\n"
     ]
    },
    {
     "name": "stderr",
     "output_type": "stream",
     "text": [
      "I0521 23:02:36.662043 140480743667456 bert_pos.py:495]   name = bert/encoder/layer_9/output/dense/bias:0, shape = (768,), *INIT_FROM_CKPT*\n",
      "I0521 23:02:36.662326 140480743667456 bert_pos.py:495]   name = bert/encoder/layer_9/output/LayerNorm/beta:0, shape = (768,), *INIT_FROM_CKPT*\n",
      "I0521 23:02:36.662604 140480743667456 bert_pos.py:495]   name = bert/encoder/layer_9/output/LayerNorm/gamma:0, shape = (768,), *INIT_FROM_CKPT*\n",
      "I0521 23:02:36.662883 140480743667456 bert_pos.py:495]   name = bert/encoder/layer_10/attention/self/query/kernel:0, shape = (768, 768), *INIT_FROM_CKPT*\n",
      "I0521 23:02:36.663184 140480743667456 bert_pos.py:495]   name = bert/encoder/layer_10/attention/self/query/bias:0, shape = (768,), *INIT_FROM_CKPT*\n",
      "I0521 23:02:36.663455 140480743667456 bert_pos.py:495]   name = bert/encoder/layer_10/attention/self/key/kernel:0, shape = (768, 768), *INIT_FROM_CKPT*\n",
      "I0521 23:02:36.663744 140480743667456 bert_pos.py:495]   name = bert/encoder/layer_10/attention/self/key/bias:0, shape = (768,), *INIT_FROM_CKPT*\n",
      "I0521 23:02:36.664085 140480743667456 bert_pos.py:495]   name = bert/encoder/layer_10/attention/self/value/kernel:0, shape = (768, 768), *INIT_FROM_CKPT*\n",
      "I0521 23:02:36.664383 140480743667456 bert_pos.py:495]   name = bert/encoder/layer_10/attention/self/value/bias:0, shape = (768,), *INIT_FROM_CKPT*\n",
      "I0521 23:02:36.664672 140480743667456 bert_pos.py:495]   name = bert/encoder/layer_10/attention/output/dense/kernel:0, shape = (768, 768), *INIT_FROM_CKPT*\n",
      "I0521 23:02:36.664936 140480743667456 bert_pos.py:495]   name = bert/encoder/layer_10/attention/output/dense/bias:0, shape = (768,), *INIT_FROM_CKPT*\n",
      "I0521 23:02:36.665218 140480743667456 bert_pos.py:495]   name = bert/encoder/layer_10/attention/output/LayerNorm/beta:0, shape = (768,), *INIT_FROM_CKPT*\n",
      "I0521 23:02:36.665493 140480743667456 bert_pos.py:495]   name = bert/encoder/layer_10/attention/output/LayerNorm/gamma:0, shape = (768,), *INIT_FROM_CKPT*\n",
      "I0521 23:02:36.665790 140480743667456 bert_pos.py:495]   name = bert/encoder/layer_10/intermediate/dense/kernel:0, shape = (768, 3072), *INIT_FROM_CKPT*\n",
      "I0521 23:02:36.666073 140480743667456 bert_pos.py:495]   name = bert/encoder/layer_10/intermediate/dense/bias:0, shape = (3072,), *INIT_FROM_CKPT*\n",
      "I0521 23:02:36.666367 140480743667456 bert_pos.py:495]   name = bert/encoder/layer_10/output/dense/kernel:0, shape = (3072, 768), *INIT_FROM_CKPT*\n",
      "I0521 23:02:36.667975 140480743667456 bert_pos.py:495]   name = bert/encoder/layer_10/output/dense/bias:0, shape = (768,), *INIT_FROM_CKPT*\n",
      "I0521 23:02:36.668266 140480743667456 bert_pos.py:495]   name = bert/encoder/layer_10/output/LayerNorm/beta:0, shape = (768,), *INIT_FROM_CKPT*\n",
      "I0521 23:02:36.668573 140480743667456 bert_pos.py:495]   name = bert/encoder/layer_10/output/LayerNorm/gamma:0, shape = (768,), *INIT_FROM_CKPT*\n",
      "I0521 23:02:36.669068 140480743667456 bert_pos.py:495]   name = bert/encoder/layer_11/attention/self/query/kernel:0, shape = (768, 768), *INIT_FROM_CKPT*\n",
      "I0521 23:02:36.669377 140480743667456 bert_pos.py:495]   name = bert/encoder/layer_11/attention/self/query/bias:0, shape = (768,), *INIT_FROM_CKPT*\n",
      "I0521 23:02:36.669669 140480743667456 bert_pos.py:495]   name = bert/encoder/layer_11/attention/self/key/kernel:0, shape = (768, 768), *INIT_FROM_CKPT*\n",
      "I0521 23:02:36.670167 140480743667456 bert_pos.py:495]   name = bert/encoder/layer_11/attention/self/key/bias:0, shape = (768,), *INIT_FROM_CKPT*\n",
      "I0521 23:02:36.670643 140480743667456 bert_pos.py:495]   name = bert/encoder/layer_11/attention/self/value/kernel:0, shape = (768, 768), *INIT_FROM_CKPT*\n",
      "I0521 23:02:36.670911 140480743667456 bert_pos.py:495]   name = bert/encoder/layer_11/attention/self/value/bias:0, shape = (768,), *INIT_FROM_CKPT*\n",
      "I0521 23:02:36.671194 140480743667456 bert_pos.py:495]   name = bert/encoder/layer_11/attention/output/dense/kernel:0, shape = (768, 768), *INIT_FROM_CKPT*\n",
      "I0521 23:02:36.671486 140480743667456 bert_pos.py:495]   name = bert/encoder/layer_11/attention/output/dense/bias:0, shape = (768,), *INIT_FROM_CKPT*\n",
      "I0521 23:02:36.671776 140480743667456 bert_pos.py:495]   name = bert/encoder/layer_11/attention/output/LayerNorm/beta:0, shape = (768,), *INIT_FROM_CKPT*\n",
      "I0521 23:02:36.672057 140480743667456 bert_pos.py:495]   name = bert/encoder/layer_11/attention/output/LayerNorm/gamma:0, shape = (768,), *INIT_FROM_CKPT*\n",
      "I0521 23:02:36.672474 140480743667456 bert_pos.py:495]   name = bert/encoder/layer_11/intermediate/dense/kernel:0, shape = (768, 3072), *INIT_FROM_CKPT*\n",
      "I0521 23:02:36.672773 140480743667456 bert_pos.py:495]   name = bert/encoder/layer_11/intermediate/dense/bias:0, shape = (3072,), *INIT_FROM_CKPT*\n",
      "I0521 23:02:36.673031 140480743667456 bert_pos.py:495]   name = bert/encoder/layer_11/output/dense/kernel:0, shape = (3072, 768), *INIT_FROM_CKPT*\n",
      "I0521 23:02:36.673291 140480743667456 bert_pos.py:495]   name = bert/encoder/layer_11/output/dense/bias:0, shape = (768,), *INIT_FROM_CKPT*\n",
      "I0521 23:02:36.673581 140480743667456 bert_pos.py:495]   name = bert/encoder/layer_11/output/LayerNorm/beta:0, shape = (768,), *INIT_FROM_CKPT*\n",
      "I0521 23:02:36.674557 140480743667456 bert_pos.py:495]   name = bert/encoder/layer_11/output/LayerNorm/gamma:0, shape = (768,), *INIT_FROM_CKPT*\n",
      "I0521 23:02:36.674847 140480743667456 bert_pos.py:495]   name = bert/pooler/dense/kernel:0, shape = (768, 768), *INIT_FROM_CKPT*\n",
      "I0521 23:02:36.675128 140480743667456 bert_pos.py:495]   name = bert/pooler/dense/bias:0, shape = (768,), *INIT_FROM_CKPT*\n",
      "I0521 23:02:36.675399 140480743667456 bert_pos.py:495]   name = dense_37/kernel:0, shape = (768, 21)\n",
      "I0521 23:02:36.675693 140480743667456 bert_pos.py:495]   name = dense_37/bias:0, shape = (21,)\n",
      "I0521 23:02:36.675970 140480743667456 bert_pos.py:495]   name = crf_loss/transition:0, shape = (21, 21)\n",
      "W0521 23:02:36.680280 140480743667456 deprecation.py:323] From /home/dbnet/stout/BERT-POS/metrics.py:82: to_int64 (from tensorflow.python.ops.math_ops) is deprecated and will be removed in a future version.\n",
      "Instructions for updating:\n",
      "Use tf.cast instead.\n",
      "I0521 23:02:36.728214 140480743667456 estimator.py:1113] Done calling model_fn.\n",
      "W0521 23:02:36.728787 140480743667456 deprecation.py:323] From /home/dbnet/anaconda3/lib/python3.6/site-packages/tensorflow/python/ops/metrics_impl.py:363: to_float (from tensorflow.python.ops.math_ops) is deprecated and will be removed in a future version.\n",
      "Instructions for updating:\n",
      "Use tf.cast instead.\n",
      "I0521 23:02:36.742793 140480743667456 evaluation.py:257] Starting evaluation at 2019-05-21T20:02:36Z\n",
      "I0521 23:02:37.086570 140480743667456 monitored_session.py:222] Graph was finalized.\n",
      "W0521 23:02:37.087833 140480743667456 deprecation.py:323] From /home/dbnet/anaconda3/lib/python3.6/site-packages/tensorflow/python/training/saver.py:1266: checkpoint_exists (from tensorflow.python.training.checkpoint_management) is deprecated and will be removed in a future version.\n",
      "Instructions for updating:\n",
      "Use standard file APIs to check for files with this prefix.\n",
      "I0521 23:02:37.089630 140480743667456 saver.py:1270] Restoring parameters from ./output/result_dir/model.ckpt-403\n",
      "I0521 23:02:37.561605 140480743667456 session_manager.py:491] Running local_init_op.\n",
      "I0521 23:02:37.607593 140480743667456 session_manager.py:493] Done running local_init_op.\n",
      "I0521 23:02:39.855277 140480743667456 evaluation.py:277] Finished evaluation at 2019-05-21-20:02:39\n",
      "I0521 23:02:39.858709 140480743667456 estimator.py:1979] Saving dict for global step 403: confusion_matrix = [[  0.   0.   0.   0.   0.   0.   0.   0.   0.   0.   0.   0.   0.   0.\n",
      "    0.   0.   0.   0.   0.   0.   0.]\n",
      " [  0. 185.   0.   5.   0.   0.   0.   0.  13.   0.   0.   0.   3.   0.\n",
      "    0.   0.   4.   0.   0.   0.   0.]\n",
      " [  0.   0. 293.   2.   0.   0.   0.   0.   0.   0.   1.   0.   0.   0.\n",
      "    1.   0.   0.   0.   0.   0.   0.]\n",
      " [  0.   4.   4.  96.   0.   0.   0.   0.   1.   0.   0.   2.   0.   0.\n",
      "    1.   0.   0.   0.   0.   0.   0.]\n",
      " [  0.   0.   0.   0. 123.   0.   0.   0.   0.   0.   0.   0.   0.   0.\n",
      "    0.   0.   1.   0.   0.   0.   0.]\n",
      " [  0.   0.   0.   0.   0.  88.   0.   0.   0.   0.   0.   0.   0.   0.\n",
      "    0.   0.   0.   0.   0.   0.   0.]\n",
      " [  0.   0.   0.   0.   0.   1. 262.   0.   0.   0.   0.   1.   0.   0.\n",
      "    2.   0.   0.   0.   0.   0.   0.]\n",
      " [  0.   0.   0.   0.   0.   0.   0.   0.   0.   0.   0.   0.   0.   0.\n",
      "    0.   0.   0.   0.   0.   0.   0.]\n",
      " [  0.  12.   0.   0.   0.   0.   0.   0. 537.   0.   0.   0.   9.   0.\n",
      "    0.   0.   8.   0.   2.   0.   0.]\n",
      " [  0.   0.   0.   0.   0.   0.   0.   0.   0.  60.   0.   0.   0.   0.\n",
      "    0.   0.   0.   0.   0.   0.   0.]\n",
      " [  0.   0.   1.   0.   1.   0.   0.   0.   0.   0.  54.   0.   0.   0.\n",
      "    0.   0.   0.   0.   0.   0.   0.]\n",
      " [  0.   0.   0.   1.   0.   0.   2.   0.   0.   1.   0. 146.   0.   0.\n",
      "    3.   0.   0.   0.   0.   0.   0.]\n",
      " [  0.   3.   0.   0.   0.   0.   0.   0.   7.   0.   0.   0.  97.   0.\n",
      "    0.   0.   0.   0.   0.   0.   0.]\n",
      " [  0.   0.   0.   0.   0.   0.   0.   0.   0.   0.   0.   0.   0. 350.\n",
      "    0.   0.   0.   0.   3.   0.   0.]\n",
      " [  0.   0.   2.   2.   0.   0.   2.   0.   0.   0.   0.   2.   0.   0.\n",
      "   33.   0.   0.   0.   0.   0.   0.]\n",
      " [  0.   0.   0.   0.   0.   0.   0.   0.   0.   0.   0.   0.   0.   0.\n",
      "    0.   2.   0.   0.   0.   0.   0.]\n",
      " [  0.   3.   0.   0.   5.   0.   0.   0.   4.   0.   0.   0.   0.   0.\n",
      "    0.   0. 264.   0.   0.   0.   0.]\n",
      " [  0.   0.   0.   0.   0.   0.   2.   0.   3.   0.   0.   0.   1.   0.\n",
      "    0.   0.   0.   7.   0.   0.   0.]\n",
      " [  0.   0.   0.   0.   0.   0.   0.   0.   0.   0.   0.   0.   2.   1.\n",
      "    0.   0.   0.   0. 279.   0.   0.]\n",
      " [  0.   0.   0.   0.   0.   0.   0.   0.   0.   0.   0.   0.   0.   0.\n",
      "    0.   0.   0.   0.   0. 143.   0.]\n",
      " [  0.   0.   0.   0.   0.   0.   0.   0.   0.   0.   0.   0.   0.   0.\n",
      "    0.   0.   0.   0.   0.   0. 143.]], global_step = 403, loss = 4.048247\n"
     ]
    },
    {
     "name": "stderr",
     "output_type": "stream",
     "text": [
      "I0521 23:02:40.295973 140480743667456 estimator.py:2012] Summary for np.ndarray is not visible in Tensorboard by default. Consider using a Tensorboard plugin for visualization (see https://github.com/tensorflow/tensorboard-plugin-example/blob/master/README.md for more information).\n",
      "I0521 23:02:40.296931 140480743667456 estimator.py:2039] Saving 'checkpoint_path' summary for global step 403: ./output/result_dir/model.ckpt-403\n",
      "I0521 23:02:40.297545 140480743667456 error_handling.py:93] evaluation_loop marked as finished\n",
      "I0521 23:02:40.298076 140480743667456 bert_pos.py:653] ***** Eval results *****\n",
      "I0521 23:02:40.298760 140480743667456 bert_pos.py:656] ***********************************************\n",
      "I0521 23:02:40.299173 140480743667456 bert_pos.py:657] ********************P = 0.8601175613195139*********************\n",
      "I0521 23:02:40.299687 140480743667456 bert_pos.py:658] ********************R = 0.8392247131387066*********************\n",
      "I0521 23:02:40.299961 140480743667456 bert_pos.py:659] ********************F = 0.8461406437605048*********************\n",
      "I0521 23:02:40.300234 140480743667456 bert_pos.py:660] ***********************************************\n",
      "I0521 23:02:40.300649 140480743667456 bert_pos.py:663] ***** Eval results *****\n",
      "I0521 23:02:40.303442 140480743667456 bert_pos.py:665]   confusion_matrix = [[  0.   0.   0.   0.   0.   0.   0.   0.   0.   0.   0.   0.   0.   0.\n",
      "    0.   0.   0.   0.   0.   0.   0.]\n",
      " [  0. 185.   0.   5.   0.   0.   0.   0.  13.   0.   0.   0.   3.   0.\n",
      "    0.   0.   4.   0.   0.   0.   0.]\n",
      " [  0.   0. 293.   2.   0.   0.   0.   0.   0.   0.   1.   0.   0.   0.\n",
      "    1.   0.   0.   0.   0.   0.   0.]\n",
      " [  0.   4.   4.  96.   0.   0.   0.   0.   1.   0.   0.   2.   0.   0.\n",
      "    1.   0.   0.   0.   0.   0.   0.]\n",
      " [  0.   0.   0.   0. 123.   0.   0.   0.   0.   0.   0.   0.   0.   0.\n",
      "    0.   0.   1.   0.   0.   0.   0.]\n",
      " [  0.   0.   0.   0.   0.  88.   0.   0.   0.   0.   0.   0.   0.   0.\n",
      "    0.   0.   0.   0.   0.   0.   0.]\n",
      " [  0.   0.   0.   0.   0.   1. 262.   0.   0.   0.   0.   1.   0.   0.\n",
      "    2.   0.   0.   0.   0.   0.   0.]\n",
      " [  0.   0.   0.   0.   0.   0.   0.   0.   0.   0.   0.   0.   0.   0.\n",
      "    0.   0.   0.   0.   0.   0.   0.]\n",
      " [  0.  12.   0.   0.   0.   0.   0.   0. 537.   0.   0.   0.   9.   0.\n",
      "    0.   0.   8.   0.   2.   0.   0.]\n",
      " [  0.   0.   0.   0.   0.   0.   0.   0.   0.  60.   0.   0.   0.   0.\n",
      "    0.   0.   0.   0.   0.   0.   0.]\n",
      " [  0.   0.   1.   0.   1.   0.   0.   0.   0.   0.  54.   0.   0.   0.\n",
      "    0.   0.   0.   0.   0.   0.   0.]\n",
      " [  0.   0.   0.   1.   0.   0.   2.   0.   0.   1.   0. 146.   0.   0.\n",
      "    3.   0.   0.   0.   0.   0.   0.]\n",
      " [  0.   3.   0.   0.   0.   0.   0.   0.   7.   0.   0.   0.  97.   0.\n",
      "    0.   0.   0.   0.   0.   0.   0.]\n",
      " [  0.   0.   0.   0.   0.   0.   0.   0.   0.   0.   0.   0.   0. 350.\n",
      "    0.   0.   0.   0.   3.   0.   0.]\n",
      " [  0.   0.   2.   2.   0.   0.   2.   0.   0.   0.   0.   2.   0.   0.\n",
      "   33.   0.   0.   0.   0.   0.   0.]\n",
      " [  0.   0.   0.   0.   0.   0.   0.   0.   0.   0.   0.   0.   0.   0.\n",
      "    0.   2.   0.   0.   0.   0.   0.]\n",
      " [  0.   3.   0.   0.   5.   0.   0.   0.   4.   0.   0.   0.   0.   0.\n",
      "    0.   0. 264.   0.   0.   0.   0.]\n",
      " [  0.   0.   0.   0.   0.   0.   2.   0.   3.   0.   0.   0.   1.   0.\n",
      "    0.   0.   0.   7.   0.   0.   0.]\n",
      " [  0.   0.   0.   0.   0.   0.   0.   0.   0.   0.   0.   0.   2.   1.\n",
      "    0.   0.   0.   0. 279.   0.   0.]\n",
      " [  0.   0.   0.   0.   0.   0.   0.   0.   0.   0.   0.   0.   0.   0.\n",
      "    0.   0.   0.   0.   0. 143.   0.]\n",
      " [  0.   0.   0.   0.   0.   0.   0.   0.   0.   0.   0.   0.   0.   0.\n",
      "    0.   0.   0.   0.   0.   0. 143.]]\n",
      "I0521 23:02:40.306099 140480743667456 bert_pos.py:665]   global_step = 403\n",
      "I0521 23:02:40.306442 140480743667456 bert_pos.py:665]   loss = 4.048247\n",
      "I0521 23:02:40.449908 140480743667456 bert_pos.py:331] Writing example 0 of 150\n",
      "I0521 23:02:40.450906 140480743667456 bert_pos.py:308] *** Example ***\n",
      "I0521 23:02:40.451276 140480743667456 bert_pos.py:309] guid: test-0\n",
      "I0521 23:02:40.451548 140480743667456 bert_pos.py:311] tokens: at ##tri ##bution - share ##ali ##ke 2 . 0 .\n",
      "I0521 23:02:40.451844 140480743667456 bert_pos.py:312] input_ids: 101 2012 18886 29446 1011 3745 11475 3489 1016 1012 1014 1012 102 0 0 0 0 0 0 0 0 0 0 0 0 0 0 0 0 0 0 0 0 0 0 0 0 0 0 0 0 0 0 0 0 0 0 0 0 0 0 0 0 0 0 0 0 0 0 0 0 0 0 0 0 0 0 0 0 0 0 0 0 0 0 0 0 0 0 0 0 0 0 0 0 0 0 0 0 0 0 0 0 0 0 0 0 0 0 0 0 0 0 0 0 0 0 0 0 0 0 0 0 0 0 0 0 0 0 0 0 0 0 0 0 0 0 0 0 0 0 0 0 0 0 0 0 0 0 0 0 0 0 0 0 0 0 0 0 0 0 0 0 0 0 0 0 0 0 0 0 0 0 0 0 0 0 0 0 0 0 0 0 0 0 0 0 0 0 0 0 0 0 0 0 0 0 0 0 0 0 0 0 0 0 0 0 0 0 0 0 0 0 0 0 0 0 0 0 0 0\n",
      "I0521 23:02:40.452404 140480743667456 bert_pos.py:313] input_mask: 1 1 1 1 1 1 1 1 1 1 1 1 1 0 0 0 0 0 0 0 0 0 0 0 0 0 0 0 0 0 0 0 0 0 0 0 0 0 0 0 0 0 0 0 0 0 0 0 0 0 0 0 0 0 0 0 0 0 0 0 0 0 0 0 0 0 0 0 0 0 0 0 0 0 0 0 0 0 0 0 0 0 0 0 0 0 0 0 0 0 0 0 0 0 0 0 0 0 0 0 0 0 0 0 0 0 0 0 0 0 0 0 0 0 0 0 0 0 0 0 0 0 0 0 0 0 0 0 0 0 0 0 0 0 0 0 0 0 0 0 0 0 0 0 0 0 0 0 0 0 0 0 0 0 0 0 0 0 0 0 0 0 0 0 0 0 0 0 0 0 0 0 0 0 0 0 0 0 0 0 0 0 0 0 0 0 0 0 0 0 0 0 0 0 0 0 0 0 0 0 0 0 0 0 0 0 0 0 0 0 0\n",
      "I0521 23:02:40.452696 140480743667456 bert_pos.py:314] segment_ids: 0 0 0 0 0 0 0 0 0 0 0 0 0 0 0 0 0 0 0 0 0 0 0 0 0 0 0 0 0 0 0 0 0 0 0 0 0 0 0 0 0 0 0 0 0 0 0 0 0 0 0 0 0 0 0 0 0 0 0 0 0 0 0 0 0 0 0 0 0 0 0 0 0 0 0 0 0 0 0 0 0 0 0 0 0 0 0 0 0 0 0 0 0 0 0 0 0 0 0 0 0 0 0 0 0 0 0 0 0 0 0 0 0 0 0 0 0 0 0 0 0 0 0 0 0 0 0 0 0 0 0 0 0 0 0 0 0 0 0 0 0 0 0 0 0 0 0 0 0 0 0 0 0 0 0 0 0 0 0 0 0 0 0 0 0 0 0 0 0 0 0 0 0 0 0 0 0 0 0 0 0 0 0 0 0 0 0 0 0 0 0 0 0 0 0 0 0 0 0 0 0 0 0 0 0 0 0 0 0 0 0\n",
      "I0521 23:02:40.452988 140480743667456 bert_pos.py:315] label_ids: 19 8 18 18 13 12 18 18 9 18 18 13 20 0 0 0 0 0 0 0 0 0 0 0 0 0 0 0 0 0 0 0 0 0 0 0 0 0 0 0 0 0 0 0 0 0 0 0 0 0 0 0 0 0 0 0 0 0 0 0 0 0 0 0 0 0 0 0 0 0 0 0 0 0 0 0 0 0 0 0 0 0 0 0 0 0 0 0 0 0 0 0 0 0 0 0 0 0 0 0 0 0 0 0 0 0 0 0 0 0 0 0 0 0 0 0 0 0 0 0 0 0 0 0 0 0 0 0 0 0 0 0 0 0 0 0 0 0 0 0 0 0 0 0 0 0 0 0 0 0 0 0 0 0 0 0 0 0 0 0 0 0 0 0 0 0 0 0 0 0 0 0 0 0 0 0 0 0 0 0 0 0 0 0 0 0 0 0 0 0 0 0 0 0 0 0 0 0 0 0 0 0 0 0 0 0 0 0 0 0 0\n",
      "I0521 23:02:40.823912 140480743667456 bert_pos.py:308] *** Example ***\n",
      "I0521 23:02:40.825608 140480743667456 bert_pos.py:309] guid: test-1\n",
      "I0521 23:02:40.827191 140480743667456 bert_pos.py:311] tokens: any use of the work other than as authorized under this license or copyright law is prohibited .\n",
      "I0521 23:02:40.828873 140480743667456 bert_pos.py:312] input_ids: 101 2151 2224 1997 1996 2147 2060 2084 2004 9362 2104 2023 6105 2030 9385 2375 2003 10890 1012 102 0 0 0 0 0 0 0 0 0 0 0 0 0 0 0 0 0 0 0 0 0 0 0 0 0 0 0 0 0 0 0 0 0 0 0 0 0 0 0 0 0 0 0 0 0 0 0 0 0 0 0 0 0 0 0 0 0 0 0 0 0 0 0 0 0 0 0 0 0 0 0 0 0 0 0 0 0 0 0 0 0 0 0 0 0 0 0 0 0 0 0 0 0 0 0 0 0 0 0 0 0 0 0 0 0 0 0 0 0 0 0 0 0 0 0 0 0 0 0 0 0 0 0 0 0 0 0 0 0 0 0 0 0 0 0 0 0 0 0 0 0 0 0 0 0 0 0 0 0 0 0 0 0 0 0 0 0 0 0 0 0 0 0 0 0 0 0 0 0 0 0 0 0 0 0 0 0 0 0 0 0 0 0 0 0 0 0 0 0 0 0\n",
      "I0521 23:02:40.831748 140480743667456 bert_pos.py:313] input_mask: 1 1 1 1 1 1 1 1 1 1 1 1 1 1 1 1 1 1 1 1 0 0 0 0 0 0 0 0 0 0 0 0 0 0 0 0 0 0 0 0 0 0 0 0 0 0 0 0 0 0 0 0 0 0 0 0 0 0 0 0 0 0 0 0 0 0 0 0 0 0 0 0 0 0 0 0 0 0 0 0 0 0 0 0 0 0 0 0 0 0 0 0 0 0 0 0 0 0 0 0 0 0 0 0 0 0 0 0 0 0 0 0 0 0 0 0 0 0 0 0 0 0 0 0 0 0 0 0 0 0 0 0 0 0 0 0 0 0 0 0 0 0 0 0 0 0 0 0 0 0 0 0 0 0 0 0 0 0 0 0 0 0 0 0 0 0 0 0 0 0 0 0 0 0 0 0 0 0 0 0 0 0 0 0 0 0 0 0 0 0 0 0 0 0 0 0 0 0 0 0 0 0 0 0 0 0 0 0 0 0 0\n",
      "I0521 23:02:40.834311 140480743667456 bert_pos.py:314] segment_ids: 0 0 0 0 0 0 0 0 0 0 0 0 0 0 0 0 0 0 0 0 0 0 0 0 0 0 0 0 0 0 0 0 0 0 0 0 0 0 0 0 0 0 0 0 0 0 0 0 0 0 0 0 0 0 0 0 0 0 0 0 0 0 0 0 0 0 0 0 0 0 0 0 0 0 0 0 0 0 0 0 0 0 0 0 0 0 0 0 0 0 0 0 0 0 0 0 0 0 0 0 0 0 0 0 0 0 0 0 0 0 0 0 0 0 0 0 0 0 0 0 0 0 0 0 0 0 0 0 0 0 0 0 0 0 0 0 0 0 0 0 0 0 0 0 0 0 0 0 0 0 0 0 0 0 0 0 0 0 0 0 0 0 0 0 0 0 0 0 0 0 0 0 0 0 0 0 0 0 0 0 0 0 0 0 0 0 0 0 0 0 0 0 0 0 0 0 0 0 0 0 0 0 0 0 0 0 0 0 0 0 0\n",
      "I0521 23:02:40.836087 140480743667456 bert_pos.py:315] label_ids: 19 6 8 2 6 8 1 14 2 16 2 6 8 5 8 8 4 16 13 20 0 0 0 0 0 0 0 0 0 0 0 0 0 0 0 0 0 0 0 0 0 0 0 0 0 0 0 0 0 0 0 0 0 0 0 0 0 0 0 0 0 0 0 0 0 0 0 0 0 0 0 0 0 0 0 0 0 0 0 0 0 0 0 0 0 0 0 0 0 0 0 0 0 0 0 0 0 0 0 0 0 0 0 0 0 0 0 0 0 0 0 0 0 0 0 0 0 0 0 0 0 0 0 0 0 0 0 0 0 0 0 0 0 0 0 0 0 0 0 0 0 0 0 0 0 0 0 0 0 0 0 0 0 0 0 0 0 0 0 0 0 0 0 0 0 0 0 0 0 0 0 0 0 0 0 0 0 0 0 0 0 0 0 0 0 0 0 0 0 0 0 0 0 0 0 0 0 0 0 0 0 0 0 0 0 0 0 0 0 0 0\n"
     ]
    },
    {
     "name": "stderr",
     "output_type": "stream",
     "text": [
      "I0521 23:02:41.113238 140480743667456 bert_pos.py:308] *** Example ***\n",
      "I0521 23:02:41.114897 140480743667456 bert_pos.py:309] guid: test-2\n",
      "I0521 23:02:41.116538 140480743667456 bert_pos.py:311] tokens: unless otherwise agreed to by the parties in writing , li ##cens ##or offers the work as - is and makes no representations or warrant ##ies of any kind concerning the materials , express , implied , statutory or otherwise , including , without limitation , warrant ##ies of title , merchant ##ibility , fitness for a particular purpose , non ##in ##fr ##inge ##ment , or the absence of late ##nt or other defects , accuracy , or the presence of absence of errors , whether or not discover ##able .\n",
      "I0521 23:02:41.119356 140480743667456 bert_pos.py:312] input_ids: 101 4983 4728 3530 2000 2011 1996 4243 1999 3015 1010 5622 19023 2953 4107 1996 2147 2004 1011 2003 1998 3084 2053 15066 2030 10943 3111 1997 2151 2785 7175 1996 4475 1010 4671 1010 13339 1010 15201 2030 4728 1010 2164 1010 2302 22718 1010 10943 3111 1997 2516 1010 6432 13464 1010 10516 2005 1037 3327 3800 1010 2512 2378 19699 23496 3672 1010 2030 1996 6438 1997 2397 3372 2030 2060 18419 1010 10640 1010 2030 1996 3739 1997 6438 1997 10697 1010 3251 2030 2025 7523 3085 1012 102 0 0 0 0 0 0 0 0 0 0 0 0 0 0 0 0 0 0 0 0 0 0 0 0 0 0 0 0 0 0 0 0 0 0 0 0 0 0 0 0 0 0 0 0 0 0 0 0 0 0 0 0 0 0 0 0 0 0 0 0 0 0 0 0 0 0 0 0 0 0 0 0 0 0 0 0 0 0 0 0 0 0 0 0 0 0 0 0 0 0 0 0 0 0 0 0 0 0 0 0 0 0 0 0 0 0 0 0 0 0 0 0 0 0 0 0 0\n",
      "I0521 23:02:41.120602 140480743667456 bert_pos.py:313] input_mask: 1 1 1 1 1 1 1 1 1 1 1 1 1 1 1 1 1 1 1 1 1 1 1 1 1 1 1 1 1 1 1 1 1 1 1 1 1 1 1 1 1 1 1 1 1 1 1 1 1 1 1 1 1 1 1 1 1 1 1 1 1 1 1 1 1 1 1 1 1 1 1 1 1 1 1 1 1 1 1 1 1 1 1 1 1 1 1 1 1 1 1 1 1 1 0 0 0 0 0 0 0 0 0 0 0 0 0 0 0 0 0 0 0 0 0 0 0 0 0 0 0 0 0 0 0 0 0 0 0 0 0 0 0 0 0 0 0 0 0 0 0 0 0 0 0 0 0 0 0 0 0 0 0 0 0 0 0 0 0 0 0 0 0 0 0 0 0 0 0 0 0 0 0 0 0 0 0 0 0 0 0 0 0 0 0 0 0 0 0 0 0 0 0 0 0 0 0 0 0 0 0 0 0 0 0 0 0 0 0 0 0\n",
      "I0521 23:02:41.120937 140480743667456 bert_pos.py:314] segment_ids: 0 0 0 0 0 0 0 0 0 0 0 0 0 0 0 0 0 0 0 0 0 0 0 0 0 0 0 0 0 0 0 0 0 0 0 0 0 0 0 0 0 0 0 0 0 0 0 0 0 0 0 0 0 0 0 0 0 0 0 0 0 0 0 0 0 0 0 0 0 0 0 0 0 0 0 0 0 0 0 0 0 0 0 0 0 0 0 0 0 0 0 0 0 0 0 0 0 0 0 0 0 0 0 0 0 0 0 0 0 0 0 0 0 0 0 0 0 0 0 0 0 0 0 0 0 0 0 0 0 0 0 0 0 0 0 0 0 0 0 0 0 0 0 0 0 0 0 0 0 0 0 0 0 0 0 0 0 0 0 0 0 0 0 0 0 0 0 0 0 0 0 0 0 0 0 0 0 0 0 0 0 0 0 0 0 0 0 0 0 0 0 0 0 0 0 0 0 0 0 0 0 0 0 0 0 0 0 0 0 0 0\n",
      "I0521 23:02:41.121383 140480743667456 bert_pos.py:315] label_ids: 19 14 3 16 2 2 6 8 2 8 13 8 18 18 16 6 8 2 13 16 5 16 6 8 5 8 18 2 6 8 16 6 8 13 1 13 16 13 1 5 3 13 16 13 2 8 13 8 18 2 8 13 8 18 13 8 2 6 1 8 13 8 18 18 18 18 13 5 6 8 2 1 18 5 1 8 13 8 13 5 6 8 2 8 2 8 13 14 5 10 1 18 13 20 0 0 0 0 0 0 0 0 0 0 0 0 0 0 0 0 0 0 0 0 0 0 0 0 0 0 0 0 0 0 0 0 0 0 0 0 0 0 0 0 0 0 0 0 0 0 0 0 0 0 0 0 0 0 0 0 0 0 0 0 0 0 0 0 0 0 0 0 0 0 0 0 0 0 0 0 0 0 0 0 0 0 0 0 0 0 0 0 0 0 0 0 0 0 0 0 0 0 0 0 0 0 0 0 0 0 0 0 0 0 0 0 0 0 0 0 0\n",
      "I0521 23:02:41.207018 140480743667456 bert_pos.py:682] ***** Running prediction*****\n",
      "I0521 23:02:41.207536 140480743667456 bert_pos.py:683]   Num examples = 150\n",
      "I0521 23:02:41.207957 140480743667456 bert_pos.py:684]   Batch size = 8\n",
      "I0521 23:02:41.228329 140480743667456 estimator.py:1111] Calling model_fn.\n",
      "I0521 23:02:41.228897 140480743667456 tpu_estimator.py:2532] Running infer on CPU\n",
      "I0521 23:02:41.229382 140480743667456 bert_pos.py:458] *** Features ***\n",
      "I0521 23:02:41.229777 140480743667456 bert_pos.py:460]   name = input_ids, shape = (?, 211)\n",
      "I0521 23:02:41.230157 140480743667456 bert_pos.py:460]   name = label_ids, shape = (?, 211)\n",
      "I0521 23:02:41.230470 140480743667456 bert_pos.py:460]   name = mask, shape = (?, 211)\n",
      "I0521 23:02:41.230794 140480743667456 bert_pos.py:460]   name = segment_ids, shape = (?, 211)\n",
      "I0521 23:02:43.989258 140480743667456 bert_pos.py:489] **** Trainable Variables ****\n",
      "I0521 23:02:43.989868 140480743667456 bert_pos.py:495]   name = bert/embeddings/word_embeddings:0, shape = (30522, 768), *INIT_FROM_CKPT*\n",
      "I0521 23:02:43.990486 140480743667456 bert_pos.py:495]   name = bert/embeddings/token_type_embeddings:0, shape = (2, 768), *INIT_FROM_CKPT*\n",
      "I0521 23:02:43.990849 140480743667456 bert_pos.py:495]   name = bert/embeddings/position_embeddings:0, shape = (512, 768), *INIT_FROM_CKPT*\n",
      "I0521 23:02:43.991196 140480743667456 bert_pos.py:495]   name = bert/embeddings/LayerNorm/beta:0, shape = (768,), *INIT_FROM_CKPT*\n",
      "I0521 23:02:43.991554 140480743667456 bert_pos.py:495]   name = bert/embeddings/LayerNorm/gamma:0, shape = (768,), *INIT_FROM_CKPT*\n",
      "I0521 23:02:43.991899 140480743667456 bert_pos.py:495]   name = bert/encoder/layer_0/attention/self/query/kernel:0, shape = (768, 768), *INIT_FROM_CKPT*\n",
      "I0521 23:02:43.992238 140480743667456 bert_pos.py:495]   name = bert/encoder/layer_0/attention/self/query/bias:0, shape = (768,), *INIT_FROM_CKPT*\n",
      "I0521 23:02:43.992536 140480743667456 bert_pos.py:495]   name = bert/encoder/layer_0/attention/self/key/kernel:0, shape = (768, 768), *INIT_FROM_CKPT*\n",
      "I0521 23:02:43.993062 140480743667456 bert_pos.py:495]   name = bert/encoder/layer_0/attention/self/key/bias:0, shape = (768,), *INIT_FROM_CKPT*\n",
      "I0521 23:02:43.993835 140480743667456 bert_pos.py:495]   name = bert/encoder/layer_0/attention/self/value/kernel:0, shape = (768, 768), *INIT_FROM_CKPT*\n",
      "I0521 23:02:43.994119 140480743667456 bert_pos.py:495]   name = bert/encoder/layer_0/attention/self/value/bias:0, shape = (768,), *INIT_FROM_CKPT*\n",
      "I0521 23:02:43.994420 140480743667456 bert_pos.py:495]   name = bert/encoder/layer_0/attention/output/dense/kernel:0, shape = (768, 768), *INIT_FROM_CKPT*\n",
      "I0521 23:02:43.994709 140480743667456 bert_pos.py:495]   name = bert/encoder/layer_0/attention/output/dense/bias:0, shape = (768,), *INIT_FROM_CKPT*\n",
      "I0521 23:02:43.995291 140480743667456 bert_pos.py:495]   name = bert/encoder/layer_0/attention/output/LayerNorm/beta:0, shape = (768,), *INIT_FROM_CKPT*\n",
      "I0521 23:02:43.995588 140480743667456 bert_pos.py:495]   name = bert/encoder/layer_0/attention/output/LayerNorm/gamma:0, shape = (768,), *INIT_FROM_CKPT*\n",
      "I0521 23:02:43.996025 140480743667456 bert_pos.py:495]   name = bert/encoder/layer_0/intermediate/dense/kernel:0, shape = (768, 3072), *INIT_FROM_CKPT*\n",
      "I0521 23:02:43.996325 140480743667456 bert_pos.py:495]   name = bert/encoder/layer_0/intermediate/dense/bias:0, shape = (3072,), *INIT_FROM_CKPT*\n",
      "I0521 23:02:43.996595 140480743667456 bert_pos.py:495]   name = bert/encoder/layer_0/output/dense/kernel:0, shape = (3072, 768), *INIT_FROM_CKPT*\n",
      "I0521 23:02:43.996910 140480743667456 bert_pos.py:495]   name = bert/encoder/layer_0/output/dense/bias:0, shape = (768,), *INIT_FROM_CKPT*\n",
      "I0521 23:02:43.997191 140480743667456 bert_pos.py:495]   name = bert/encoder/layer_0/output/LayerNorm/beta:0, shape = (768,), *INIT_FROM_CKPT*\n",
      "I0521 23:02:43.997473 140480743667456 bert_pos.py:495]   name = bert/encoder/layer_0/output/LayerNorm/gamma:0, shape = (768,), *INIT_FROM_CKPT*\n",
      "I0521 23:02:43.997778 140480743667456 bert_pos.py:495]   name = bert/encoder/layer_1/attention/self/query/kernel:0, shape = (768, 768), *INIT_FROM_CKPT*\n",
      "I0521 23:02:43.998054 140480743667456 bert_pos.py:495]   name = bert/encoder/layer_1/attention/self/query/bias:0, shape = (768,), *INIT_FROM_CKPT*\n",
      "I0521 23:02:43.998359 140480743667456 bert_pos.py:495]   name = bert/encoder/layer_1/attention/self/key/kernel:0, shape = (768, 768), *INIT_FROM_CKPT*\n",
      "I0521 23:02:43.998654 140480743667456 bert_pos.py:495]   name = bert/encoder/layer_1/attention/self/key/bias:0, shape = (768,), *INIT_FROM_CKPT*\n",
      "I0521 23:02:43.998950 140480743667456 bert_pos.py:495]   name = bert/encoder/layer_1/attention/self/value/kernel:0, shape = (768, 768), *INIT_FROM_CKPT*\n",
      "I0521 23:02:43.999240 140480743667456 bert_pos.py:495]   name = bert/encoder/layer_1/attention/self/value/bias:0, shape = (768,), *INIT_FROM_CKPT*\n",
      "I0521 23:02:43.999526 140480743667456 bert_pos.py:495]   name = bert/encoder/layer_1/attention/output/dense/kernel:0, shape = (768, 768), *INIT_FROM_CKPT*\n",
      "I0521 23:02:43.999824 140480743667456 bert_pos.py:495]   name = bert/encoder/layer_1/attention/output/dense/bias:0, shape = (768,), *INIT_FROM_CKPT*\n",
      "I0521 23:02:44.000097 140480743667456 bert_pos.py:495]   name = bert/encoder/layer_1/attention/output/LayerNorm/beta:0, shape = (768,), *INIT_FROM_CKPT*\n"
     ]
    },
    {
     "name": "stderr",
     "output_type": "stream",
     "text": [
      "I0521 23:02:44.000418 140480743667456 bert_pos.py:495]   name = bert/encoder/layer_1/attention/output/LayerNorm/gamma:0, shape = (768,), *INIT_FROM_CKPT*\n",
      "I0521 23:02:44.000691 140480743667456 bert_pos.py:495]   name = bert/encoder/layer_1/intermediate/dense/kernel:0, shape = (768, 3072), *INIT_FROM_CKPT*\n",
      "I0521 23:02:44.000997 140480743667456 bert_pos.py:495]   name = bert/encoder/layer_1/intermediate/dense/bias:0, shape = (3072,), *INIT_FROM_CKPT*\n",
      "I0521 23:02:44.001280 140480743667456 bert_pos.py:495]   name = bert/encoder/layer_1/output/dense/kernel:0, shape = (3072, 768), *INIT_FROM_CKPT*\n",
      "I0521 23:02:44.001553 140480743667456 bert_pos.py:495]   name = bert/encoder/layer_1/output/dense/bias:0, shape = (768,), *INIT_FROM_CKPT*\n",
      "I0521 23:02:44.001839 140480743667456 bert_pos.py:495]   name = bert/encoder/layer_1/output/LayerNorm/beta:0, shape = (768,), *INIT_FROM_CKPT*\n",
      "I0521 23:02:44.002105 140480743667456 bert_pos.py:495]   name = bert/encoder/layer_1/output/LayerNorm/gamma:0, shape = (768,), *INIT_FROM_CKPT*\n",
      "I0521 23:02:44.002367 140480743667456 bert_pos.py:495]   name = bert/encoder/layer_2/attention/self/query/kernel:0, shape = (768, 768), *INIT_FROM_CKPT*\n",
      "I0521 23:02:44.002632 140480743667456 bert_pos.py:495]   name = bert/encoder/layer_2/attention/self/query/bias:0, shape = (768,), *INIT_FROM_CKPT*\n",
      "I0521 23:02:44.002921 140480743667456 bert_pos.py:495]   name = bert/encoder/layer_2/attention/self/key/kernel:0, shape = (768, 768), *INIT_FROM_CKPT*\n",
      "I0521 23:02:44.004901 140480743667456 bert_pos.py:495]   name = bert/encoder/layer_2/attention/self/key/bias:0, shape = (768,), *INIT_FROM_CKPT*\n",
      "I0521 23:02:44.005216 140480743667456 bert_pos.py:495]   name = bert/encoder/layer_2/attention/self/value/kernel:0, shape = (768, 768), *INIT_FROM_CKPT*\n",
      "I0521 23:02:44.005512 140480743667456 bert_pos.py:495]   name = bert/encoder/layer_2/attention/self/value/bias:0, shape = (768,), *INIT_FROM_CKPT*\n",
      "I0521 23:02:44.005967 140480743667456 bert_pos.py:495]   name = bert/encoder/layer_2/attention/output/dense/kernel:0, shape = (768, 768), *INIT_FROM_CKPT*\n",
      "I0521 23:02:44.006350 140480743667456 bert_pos.py:495]   name = bert/encoder/layer_2/attention/output/dense/bias:0, shape = (768,), *INIT_FROM_CKPT*\n",
      "I0521 23:02:44.006640 140480743667456 bert_pos.py:495]   name = bert/encoder/layer_2/attention/output/LayerNorm/beta:0, shape = (768,), *INIT_FROM_CKPT*\n",
      "I0521 23:02:44.006901 140480743667456 bert_pos.py:495]   name = bert/encoder/layer_2/attention/output/LayerNorm/gamma:0, shape = (768,), *INIT_FROM_CKPT*\n",
      "I0521 23:02:44.007162 140480743667456 bert_pos.py:495]   name = bert/encoder/layer_2/intermediate/dense/kernel:0, shape = (768, 3072), *INIT_FROM_CKPT*\n",
      "I0521 23:02:44.007422 140480743667456 bert_pos.py:495]   name = bert/encoder/layer_2/intermediate/dense/bias:0, shape = (3072,), *INIT_FROM_CKPT*\n",
      "I0521 23:02:44.007683 140480743667456 bert_pos.py:495]   name = bert/encoder/layer_2/output/dense/kernel:0, shape = (3072, 768), *INIT_FROM_CKPT*\n",
      "I0521 23:02:44.007946 140480743667456 bert_pos.py:495]   name = bert/encoder/layer_2/output/dense/bias:0, shape = (768,), *INIT_FROM_CKPT*\n",
      "I0521 23:02:44.008219 140480743667456 bert_pos.py:495]   name = bert/encoder/layer_2/output/LayerNorm/beta:0, shape = (768,), *INIT_FROM_CKPT*\n",
      "I0521 23:02:44.008497 140480743667456 bert_pos.py:495]   name = bert/encoder/layer_2/output/LayerNorm/gamma:0, shape = (768,), *INIT_FROM_CKPT*\n",
      "I0521 23:02:44.008780 140480743667456 bert_pos.py:495]   name = bert/encoder/layer_3/attention/self/query/kernel:0, shape = (768, 768), *INIT_FROM_CKPT*\n",
      "I0521 23:02:44.009074 140480743667456 bert_pos.py:495]   name = bert/encoder/layer_3/attention/self/query/bias:0, shape = (768,), *INIT_FROM_CKPT*\n",
      "I0521 23:02:44.009352 140480743667456 bert_pos.py:495]   name = bert/encoder/layer_3/attention/self/key/kernel:0, shape = (768, 768), *INIT_FROM_CKPT*\n",
      "I0521 23:02:44.009618 140480743667456 bert_pos.py:495]   name = bert/encoder/layer_3/attention/self/key/bias:0, shape = (768,), *INIT_FROM_CKPT*\n",
      "I0521 23:02:44.009892 140480743667456 bert_pos.py:495]   name = bert/encoder/layer_3/attention/self/value/kernel:0, shape = (768, 768), *INIT_FROM_CKPT*\n",
      "I0521 23:02:44.010170 140480743667456 bert_pos.py:495]   name = bert/encoder/layer_3/attention/self/value/bias:0, shape = (768,), *INIT_FROM_CKPT*\n",
      "I0521 23:02:44.010446 140480743667456 bert_pos.py:495]   name = bert/encoder/layer_3/attention/output/dense/kernel:0, shape = (768, 768), *INIT_FROM_CKPT*\n",
      "I0521 23:02:44.010748 140480743667456 bert_pos.py:495]   name = bert/encoder/layer_3/attention/output/dense/bias:0, shape = (768,), *INIT_FROM_CKPT*\n",
      "I0521 23:02:44.010997 140480743667456 bert_pos.py:495]   name = bert/encoder/layer_3/attention/output/LayerNorm/beta:0, shape = (768,), *INIT_FROM_CKPT*\n",
      "I0521 23:02:44.011257 140480743667456 bert_pos.py:495]   name = bert/encoder/layer_3/attention/output/LayerNorm/gamma:0, shape = (768,), *INIT_FROM_CKPT*\n",
      "I0521 23:02:44.011537 140480743667456 bert_pos.py:495]   name = bert/encoder/layer_3/intermediate/dense/kernel:0, shape = (768, 3072), *INIT_FROM_CKPT*\n",
      "I0521 23:02:44.011797 140480743667456 bert_pos.py:495]   name = bert/encoder/layer_3/intermediate/dense/bias:0, shape = (3072,), *INIT_FROM_CKPT*\n",
      "I0521 23:02:44.012049 140480743667456 bert_pos.py:495]   name = bert/encoder/layer_3/output/dense/kernel:0, shape = (3072, 768), *INIT_FROM_CKPT*\n",
      "I0521 23:02:44.012351 140480743667456 bert_pos.py:495]   name = bert/encoder/layer_3/output/dense/bias:0, shape = (768,), *INIT_FROM_CKPT*\n",
      "I0521 23:02:44.012648 140480743667456 bert_pos.py:495]   name = bert/encoder/layer_3/output/LayerNorm/beta:0, shape = (768,), *INIT_FROM_CKPT*\n",
      "I0521 23:02:44.014688 140480743667456 bert_pos.py:495]   name = bert/encoder/layer_3/output/LayerNorm/gamma:0, shape = (768,), *INIT_FROM_CKPT*\n",
      "I0521 23:02:44.014973 140480743667456 bert_pos.py:495]   name = bert/encoder/layer_4/attention/self/query/kernel:0, shape = (768, 768), *INIT_FROM_CKPT*\n",
      "I0521 23:02:44.015268 140480743667456 bert_pos.py:495]   name = bert/encoder/layer_4/attention/self/query/bias:0, shape = (768,), *INIT_FROM_CKPT*\n",
      "I0521 23:02:44.015525 140480743667456 bert_pos.py:495]   name = bert/encoder/layer_4/attention/self/key/kernel:0, shape = (768, 768), *INIT_FROM_CKPT*\n",
      "I0521 23:02:44.015822 140480743667456 bert_pos.py:495]   name = bert/encoder/layer_4/attention/self/key/bias:0, shape = (768,), *INIT_FROM_CKPT*\n",
      "I0521 23:02:44.016072 140480743667456 bert_pos.py:495]   name = bert/encoder/layer_4/attention/self/value/kernel:0, shape = (768, 768), *INIT_FROM_CKPT*\n",
      "I0521 23:02:44.016331 140480743667456 bert_pos.py:495]   name = bert/encoder/layer_4/attention/self/value/bias:0, shape = (768,), *INIT_FROM_CKPT*\n",
      "I0521 23:02:44.016594 140480743667456 bert_pos.py:495]   name = bert/encoder/layer_4/attention/output/dense/kernel:0, shape = (768, 768), *INIT_FROM_CKPT*\n",
      "I0521 23:02:44.016847 140480743667456 bert_pos.py:495]   name = bert/encoder/layer_4/attention/output/dense/bias:0, shape = (768,), *INIT_FROM_CKPT*\n",
      "I0521 23:02:44.017106 140480743667456 bert_pos.py:495]   name = bert/encoder/layer_4/attention/output/LayerNorm/beta:0, shape = (768,), *INIT_FROM_CKPT*\n",
      "I0521 23:02:44.017369 140480743667456 bert_pos.py:495]   name = bert/encoder/layer_4/attention/output/LayerNorm/gamma:0, shape = (768,), *INIT_FROM_CKPT*\n",
      "I0521 23:02:44.018371 140480743667456 bert_pos.py:495]   name = bert/encoder/layer_4/intermediate/dense/kernel:0, shape = (768, 3072), *INIT_FROM_CKPT*\n",
      "I0521 23:02:44.018641 140480743667456 bert_pos.py:495]   name = bert/encoder/layer_4/intermediate/dense/bias:0, shape = (3072,), *INIT_FROM_CKPT*\n",
      "I0521 23:02:44.018890 140480743667456 bert_pos.py:495]   name = bert/encoder/layer_4/output/dense/kernel:0, shape = (3072, 768), *INIT_FROM_CKPT*\n",
      "I0521 23:02:44.019153 140480743667456 bert_pos.py:495]   name = bert/encoder/layer_4/output/dense/bias:0, shape = (768,), *INIT_FROM_CKPT*\n",
      "I0521 23:02:44.019406 140480743667456 bert_pos.py:495]   name = bert/encoder/layer_4/output/LayerNorm/beta:0, shape = (768,), *INIT_FROM_CKPT*\n",
      "I0521 23:02:44.019669 140480743667456 bert_pos.py:495]   name = bert/encoder/layer_4/output/LayerNorm/gamma:0, shape = (768,), *INIT_FROM_CKPT*\n",
      "I0521 23:02:44.019930 140480743667456 bert_pos.py:495]   name = bert/encoder/layer_5/attention/self/query/kernel:0, shape = (768, 768), *INIT_FROM_CKPT*\n"
     ]
    },
    {
     "name": "stderr",
     "output_type": "stream",
     "text": [
      "I0521 23:02:44.020193 140480743667456 bert_pos.py:495]   name = bert/encoder/layer_5/attention/self/query/bias:0, shape = (768,), *INIT_FROM_CKPT*\n",
      "I0521 23:02:44.020454 140480743667456 bert_pos.py:495]   name = bert/encoder/layer_5/attention/self/key/kernel:0, shape = (768, 768), *INIT_FROM_CKPT*\n",
      "I0521 23:02:44.020725 140480743667456 bert_pos.py:495]   name = bert/encoder/layer_5/attention/self/key/bias:0, shape = (768,), *INIT_FROM_CKPT*\n",
      "I0521 23:02:44.020979 140480743667456 bert_pos.py:495]   name = bert/encoder/layer_5/attention/self/value/kernel:0, shape = (768, 768), *INIT_FROM_CKPT*\n",
      "I0521 23:02:44.021231 140480743667456 bert_pos.py:495]   name = bert/encoder/layer_5/attention/self/value/bias:0, shape = (768,), *INIT_FROM_CKPT*\n",
      "I0521 23:02:44.021482 140480743667456 bert_pos.py:495]   name = bert/encoder/layer_5/attention/output/dense/kernel:0, shape = (768, 768), *INIT_FROM_CKPT*\n",
      "I0521 23:02:44.021746 140480743667456 bert_pos.py:495]   name = bert/encoder/layer_5/attention/output/dense/bias:0, shape = (768,), *INIT_FROM_CKPT*\n",
      "I0521 23:02:44.022003 140480743667456 bert_pos.py:495]   name = bert/encoder/layer_5/attention/output/LayerNorm/beta:0, shape = (768,), *INIT_FROM_CKPT*\n",
      "I0521 23:02:44.022257 140480743667456 bert_pos.py:495]   name = bert/encoder/layer_5/attention/output/LayerNorm/gamma:0, shape = (768,), *INIT_FROM_CKPT*\n",
      "I0521 23:02:44.022506 140480743667456 bert_pos.py:495]   name = bert/encoder/layer_5/intermediate/dense/kernel:0, shape = (768, 3072), *INIT_FROM_CKPT*\n",
      "I0521 23:02:44.022776 140480743667456 bert_pos.py:495]   name = bert/encoder/layer_5/intermediate/dense/bias:0, shape = (3072,), *INIT_FROM_CKPT*\n",
      "I0521 23:02:44.023030 140480743667456 bert_pos.py:495]   name = bert/encoder/layer_5/output/dense/kernel:0, shape = (3072, 768), *INIT_FROM_CKPT*\n",
      "I0521 23:02:44.023280 140480743667456 bert_pos.py:495]   name = bert/encoder/layer_5/output/dense/bias:0, shape = (768,), *INIT_FROM_CKPT*\n",
      "I0521 23:02:44.023527 140480743667456 bert_pos.py:495]   name = bert/encoder/layer_5/output/LayerNorm/beta:0, shape = (768,), *INIT_FROM_CKPT*\n",
      "I0521 23:02:44.023783 140480743667456 bert_pos.py:495]   name = bert/encoder/layer_5/output/LayerNorm/gamma:0, shape = (768,), *INIT_FROM_CKPT*\n",
      "I0521 23:02:44.024037 140480743667456 bert_pos.py:495]   name = bert/encoder/layer_6/attention/self/query/kernel:0, shape = (768, 768), *INIT_FROM_CKPT*\n",
      "I0521 23:02:44.024298 140480743667456 bert_pos.py:495]   name = bert/encoder/layer_6/attention/self/query/bias:0, shape = (768,), *INIT_FROM_CKPT*\n",
      "I0521 23:02:44.024548 140480743667456 bert_pos.py:495]   name = bert/encoder/layer_6/attention/self/key/kernel:0, shape = (768, 768), *INIT_FROM_CKPT*\n",
      "I0521 23:02:44.024810 140480743667456 bert_pos.py:495]   name = bert/encoder/layer_6/attention/self/key/bias:0, shape = (768,), *INIT_FROM_CKPT*\n",
      "I0521 23:02:44.025062 140480743667456 bert_pos.py:495]   name = bert/encoder/layer_6/attention/self/value/kernel:0, shape = (768, 768), *INIT_FROM_CKPT*\n",
      "I0521 23:02:44.025316 140480743667456 bert_pos.py:495]   name = bert/encoder/layer_6/attention/self/value/bias:0, shape = (768,), *INIT_FROM_CKPT*\n",
      "I0521 23:02:44.025571 140480743667456 bert_pos.py:495]   name = bert/encoder/layer_6/attention/output/dense/kernel:0, shape = (768, 768), *INIT_FROM_CKPT*\n",
      "I0521 23:02:44.025822 140480743667456 bert_pos.py:495]   name = bert/encoder/layer_6/attention/output/dense/bias:0, shape = (768,), *INIT_FROM_CKPT*\n",
      "I0521 23:02:44.026078 140480743667456 bert_pos.py:495]   name = bert/encoder/layer_6/attention/output/LayerNorm/beta:0, shape = (768,), *INIT_FROM_CKPT*\n",
      "I0521 23:02:44.026339 140480743667456 bert_pos.py:495]   name = bert/encoder/layer_6/attention/output/LayerNorm/gamma:0, shape = (768,), *INIT_FROM_CKPT*\n",
      "I0521 23:02:44.026610 140480743667456 bert_pos.py:495]   name = bert/encoder/layer_6/intermediate/dense/kernel:0, shape = (768, 3072), *INIT_FROM_CKPT*\n",
      "I0521 23:02:44.026885 140480743667456 bert_pos.py:495]   name = bert/encoder/layer_6/intermediate/dense/bias:0, shape = (3072,), *INIT_FROM_CKPT*\n",
      "I0521 23:02:44.027148 140480743667456 bert_pos.py:495]   name = bert/encoder/layer_6/output/dense/kernel:0, shape = (3072, 768), *INIT_FROM_CKPT*\n",
      "I0521 23:02:44.027409 140480743667456 bert_pos.py:495]   name = bert/encoder/layer_6/output/dense/bias:0, shape = (768,), *INIT_FROM_CKPT*\n",
      "I0521 23:02:44.027682 140480743667456 bert_pos.py:495]   name = bert/encoder/layer_6/output/LayerNorm/beta:0, shape = (768,), *INIT_FROM_CKPT*\n",
      "I0521 23:02:44.027958 140480743667456 bert_pos.py:495]   name = bert/encoder/layer_6/output/LayerNorm/gamma:0, shape = (768,), *INIT_FROM_CKPT*\n",
      "I0521 23:02:44.028242 140480743667456 bert_pos.py:495]   name = bert/encoder/layer_7/attention/self/query/kernel:0, shape = (768, 768), *INIT_FROM_CKPT*\n",
      "I0521 23:02:44.028533 140480743667456 bert_pos.py:495]   name = bert/encoder/layer_7/attention/self/query/bias:0, shape = (768,), *INIT_FROM_CKPT*\n",
      "I0521 23:02:44.028794 140480743667456 bert_pos.py:495]   name = bert/encoder/layer_7/attention/self/key/kernel:0, shape = (768, 768), *INIT_FROM_CKPT*\n",
      "I0521 23:02:44.029066 140480743667456 bert_pos.py:495]   name = bert/encoder/layer_7/attention/self/key/bias:0, shape = (768,), *INIT_FROM_CKPT*\n",
      "I0521 23:02:44.029334 140480743667456 bert_pos.py:495]   name = bert/encoder/layer_7/attention/self/value/kernel:0, shape = (768, 768), *INIT_FROM_CKPT*\n",
      "I0521 23:02:44.029606 140480743667456 bert_pos.py:495]   name = bert/encoder/layer_7/attention/self/value/bias:0, shape = (768,), *INIT_FROM_CKPT*\n",
      "I0521 23:02:44.029882 140480743667456 bert_pos.py:495]   name = bert/encoder/layer_7/attention/output/dense/kernel:0, shape = (768, 768), *INIT_FROM_CKPT*\n",
      "I0521 23:02:44.030153 140480743667456 bert_pos.py:495]   name = bert/encoder/layer_7/attention/output/dense/bias:0, shape = (768,), *INIT_FROM_CKPT*\n",
      "I0521 23:02:44.030426 140480743667456 bert_pos.py:495]   name = bert/encoder/layer_7/attention/output/LayerNorm/beta:0, shape = (768,), *INIT_FROM_CKPT*\n",
      "I0521 23:02:44.030706 140480743667456 bert_pos.py:495]   name = bert/encoder/layer_7/attention/output/LayerNorm/gamma:0, shape = (768,), *INIT_FROM_CKPT*\n",
      "I0521 23:02:44.030997 140480743667456 bert_pos.py:495]   name = bert/encoder/layer_7/intermediate/dense/kernel:0, shape = (768, 3072), *INIT_FROM_CKPT*\n",
      "I0521 23:02:44.031271 140480743667456 bert_pos.py:495]   name = bert/encoder/layer_7/intermediate/dense/bias:0, shape = (3072,), *INIT_FROM_CKPT*\n",
      "I0521 23:02:44.031547 140480743667456 bert_pos.py:495]   name = bert/encoder/layer_7/output/dense/kernel:0, shape = (3072, 768), *INIT_FROM_CKPT*\n",
      "I0521 23:02:44.031821 140480743667456 bert_pos.py:495]   name = bert/encoder/layer_7/output/dense/bias:0, shape = (768,), *INIT_FROM_CKPT*\n",
      "I0521 23:02:44.032099 140480743667456 bert_pos.py:495]   name = bert/encoder/layer_7/output/LayerNorm/beta:0, shape = (768,), *INIT_FROM_CKPT*\n",
      "I0521 23:02:44.032407 140480743667456 bert_pos.py:495]   name = bert/encoder/layer_7/output/LayerNorm/gamma:0, shape = (768,), *INIT_FROM_CKPT*\n",
      "I0521 23:02:44.032678 140480743667456 bert_pos.py:495]   name = bert/encoder/layer_8/attention/self/query/kernel:0, shape = (768, 768), *INIT_FROM_CKPT*\n",
      "I0521 23:02:44.032968 140480743667456 bert_pos.py:495]   name = bert/encoder/layer_8/attention/self/query/bias:0, shape = (768,), *INIT_FROM_CKPT*\n",
      "I0521 23:02:44.033235 140480743667456 bert_pos.py:495]   name = bert/encoder/layer_8/attention/self/key/kernel:0, shape = (768, 768), *INIT_FROM_CKPT*\n",
      "I0521 23:02:44.033513 140480743667456 bert_pos.py:495]   name = bert/encoder/layer_8/attention/self/key/bias:0, shape = (768,), *INIT_FROM_CKPT*\n",
      "I0521 23:02:44.033787 140480743667456 bert_pos.py:495]   name = bert/encoder/layer_8/attention/self/value/kernel:0, shape = (768, 768), *INIT_FROM_CKPT*\n",
      "I0521 23:02:44.034089 140480743667456 bert_pos.py:495]   name = bert/encoder/layer_8/attention/self/value/bias:0, shape = (768,), *INIT_FROM_CKPT*\n",
      "I0521 23:02:44.034380 140480743667456 bert_pos.py:495]   name = bert/encoder/layer_8/attention/output/dense/kernel:0, shape = (768, 768), *INIT_FROM_CKPT*\n",
      "I0521 23:02:44.034638 140480743667456 bert_pos.py:495]   name = bert/encoder/layer_8/attention/output/dense/bias:0, shape = (768,), *INIT_FROM_CKPT*\n",
      "I0521 23:02:44.034893 140480743667456 bert_pos.py:495]   name = bert/encoder/layer_8/attention/output/LayerNorm/beta:0, shape = (768,), *INIT_FROM_CKPT*\n"
     ]
    },
    {
     "name": "stderr",
     "output_type": "stream",
     "text": [
      "I0521 23:02:44.035148 140480743667456 bert_pos.py:495]   name = bert/encoder/layer_8/attention/output/LayerNorm/gamma:0, shape = (768,), *INIT_FROM_CKPT*\n",
      "I0521 23:02:44.035406 140480743667456 bert_pos.py:495]   name = bert/encoder/layer_8/intermediate/dense/kernel:0, shape = (768, 3072), *INIT_FROM_CKPT*\n",
      "I0521 23:02:44.035679 140480743667456 bert_pos.py:495]   name = bert/encoder/layer_8/intermediate/dense/bias:0, shape = (3072,), *INIT_FROM_CKPT*\n",
      "I0521 23:02:44.035950 140480743667456 bert_pos.py:495]   name = bert/encoder/layer_8/output/dense/kernel:0, shape = (3072, 768), *INIT_FROM_CKPT*\n",
      "I0521 23:02:44.036232 140480743667456 bert_pos.py:495]   name = bert/encoder/layer_8/output/dense/bias:0, shape = (768,), *INIT_FROM_CKPT*\n",
      "I0521 23:02:44.036504 140480743667456 bert_pos.py:495]   name = bert/encoder/layer_8/output/LayerNorm/beta:0, shape = (768,), *INIT_FROM_CKPT*\n",
      "I0521 23:02:44.036773 140480743667456 bert_pos.py:495]   name = bert/encoder/layer_8/output/LayerNorm/gamma:0, shape = (768,), *INIT_FROM_CKPT*\n",
      "I0521 23:02:44.037050 140480743667456 bert_pos.py:495]   name = bert/encoder/layer_9/attention/self/query/kernel:0, shape = (768, 768), *INIT_FROM_CKPT*\n",
      "I0521 23:02:44.037326 140480743667456 bert_pos.py:495]   name = bert/encoder/layer_9/attention/self/query/bias:0, shape = (768,), *INIT_FROM_CKPT*\n",
      "I0521 23:02:44.037600 140480743667456 bert_pos.py:495]   name = bert/encoder/layer_9/attention/self/key/kernel:0, shape = (768, 768), *INIT_FROM_CKPT*\n",
      "I0521 23:02:44.037882 140480743667456 bert_pos.py:495]   name = bert/encoder/layer_9/attention/self/key/bias:0, shape = (768,), *INIT_FROM_CKPT*\n",
      "I0521 23:02:44.038169 140480743667456 bert_pos.py:495]   name = bert/encoder/layer_9/attention/self/value/kernel:0, shape = (768, 768), *INIT_FROM_CKPT*\n",
      "I0521 23:02:44.038460 140480743667456 bert_pos.py:495]   name = bert/encoder/layer_9/attention/self/value/bias:0, shape = (768,), *INIT_FROM_CKPT*\n",
      "I0521 23:02:44.038722 140480743667456 bert_pos.py:495]   name = bert/encoder/layer_9/attention/output/dense/kernel:0, shape = (768, 768), *INIT_FROM_CKPT*\n",
      "I0521 23:02:44.044078 140480743667456 bert_pos.py:495]   name = bert/encoder/layer_9/attention/output/dense/bias:0, shape = (768,), *INIT_FROM_CKPT*\n",
      "I0521 23:02:44.044392 140480743667456 bert_pos.py:495]   name = bert/encoder/layer_9/attention/output/LayerNorm/beta:0, shape = (768,), *INIT_FROM_CKPT*\n",
      "I0521 23:02:44.044690 140480743667456 bert_pos.py:495]   name = bert/encoder/layer_9/attention/output/LayerNorm/gamma:0, shape = (768,), *INIT_FROM_CKPT*\n",
      "I0521 23:02:44.044971 140480743667456 bert_pos.py:495]   name = bert/encoder/layer_9/intermediate/dense/kernel:0, shape = (768, 3072), *INIT_FROM_CKPT*\n",
      "I0521 23:02:44.045289 140480743667456 bert_pos.py:495]   name = bert/encoder/layer_9/intermediate/dense/bias:0, shape = (3072,), *INIT_FROM_CKPT*\n",
      "I0521 23:02:44.045599 140480743667456 bert_pos.py:495]   name = bert/encoder/layer_9/output/dense/kernel:0, shape = (3072, 768), *INIT_FROM_CKPT*\n",
      "I0521 23:02:44.045887 140480743667456 bert_pos.py:495]   name = bert/encoder/layer_9/output/dense/bias:0, shape = (768,), *INIT_FROM_CKPT*\n",
      "I0521 23:02:44.046193 140480743667456 bert_pos.py:495]   name = bert/encoder/layer_9/output/LayerNorm/beta:0, shape = (768,), *INIT_FROM_CKPT*\n",
      "I0521 23:02:44.046469 140480743667456 bert_pos.py:495]   name = bert/encoder/layer_9/output/LayerNorm/gamma:0, shape = (768,), *INIT_FROM_CKPT*\n",
      "I0521 23:02:44.046809 140480743667456 bert_pos.py:495]   name = bert/encoder/layer_10/attention/self/query/kernel:0, shape = (768, 768), *INIT_FROM_CKPT*\n",
      "I0521 23:02:44.047094 140480743667456 bert_pos.py:495]   name = bert/encoder/layer_10/attention/self/query/bias:0, shape = (768,), *INIT_FROM_CKPT*\n",
      "I0521 23:02:44.047384 140480743667456 bert_pos.py:495]   name = bert/encoder/layer_10/attention/self/key/kernel:0, shape = (768, 768), *INIT_FROM_CKPT*\n",
      "I0521 23:02:44.047685 140480743667456 bert_pos.py:495]   name = bert/encoder/layer_10/attention/self/key/bias:0, shape = (768,), *INIT_FROM_CKPT*\n",
      "I0521 23:02:44.047982 140480743667456 bert_pos.py:495]   name = bert/encoder/layer_10/attention/self/value/kernel:0, shape = (768, 768), *INIT_FROM_CKPT*\n",
      "I0521 23:02:44.048286 140480743667456 bert_pos.py:495]   name = bert/encoder/layer_10/attention/self/value/bias:0, shape = (768,), *INIT_FROM_CKPT*\n",
      "I0521 23:02:44.048564 140480743667456 bert_pos.py:495]   name = bert/encoder/layer_10/attention/output/dense/kernel:0, shape = (768, 768), *INIT_FROM_CKPT*\n",
      "I0521 23:02:44.048861 140480743667456 bert_pos.py:495]   name = bert/encoder/layer_10/attention/output/dense/bias:0, shape = (768,), *INIT_FROM_CKPT*\n",
      "I0521 23:02:44.049153 140480743667456 bert_pos.py:495]   name = bert/encoder/layer_10/attention/output/LayerNorm/beta:0, shape = (768,), *INIT_FROM_CKPT*\n",
      "I0521 23:02:44.049432 140480743667456 bert_pos.py:495]   name = bert/encoder/layer_10/attention/output/LayerNorm/gamma:0, shape = (768,), *INIT_FROM_CKPT*\n",
      "I0521 23:02:44.049716 140480743667456 bert_pos.py:495]   name = bert/encoder/layer_10/intermediate/dense/kernel:0, shape = (768, 3072), *INIT_FROM_CKPT*\n",
      "I0521 23:02:44.049997 140480743667456 bert_pos.py:495]   name = bert/encoder/layer_10/intermediate/dense/bias:0, shape = (3072,), *INIT_FROM_CKPT*\n",
      "I0521 23:02:44.050338 140480743667456 bert_pos.py:495]   name = bert/encoder/layer_10/output/dense/kernel:0, shape = (3072, 768), *INIT_FROM_CKPT*\n",
      "I0521 23:02:44.052227 140480743667456 bert_pos.py:495]   name = bert/encoder/layer_10/output/dense/bias:0, shape = (768,), *INIT_FROM_CKPT*\n",
      "I0521 23:02:44.052513 140480743667456 bert_pos.py:495]   name = bert/encoder/layer_10/output/LayerNorm/beta:0, shape = (768,), *INIT_FROM_CKPT*\n",
      "I0521 23:02:44.052789 140480743667456 bert_pos.py:495]   name = bert/encoder/layer_10/output/LayerNorm/gamma:0, shape = (768,), *INIT_FROM_CKPT*\n",
      "I0521 23:02:44.053090 140480743667456 bert_pos.py:495]   name = bert/encoder/layer_11/attention/self/query/kernel:0, shape = (768, 768), *INIT_FROM_CKPT*\n",
      "I0521 23:02:44.053374 140480743667456 bert_pos.py:495]   name = bert/encoder/layer_11/attention/self/query/bias:0, shape = (768,), *INIT_FROM_CKPT*\n",
      "I0521 23:02:44.053647 140480743667456 bert_pos.py:495]   name = bert/encoder/layer_11/attention/self/key/kernel:0, shape = (768, 768), *INIT_FROM_CKPT*\n",
      "I0521 23:02:44.053955 140480743667456 bert_pos.py:495]   name = bert/encoder/layer_11/attention/self/key/bias:0, shape = (768,), *INIT_FROM_CKPT*\n",
      "I0521 23:02:44.054232 140480743667456 bert_pos.py:495]   name = bert/encoder/layer_11/attention/self/value/kernel:0, shape = (768, 768), *INIT_FROM_CKPT*\n",
      "I0521 23:02:44.054535 140480743667456 bert_pos.py:495]   name = bert/encoder/layer_11/attention/self/value/bias:0, shape = (768,), *INIT_FROM_CKPT*\n",
      "I0521 23:02:44.054826 140480743667456 bert_pos.py:495]   name = bert/encoder/layer_11/attention/output/dense/kernel:0, shape = (768, 768), *INIT_FROM_CKPT*\n",
      "I0521 23:02:44.055691 140480743667456 bert_pos.py:495]   name = bert/encoder/layer_11/attention/output/dense/bias:0, shape = (768,), *INIT_FROM_CKPT*\n",
      "I0521 23:02:44.056012 140480743667456 bert_pos.py:495]   name = bert/encoder/layer_11/attention/output/LayerNorm/beta:0, shape = (768,), *INIT_FROM_CKPT*\n",
      "I0521 23:02:44.056297 140480743667456 bert_pos.py:495]   name = bert/encoder/layer_11/attention/output/LayerNorm/gamma:0, shape = (768,), *INIT_FROM_CKPT*\n",
      "I0521 23:02:44.056596 140480743667456 bert_pos.py:495]   name = bert/encoder/layer_11/intermediate/dense/kernel:0, shape = (768, 3072), *INIT_FROM_CKPT*\n",
      "I0521 23:02:44.057183 140480743667456 bert_pos.py:495]   name = bert/encoder/layer_11/intermediate/dense/bias:0, shape = (3072,), *INIT_FROM_CKPT*\n",
      "I0521 23:02:44.057450 140480743667456 bert_pos.py:495]   name = bert/encoder/layer_11/output/dense/kernel:0, shape = (3072, 768), *INIT_FROM_CKPT*\n",
      "I0521 23:02:44.057733 140480743667456 bert_pos.py:495]   name = bert/encoder/layer_11/output/dense/bias:0, shape = (768,), *INIT_FROM_CKPT*\n",
      "I0521 23:02:44.058010 140480743667456 bert_pos.py:495]   name = bert/encoder/layer_11/output/LayerNorm/beta:0, shape = (768,), *INIT_FROM_CKPT*\n",
      "I0521 23:02:44.058316 140480743667456 bert_pos.py:495]   name = bert/encoder/layer_11/output/LayerNorm/gamma:0, shape = (768,), *INIT_FROM_CKPT*\n",
      "I0521 23:02:44.058937 140480743667456 bert_pos.py:495]   name = bert/pooler/dense/kernel:0, shape = (768, 768), *INIT_FROM_CKPT*\n"
     ]
    },
    {
     "name": "stderr",
     "output_type": "stream",
     "text": [
      "I0521 23:02:44.059241 140480743667456 bert_pos.py:495]   name = bert/pooler/dense/bias:0, shape = (768,), *INIT_FROM_CKPT*\n",
      "I0521 23:02:44.059664 140480743667456 bert_pos.py:495]   name = dense_37/kernel:0, shape = (768, 21)\n",
      "I0521 23:02:44.059941 140480743667456 bert_pos.py:495]   name = dense_37/bias:0, shape = (21,)\n",
      "I0521 23:02:44.060263 140480743667456 bert_pos.py:495]   name = crf_loss/transition:0, shape = (21, 21)\n",
      "I0521 23:02:44.060698 140480743667456 estimator.py:1113] Done calling model_fn.\n",
      "I0521 23:02:44.406044 140480743667456 monitored_session.py:222] Graph was finalized.\n",
      "I0521 23:02:44.408295 140480743667456 saver.py:1270] Restoring parameters from ./output/result_dir/model.ckpt-403\n",
      "I0521 23:02:44.883916 140480743667456 session_manager.py:491] Running local_init_op.\n",
      "I0521 23:02:44.927063 140480743667456 session_manager.py:493] Done running local_init_op.\n",
      "I0521 23:02:47.660350 140480743667456 error_handling.py:93] prediction_loop marked as finished\n",
      "I0521 23:02:47.661215 140480743667456 error_handling.py:93] prediction_loop marked as finished\n"
     ]
    }
   ],
   "source": [
    "%run bert_pos.py   \\\n",
    "    --task_name=\"POS\"  \\\n",
    "    --do_lower_case=False \\ # Our dataset is already lower cased!\n",
    "    --crf=False \\\n",
    "    --do_train=True   \\\n",
    "    --do_eval=True   \\\n",
    "    --do_predict=True \\\n",
    "    --data_dir=data   \\\n",
    "    --vocab_file=uncased_L-12_H-768_A-12/vocab.txt  \\\n",
    "    --bert_config_file=uncased_L-12_H-768_A-12/bert_config.json \\\n",
    "    --init_checkpoint=uncased_L-12_H-768_A-12/bert_model.ckpt   \\\n",
    "    --max_seq_length=$MAX_SEQUENCE_LENGTH  \\\n",
    "    --train_batch_size=16   \\\n",
    "    --learning_rate=2e-5   \\\n",
    "    --num_train_epochs=4.0   \\\n",
    "    --output_dir=./output/result_dir"
   ]
  },
  {
   "cell_type": "markdown",
   "metadata": {},
   "source": [
    "# Evaluation"
   ]
  },
  {
   "cell_type": "markdown",
   "metadata": {},
   "source": [
    "## Classification report"
   ]
  },
  {
   "cell_type": "markdown",
   "metadata": {},
   "source": [
    "Results are stored in *'./output/result_dir/'*. Lets see the classification report:"
   ]
  },
  {
   "cell_type": "code",
   "execution_count": 19,
   "metadata": {},
   "outputs": [],
   "source": [
    "predictions ='./output/result_dir/label_test.txt'"
   ]
  },
  {
   "cell_type": "code",
   "execution_count": 20,
   "metadata": {},
   "outputs": [],
   "source": [
    "y_true = []\n",
    "y_pred = []\n",
    "with open(predictions) as fp:\n",
    "    for line in fp:\n",
    "        line = line.split()\n",
    "        if not line[0].startswith('##') and not line[1].startswith('##') :#and not line[2].startswith('##'):\n",
    "            y_true.append(line[1])\n",
    "            y_pred.append(line[2])"
   ]
  },
  {
   "cell_type": "code",
   "execution_count": 21,
   "metadata": {},
   "outputs": [
    {
     "data": {
      "text/plain": [
       "(3408, 3408)"
      ]
     },
     "execution_count": 21,
     "metadata": {},
     "output_type": "execute_result"
    }
   ],
   "source": [
    "len(y_true), len(y_pred)"
   ]
  },
  {
   "cell_type": "code",
   "execution_count": 22,
   "metadata": {},
   "outputs": [
    {
     "name": "stdout",
     "output_type": "stream",
     "text": [
      "\n",
      "------------ Result of Bert fine-tuned model ----------\n",
      "\n",
      "              precision    recall  f1-score   support\n",
      "\n",
      "          ##     0.0000    0.0000    0.0000         0\n",
      "         ADJ     0.9217    0.8929    0.9070       224\n",
      "         ADP     0.9817    0.9877    0.9847       488\n",
      "         ADV     0.9302    0.9160    0.9231       131\n",
      "         AUX     0.9957    1.0000    0.9979       234\n",
      "       CCONJ     0.9896    0.9896    0.9896        96\n",
      "         DET     0.9955    1.0000    0.9977       439\n",
      "        INTJ     1.0000    1.0000    1.0000         2\n",
      "        NOUN     0.9736    0.9788    0.9762       753\n",
      "         NUM     0.9385    1.0000    0.9683        61\n",
      "        PART     0.9565    1.0000    0.9778        66\n",
      "        PRON     1.0000    0.9340    0.9659       106\n",
      "       PROPN     0.9405    0.8778    0.9080        90\n",
      "       PUNCT     1.0000    0.9971    0.9985       339\n",
      "       SCONJ     0.9565    0.8627    0.9072        51\n",
      "        VERB     0.9580    0.9785    0.9681       326\n",
      "           X     1.0000    1.0000    1.0000         2\n",
      "\n",
      "   micro avg     0.9733    0.9733    0.9733      3408\n",
      "   macro avg     0.9140    0.9068    0.9100      3408\n",
      "weighted avg     0.9743    0.9733    0.9737      3408\n",
      "\n"
     ]
    }
   ],
   "source": [
    "name='Bert fine-tuned model'\n",
    "print('\\n------------ Result of {} ----------\\n'.format(name))\n",
    "print(classification_report(y_true, y_pred, digits=4))"
   ]
  },
  {
   "cell_type": "code",
   "execution_count": 23,
   "metadata": {},
   "outputs": [
    {
     "name": "stdout",
     "output_type": "stream",
     "text": [
      "Accuracy: 0.9733\n",
      "f1-macro score: 0.9100\n"
     ]
    }
   ],
   "source": [
    "print(\"Accuracy: {0:.4f}\".format(accuracy_score(y_true, y_pred)))\n",
    "print('f1-macro score: {0:.4f}'.format(f1_score(y_true, y_pred, average='macro')))"
   ]
  },
  {
   "cell_type": "markdown",
   "metadata": {},
   "source": [
    "## Confusion matrix"
   ]
  },
  {
   "cell_type": "code",
   "execution_count": 26,
   "metadata": {},
   "outputs": [
    {
     "data": {
      "image/png": "[encoded data removed]",
      "text/plain": [
       "<Figure size 720x432 with 2 Axes>"
      ]
     },
     "metadata": {
      "needs_background": "light"
     },
     "output_type": "display_data"
    }
   ],
   "source": [
    "tags = sorted(set(y_true+y_pred))\n",
    "cnf_matrix = confusion_matrix(y_true, y_pred)\n",
    "plot_confusion_matrix(f1_score(y_true, y_pred, average='macro'), cnf_matrix, target_names=tags, title=name, normalize=False)"
   ]
  },
  {
   "cell_type": "markdown",
   "metadata": {},
   "source": [
    "## Note"
   ]
  },
  {
   "cell_type": "markdown",
   "metadata": {},
   "source": [
    "**##** label is comming from original-to-tokenized alignment code in function <font color=blue>convert_single_example(ex_index, example, label_list, max_seq_length, tokenizer, mode)</font>  in *bert_pos.py*. Following suggestions from [WordPiece tokenization](https://github.com/google-research/bert) part, for pos tagging task input sentences are converted to the following format:"
   ]
  },
  {
   "cell_type": "code",
   "execution_count": 1,
   "metadata": {},
   "outputs": [],
   "source": [
    "# orig_tokens = [\"John\", \"Johanson\", \"'s\",  \"house\"]\n",
    "# labels      = [\"NNP\",  \"NNP\",      \"POS\", \"NN\"]\n",
    "\n",
    "# bert_tokens = ['[CLS]\", \"john\", \"johan\", \"##son\", \"'\",   \"s\",  \"house\", \"[SEP]\"]\n",
    "# bert_labels = ['[CLS]\", \"NNP\",  \"NNP\",   \"##\",    \"POS\", \"##\", \"NN\",    \"[SEP]\"]"
   ]
  }
 ],
 "metadata": {
  "kernelspec": {
   "display_name": "Python 3",
   "language": "python",
   "name": "python3"
  },
  "language_info": {
   "codemirror_mode": {
    "name": "ipython",
    "version": 3
   },
   "file_extension": ".py",
   "mimetype": "text/x-python",
   "name": "python",
   "nbconvert_exporter": "python",
   "pygments_lexer": "ipython3",
   "version": "3.6.3"
  }
 },
 "nbformat": 4,
 "nbformat_minor": 2
}
